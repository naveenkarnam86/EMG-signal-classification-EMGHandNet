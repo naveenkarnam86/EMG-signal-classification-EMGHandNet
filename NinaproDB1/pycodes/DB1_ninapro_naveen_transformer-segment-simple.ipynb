{
 "cells": [
  {
   "cell_type": "code",
   "execution_count": 1,
   "metadata": {},
   "outputs": [],
   "source": [
    "from __future__ import print_function\n",
    "from matplotlib import pyplot as plt\n",
    "# get_ipython().magic(u'matplotlib auto')\n",
    "import tensorflow as tf\n",
    "# import tensorflow.compat.v1 as tf\n",
    "# tf.disable_v2_behavior()\n",
    "# import torch\n",
    "from tensorflow import keras\n",
    "import statistics"
   ]
  },
  {
   "cell_type": "code",
   "execution_count": 2,
   "metadata": {},
   "outputs": [],
   "source": [
    "# from tensorflow.keras.models import Sequential,Model\n",
    "# from tensorflow.keras.layers import Dense, Dropout, Flatten, Reshape\n",
    "# from tensorflow.keras.layers import Conv2D, MaxPooling2D,Activation\n",
    "# from tensorflow import reshape\n",
    "# from keras.utils import np_utils\n",
    "# from tensorflow.keras.layers import Conv1D,Conv2D, MaxPooling1D,AveragePooling1D\n",
    "# from tensorflow.keras.layers import Input, LocallyConnected1D\n",
    "# from tensorflow.keras.layers import SeparableConv1D, Bidirectional\n",
    "# from tensorflow.keras.layers import LocallyConnected2D\n",
    "# from tensorflow.keras.layers import ZeroPadding2D,ZeroPadding1D, MaxPooling2D, Bidirectional\n",
    "# from tensorflow.keras.regularizers import l2,l1\n",
    "# from tensorflow.keras.layers import BatchNormalization\n",
    "# from tensorflow.keras.callbacks import CSVLogger,LearningRateScheduler\n",
    "# from tensorflow.keras.callbacks import EarlyStopping,ModelCheckpoint"
   ]
  },
  {
   "cell_type": "code",
   "execution_count": 3,
   "metadata": {},
   "outputs": [],
   "source": [
    "from scipy.io import loadmat\n",
    "import numpy as np\n",
    "import pandas as pd\n",
    "import seaborn as sns\n",
    "from numpy import mean\n",
    "from numpy import std\n",
    "# import coremltools\n",
    "# from torch import nn, optim\n",
    "# import torch.nn.functional as F\n",
    "import scipy.io\n",
    "from scipy import stats\n",
    "#from IPython.display import display, HTML\n",
    "from tensorflow.keras import optimizers\n",
    "from tensorflow.keras.layers import LSTM\n",
    "from tensorflow.keras.layers import GRU,SimpleRNN\n",
    "from tensorflow.keras.layers import TimeDistributed\n",
    "from sklearn import metrics\n",
    "from sklearn.metrics import classification_report\n",
    "from sklearn import preprocessing"
   ]
  },
  {
   "cell_type": "code",
   "execution_count": 4,
   "metadata": {},
   "outputs": [],
   "source": [
    "from __future__ import print_function\n",
    "from matplotlib import pyplot as plt\n",
    "# get_ipython().magic(u'matplotlib auto')\n",
    "import tensorflow as tf\n",
    "# import tensorflow.compat.v1 as tf\n",
    "# tf.disable_v2_behavior()\n",
    "# import torch\n",
    "from tensorflow import keras\n",
    "# config = tf.ConfigProto( device_count = {'GPU': 0 } )\n",
    "# sess = tf.Session(config=config)\n",
    "# keras.backend.set_session(sess)\n",
    "from tensorflow.keras.models import Sequential\n",
    "from tensorflow.keras.layers import Dense, Dropout, Flatten, Reshape\n",
    "from tensorflow.keras.layers import Conv2D, MaxPooling2D,Activation\n",
    "from tensorflow import reshape\n",
    "from keras.utils import np_utils\n",
    "from tensorflow.keras.layers import Conv1D,Conv2D, MaxPooling1D,AveragePooling1D\n",
    "from tensorflow.keras.layers import SeparableConv1D, GlobalAveragePooling2D\n",
    "from tensorflow.keras.layers import ZeroPadding2D,ZeroPadding1D, MaxPooling2D, Bidirectional\n",
    "from tensorflow.keras.regularizers import l2,l1\n",
    "from tensorflow.keras.layers import BatchNormalization\n",
    "from tensorflow.keras.callbacks import CSVLogger\n",
    "from tensorflow.keras.callbacks import EarlyStopping,ModelCheckpoint\n",
    "from scipy.io import loadmat\n",
    "import numpy as np\n",
    "import pandas as pd\n",
    "import seaborn as sns\n",
    "from numpy import mean\n",
    "from numpy import std\n",
    "# import coremltools\n",
    "# from torch import nn, optim\n",
    "# import torch.nn.functional as F\n",
    "import scipy.io\n",
    "from scipy import stats\n",
    "from IPython.display import display, HTML\n",
    "from tensorflow.keras import optimizers\n",
    "from tensorflow.keras.layers import LSTM\n",
    "from tensorflow.keras.layers import GRU, SimpleRNN\n",
    "from tensorflow.keras.layers import TimeDistributed\n",
    "from sklearn import metrics\n",
    "from sklearn.metrics import classification_report\n",
    "from sklearn import preprocessing"
   ]
  },
  {
   "cell_type": "code",
   "execution_count": 5,
   "metadata": {},
   "outputs": [],
   "source": [
    "# print(\"Num GPUs Available: \", len(tf.config.list_physical_devices('GPU')))"
   ]
  },
  {
   "cell_type": "code",
   "execution_count": 6,
   "metadata": {},
   "outputs": [],
   "source": [
    "# if tf.test.gpu_device_name(): \n",
    "\n",
    "#     print('Default GPU Device: {}'.format(tf.test.gpu_device_name()))\n",
    "\n",
    "# else:\n",
    "\n",
    "#    print(\"Please install GPU version of TF\")"
   ]
  },
  {
   "cell_type": "code",
   "execution_count": 7,
   "metadata": {},
   "outputs": [],
   "source": [
    "# import psutil\n",
    "# import humanize\n",
    "# # import os\n",
    "# # import GPUtil as GPU\n",
    "# GPUs = GPU.getGPUs()\n",
    "# # XXX: only one GPU on Colab and isn’t guaranteed\n",
    "# gpu = GPUs[0]\n",
    "# def printm():\n",
    "#  process = psutil.Process(os.getpid())\n",
    "#  print(\"Gen RAM Free: \" + humanize.naturalsize( psutil.virtual_memory().available ), \" | Proc size: \" + humanize.naturalsize( process.memory_info().rss))\n",
    "#  print(\"GPU RAM Free: {0:.0f}MB | Used: {1:.0f}MB | Util {2:3.0f}% | Total {3:.0f}MB\".format(gpu.memoryFree, gpu.memoryUsed, gpu.memoryUtil*100, gpu.memoryTotal))\n",
    "# printm()"
   ]
  },
  {
   "cell_type": "code",
   "execution_count": 8,
   "metadata": {},
   "outputs": [],
   "source": [
    "#if tf.test.gpu_device_name():\n",
    "#    print('Default GPU Device: {}'.format(tf.test.gpu_device_name()))\n",
    "#else:\n",
    "#    print(\"Please install GPU version of TF\")"
   ]
  },
  {
   "cell_type": "code",
   "execution_count": 9,
   "metadata": {},
   "outputs": [],
   "source": [
    "#print(tf.test.is_built_with_cuda())"
   ]
  },
  {
   "cell_type": "code",
   "execution_count": 10,
   "metadata": {},
   "outputs": [],
   "source": [
    "#sess = tf.compat.v1.Session(config=tf.compat.v1.ConfigProto(log_device_placement=True))"
   ]
  },
  {
   "cell_type": "code",
   "execution_count": 11,
   "metadata": {},
   "outputs": [],
   "source": [
    "# import tensorflow as tf \n",
    "\n",
    "#if tf.test.gpu_device_name(): \n",
    "#\n",
    "#   print('Default GPU Device:{}'.format(tf.test.gpu_device_name()))\n",
    "\n",
    "#else:\n",
    "\n",
    "#  print(\"Please install GPU version of TF\")"
   ]
  },
  {
   "cell_type": "code",
   "execution_count": 12,
   "metadata": {},
   "outputs": [],
   "source": [
    "#tf.test.gpu_device_name()"
   ]
  },
  {
   "cell_type": "code",
   "execution_count": 13,
   "metadata": {},
   "outputs": [],
   "source": [
    "#gpu_available = tf.config.list_physical_devices('GPU')\n",
    "#is_cuda_gpu_available = tf.test.is_gpu_available(cuda_only=True)\n",
    "#is_cuda_gpu_min_3 = tf.test.is_gpu_available(True, (3,0))\n",
    "#print(is_cuda_gpu_min_3)"
   ]
  },
  {
   "cell_type": "code",
   "execution_count": 14,
   "metadata": {},
   "outputs": [],
   "source": [
    "def show_confusion_matrix(validations, predictions):\n",
    "\n",
    "    matrix = metrics.confusion_matrix(validations, predictions)\n",
    "    plt.figure(figsize=(20, 14))\n",
    "    sns.heatmap(matrix,\n",
    "                cmap='coolwarm',\n",
    "                linecolor='white',\n",
    "                linewidths=1,\n",
    "                xticklabels=LABELS,\n",
    "                yticklabels=LABELS,\n",
    "                annot=True,\n",
    "                fmt='d')\n",
    "    plt.title('Confusion Matrix')\n",
    "    plt.ylabel('True Label')\n",
    "    plt.xlabel('Predicted Label')\n",
    "    plt.show()"
   ]
  },
  {
   "cell_type": "code",
   "execution_count": 15,
   "metadata": {},
   "outputs": [],
   "source": [
    "N_FEATURES = 10"
   ]
  },
  {
   "cell_type": "code",
   "execution_count": 16,
   "metadata": {},
   "outputs": [
    {
     "name": "stdout",
     "output_type": "stream",
     "text": [
      "['C1', 'C2', 'C3', 'C4', 'C5', 'C6', 'C7', 'C8', 'C9', 'C10', 'Class_label']\n"
     ]
    }
   ],
   "source": [
    "column_names = ['C'+str(j) for j in range(1, N_FEATURES+1)]\n",
    "lst = ['Class_label']\n",
    "column_names = column_names+lst\n",
    "print(column_names)"
   ]
  },
  {
   "cell_type": "code",
   "execution_count": 17,
   "metadata": {},
   "outputs": [],
   "source": [
    "def read_data_Train(file_path_Train):\n",
    "    df_Train = pd.read_csv(file_path_Train,header=None,names=column_names)\n",
    "    # Last column has a \";\" character which must be removed ...\n",
    "    df_Train['Class_label'].replace(regex=True,inplace=True,to_replace=r';',value=r'')\n",
    "    # ... and then this column must be transformed to float explicitly\n",
    "    df_Train['Class_label'] = df_Train['Class_label'].apply(convert_to_float)\n",
    "    # This is very important otherwise the model will not fit and loss\n",
    "    # will show up as NAN\n",
    "    df_Train.dropna(axis=0, how='any', inplace=True)\n",
    "    return df_Train"
   ]
  },
  {
   "cell_type": "code",
   "execution_count": 18,
   "metadata": {},
   "outputs": [],
   "source": [
    "def convert_to_float(x):\n",
    "    try:\n",
    "        return float(x)\n",
    "    except:\n",
    "        return np.nan"
   ]
  },
  {
   "cell_type": "code",
   "execution_count": 19,
   "metadata": {},
   "outputs": [],
   "source": [
    "def show_basic_dataframe_info(dataframe):\n",
    "    # Shape and how many rows and columns\n",
    "    print('Number of columns in the dataframe: %i' % (dataframe.shape[1]))\n",
    "    print('Number of rows in the dataframe: %i\\n' % (dataframe.shape[0]))"
   ]
  },
  {
   "cell_type": "code",
   "execution_count": 20,
   "metadata": {},
   "outputs": [],
   "source": [
    "def read_data_Test(file_path_Test):\n",
    "    df_Test = pd.read_csv(file_path_Test,header=None,names=column_names)\n",
    "    # Last column has a \";\" character which must be removed ...\n",
    "    df_Test['Class_label'].replace(regex=True,inplace=True,to_replace=r';',value=r'')\n",
    "    # ... and then this column must be transformed to float explicitly\n",
    "    df_Test['Class_label'] = df_Test['Class_label'].apply(convert_to_float)\n",
    "    # This is very important otherwise the model will not fit and loss\n",
    "    # will show up as NAN\n",
    "    df_Test.dropna(axis=0, how='any', inplace=True)\n",
    "    return df_Test"
   ]
  },
  {
   "cell_type": "code",
   "execution_count": 21,
   "metadata": {},
   "outputs": [],
   "source": [
    " pd.options.display.float_format = \"{:,.5f}\".format"
   ]
  },
  {
   "cell_type": "code",
   "execution_count": 22,
   "metadata": {},
   "outputs": [],
   "source": [
    "# 15 function to segment data into trial lengths (trial length =513 samples in this dataset)\n",
    "def create_segments_and_labels(df, time_steps,step,n_features, label_name):\n",
    "    segments = []\n",
    "    labels = []\n",
    "    for i in range(0, len(df) - time_steps, step):\n",
    "      for j in range(1, n_features+1):\n",
    "        L = ('C'+str(j)) \n",
    "        segments.append(df[str(L)].values[i: i + time_steps])\n",
    "      label = stats.mode(df[label_name][i: i + time_steps])[0][0]\n",
    "      labels.append(label)\n",
    "    reshaped_segments = np.asarray(segments, dtype= np.float32).reshape(-1, time_steps, n_features)\n",
    "    labels = np.asarray(labels)\n",
    "    return reshaped_segments, labels"
   ]
  },
  {
   "cell_type": "code",
   "execution_count": 23,
   "metadata": {},
   "outputs": [],
   "source": [
    "# import os\n",
    "path='/media/naveen/nav/mat_codes/nina_DB1_codes/nina_prep_naveen/Total_process_TT/'"
   ]
  },
  {
   "cell_type": "code",
   "execution_count": 24,
   "metadata": {},
   "outputs": [
    {
     "name": "stdout",
     "output_type": "stream",
     "text": [
      "/media/naveen/nav/mat_codes/nina_DB1_codes/nina_prep_naveen/Total_process_TT/nina_pro_naveen_DB1_Train.csv\n"
     ]
    }
   ],
   "source": [
    "# file_path_train=path+'Train_data'+'.'+'csv'\n",
    "file_path_train=path+'nina_pro_naveen_DB1_Train'+'.'+'csv'\n",
    "print(file_path_train)"
   ]
  },
  {
   "cell_type": "code",
   "execution_count": 25,
   "metadata": {},
   "outputs": [
    {
     "name": "stdout",
     "output_type": "stream",
     "text": [
      "/media/naveen/nav/mat_codes/nina_DB1_codes/nina_prep_naveen/Total_process_TT/nina_pro_naveen_DB1_Test.csv\n"
     ]
    }
   ],
   "source": [
    "file_path_test=path+'nina_pro_naveen_DB1_Test'+'.'+'csv'\n",
    "# file_path_test=path+'Test_data'+'.'+'csv'\n",
    "print(file_path_test)"
   ]
  },
  {
   "cell_type": "code",
   "execution_count": 26,
   "metadata": {},
   "outputs": [
    {
     "name": "stdout",
     "output_type": "stream",
     "text": [
      "Number of columns in the dataframe: 11\n",
      "Number of rows in the dataframe: 4914000\n",
      "\n"
     ]
    },
    {
     "data": {
      "text/html": [
       "<div>\n",
       "<style scoped>\n",
       "    .dataframe tbody tr th:only-of-type {\n",
       "        vertical-align: middle;\n",
       "    }\n",
       "\n",
       "    .dataframe tbody tr th {\n",
       "        vertical-align: top;\n",
       "    }\n",
       "\n",
       "    .dataframe thead th {\n",
       "        text-align: right;\n",
       "    }\n",
       "</style>\n",
       "<table border=\"1\" class=\"dataframe\">\n",
       "  <thead>\n",
       "    <tr style=\"text-align: right;\">\n",
       "      <th></th>\n",
       "      <th>C1</th>\n",
       "      <th>C2</th>\n",
       "      <th>C3</th>\n",
       "      <th>C4</th>\n",
       "      <th>C5</th>\n",
       "      <th>C6</th>\n",
       "      <th>C7</th>\n",
       "      <th>C8</th>\n",
       "      <th>C9</th>\n",
       "      <th>C10</th>\n",
       "      <th>Class_label</th>\n",
       "    </tr>\n",
       "  </thead>\n",
       "  <tbody>\n",
       "    <tr>\n",
       "      <th>0</th>\n",
       "      <td>0.00720</td>\n",
       "      <td>0.00242</td>\n",
       "      <td>0.00493</td>\n",
       "      <td>0.00242</td>\n",
       "      <td>0.00245</td>\n",
       "      <td>0.00241</td>\n",
       "      <td>0.00308</td>\n",
       "      <td>0.01634</td>\n",
       "      <td>0.00241</td>\n",
       "      <td>0.00247</td>\n",
       "      <td>1.00000</td>\n",
       "    </tr>\n",
       "    <tr>\n",
       "      <th>1</th>\n",
       "      <td>0.00836</td>\n",
       "      <td>0.00243</td>\n",
       "      <td>0.00478</td>\n",
       "      <td>0.00242</td>\n",
       "      <td>0.00245</td>\n",
       "      <td>0.00241</td>\n",
       "      <td>0.00312</td>\n",
       "      <td>0.01699</td>\n",
       "      <td>0.00241</td>\n",
       "      <td>0.00247</td>\n",
       "      <td>1.00000</td>\n",
       "    </tr>\n",
       "    <tr>\n",
       "      <th>2</th>\n",
       "      <td>0.00949</td>\n",
       "      <td>0.00243</td>\n",
       "      <td>0.00464</td>\n",
       "      <td>0.00242</td>\n",
       "      <td>0.00246</td>\n",
       "      <td>0.00241</td>\n",
       "      <td>0.00317</td>\n",
       "      <td>0.01762</td>\n",
       "      <td>0.00241</td>\n",
       "      <td>0.00248</td>\n",
       "      <td>1.00000</td>\n",
       "    </tr>\n",
       "    <tr>\n",
       "      <th>3</th>\n",
       "      <td>0.01052</td>\n",
       "      <td>0.00243</td>\n",
       "      <td>0.00451</td>\n",
       "      <td>0.00242</td>\n",
       "      <td>0.00246</td>\n",
       "      <td>0.00241</td>\n",
       "      <td>0.00322</td>\n",
       "      <td>0.01822</td>\n",
       "      <td>0.00242</td>\n",
       "      <td>0.00248</td>\n",
       "      <td>1.00000</td>\n",
       "    </tr>\n",
       "    <tr>\n",
       "      <th>4</th>\n",
       "      <td>0.01142</td>\n",
       "      <td>0.00243</td>\n",
       "      <td>0.00439</td>\n",
       "      <td>0.00242</td>\n",
       "      <td>0.00246</td>\n",
       "      <td>0.00241</td>\n",
       "      <td>0.00327</td>\n",
       "      <td>0.01877</td>\n",
       "      <td>0.00242</td>\n",
       "      <td>0.00248</td>\n",
       "      <td>1.00000</td>\n",
       "    </tr>\n",
       "  </tbody>\n",
       "</table>\n",
       "</div>"
      ],
      "text/plain": [
       "       C1      C2      C3      C4      C5      C6      C7      C8      C9  \\\n",
       "0 0.00720 0.00242 0.00493 0.00242 0.00245 0.00241 0.00308 0.01634 0.00241   \n",
       "1 0.00836 0.00243 0.00478 0.00242 0.00245 0.00241 0.00312 0.01699 0.00241   \n",
       "2 0.00949 0.00243 0.00464 0.00242 0.00246 0.00241 0.00317 0.01762 0.00241   \n",
       "3 0.01052 0.00243 0.00451 0.00242 0.00246 0.00241 0.00322 0.01822 0.00242   \n",
       "4 0.01142 0.00243 0.00439 0.00242 0.00246 0.00241 0.00327 0.01877 0.00242   \n",
       "\n",
       "      C10  Class_label  \n",
       "0 0.00247      1.00000  \n",
       "1 0.00247      1.00000  \n",
       "2 0.00248      1.00000  \n",
       "3 0.00248      1.00000  \n",
       "4 0.00248      1.00000  "
      ]
     },
     "execution_count": 26,
     "metadata": {},
     "output_type": "execute_result"
    }
   ],
   "source": [
    "df_Train=read_data_Train(file_path_train)\n",
    "show_basic_dataframe_info(df_Train)\n",
    "df_Train.head(5)"
   ]
  },
  {
   "cell_type": "code",
   "execution_count": 27,
   "metadata": {},
   "outputs": [
    {
     "data": {
      "image/png": "[encoded data removed]",
      "text/plain": [
       "<Figure size 432x288 with 1 Axes>"
      ]
     },
     "metadata": {
      "needs_background": "light"
     },
     "output_type": "display_data"
    }
   ],
   "source": [
    "df_Train['Class_label'].value_counts().plot(kind='bar',\n",
    "                                   title='Training Samples count for each class')\n",
    "fig_size = plt.rcParams[\"figure.figsize\"]\n",
    "fig_size[0] = 20\n",
    "fig_size[1] = 10\n",
    "plt.rcParams[\"figure.figsize\"] = fig_size\n",
    "plt.ylabel('Total Samples')\n",
    "plt.xlabel('classes')\n",
    "plt.grid(True)\n",
    "plt.autoscale(axis='x',tight=True)"
   ]
  },
  {
   "cell_type": "code",
   "execution_count": 28,
   "metadata": {},
   "outputs": [
    {
     "name": "stdout",
     "output_type": "stream",
     "text": [
      "Number of columns in the dataframe: 11\n",
      "Number of rows in the dataframe: 2106000\n",
      "\n"
     ]
    },
    {
     "data": {
      "text/html": [
       "<div>\n",
       "<style scoped>\n",
       "    .dataframe tbody tr th:only-of-type {\n",
       "        vertical-align: middle;\n",
       "    }\n",
       "\n",
       "    .dataframe tbody tr th {\n",
       "        vertical-align: top;\n",
       "    }\n",
       "\n",
       "    .dataframe thead th {\n",
       "        text-align: right;\n",
       "    }\n",
       "</style>\n",
       "<table border=\"1\" class=\"dataframe\">\n",
       "  <thead>\n",
       "    <tr style=\"text-align: right;\">\n",
       "      <th></th>\n",
       "      <th>C1</th>\n",
       "      <th>C2</th>\n",
       "      <th>C3</th>\n",
       "      <th>C4</th>\n",
       "      <th>C5</th>\n",
       "      <th>C6</th>\n",
       "      <th>C7</th>\n",
       "      <th>C8</th>\n",
       "      <th>C9</th>\n",
       "      <th>C10</th>\n",
       "      <th>Class_label</th>\n",
       "    </tr>\n",
       "  </thead>\n",
       "  <tbody>\n",
       "    <tr>\n",
       "      <th>0</th>\n",
       "      <td>0.03176</td>\n",
       "      <td>0.00247</td>\n",
       "      <td>0.00243</td>\n",
       "      <td>0.00240</td>\n",
       "      <td>0.00244</td>\n",
       "      <td>0.00240</td>\n",
       "      <td>0.00257</td>\n",
       "      <td>0.03562</td>\n",
       "      <td>0.00244</td>\n",
       "      <td>0.00241</td>\n",
       "      <td>1.00000</td>\n",
       "    </tr>\n",
       "    <tr>\n",
       "      <th>1</th>\n",
       "      <td>0.03205</td>\n",
       "      <td>0.00248</td>\n",
       "      <td>0.00244</td>\n",
       "      <td>0.00240</td>\n",
       "      <td>0.00245</td>\n",
       "      <td>0.00240</td>\n",
       "      <td>0.00258</td>\n",
       "      <td>0.03567</td>\n",
       "      <td>0.00244</td>\n",
       "      <td>0.00241</td>\n",
       "      <td>1.00000</td>\n",
       "    </tr>\n",
       "    <tr>\n",
       "      <th>2</th>\n",
       "      <td>0.03234</td>\n",
       "      <td>0.00248</td>\n",
       "      <td>0.00245</td>\n",
       "      <td>0.00240</td>\n",
       "      <td>0.00246</td>\n",
       "      <td>0.00240</td>\n",
       "      <td>0.00259</td>\n",
       "      <td>0.03569</td>\n",
       "      <td>0.00244</td>\n",
       "      <td>0.00241</td>\n",
       "      <td>1.00000</td>\n",
       "    </tr>\n",
       "    <tr>\n",
       "      <th>3</th>\n",
       "      <td>0.03261</td>\n",
       "      <td>0.00249</td>\n",
       "      <td>0.00246</td>\n",
       "      <td>0.00240</td>\n",
       "      <td>0.00246</td>\n",
       "      <td>0.00240</td>\n",
       "      <td>0.00260</td>\n",
       "      <td>0.03570</td>\n",
       "      <td>0.00244</td>\n",
       "      <td>0.00241</td>\n",
       "      <td>1.00000</td>\n",
       "    </tr>\n",
       "    <tr>\n",
       "      <th>4</th>\n",
       "      <td>0.03285</td>\n",
       "      <td>0.00249</td>\n",
       "      <td>0.00246</td>\n",
       "      <td>0.00240</td>\n",
       "      <td>0.00246</td>\n",
       "      <td>0.00240</td>\n",
       "      <td>0.00261</td>\n",
       "      <td>0.03566</td>\n",
       "      <td>0.00245</td>\n",
       "      <td>0.00241</td>\n",
       "      <td>1.00000</td>\n",
       "    </tr>\n",
       "  </tbody>\n",
       "</table>\n",
       "</div>"
      ],
      "text/plain": [
       "       C1      C2      C3      C4      C5      C6      C7      C8      C9  \\\n",
       "0 0.03176 0.00247 0.00243 0.00240 0.00244 0.00240 0.00257 0.03562 0.00244   \n",
       "1 0.03205 0.00248 0.00244 0.00240 0.00245 0.00240 0.00258 0.03567 0.00244   \n",
       "2 0.03234 0.00248 0.00245 0.00240 0.00246 0.00240 0.00259 0.03569 0.00244   \n",
       "3 0.03261 0.00249 0.00246 0.00240 0.00246 0.00240 0.00260 0.03570 0.00244   \n",
       "4 0.03285 0.00249 0.00246 0.00240 0.00246 0.00240 0.00261 0.03566 0.00245   \n",
       "\n",
       "      C10  Class_label  \n",
       "0 0.00241      1.00000  \n",
       "1 0.00241      1.00000  \n",
       "2 0.00241      1.00000  \n",
       "3 0.00241      1.00000  \n",
       "4 0.00241      1.00000  "
      ]
     },
     "execution_count": 28,
     "metadata": {},
     "output_type": "execute_result"
    }
   ],
   "source": [
    "df_Test=read_data_Test(file_path_test)\n",
    "show_basic_dataframe_info(df_Test)\n",
    "df_Test.head(5)"
   ]
  },
  {
   "cell_type": "code",
   "execution_count": 29,
   "metadata": {},
   "outputs": [
    {
     "data": {
      "image/png": "[encoded data removed]",
      "text/plain": [
       "<Figure size 1440x720 with 1 Axes>"
      ]
     },
     "metadata": {
      "needs_background": "light"
     },
     "output_type": "display_data"
    }
   ],
   "source": [
    "df_Test['Class_label'].value_counts().plot(kind='bar',\n",
    "                                   title='Testing Samples count for each class')\n",
    "fig_size = plt.rcParams[\"figure.figsize\"]\n",
    "fig_size[0] = 20\n",
    "fig_size[1] = 10\n",
    "plt.rcParams[\"figure.figsize\"] = fig_size\n",
    "plt.ylabel('Total Samples')\n",
    "plt.xlabel('classes')\n",
    "plt.grid(True)\n",
    "plt.autoscale(axis='x',tight=True)"
   ]
  },
  {
   "cell_type": "code",
   "execution_count": 30,
   "metadata": {},
   "outputs": [
    {
     "data": {
      "text/html": [
       "<div>\n",
       "<style scoped>\n",
       "    .dataframe tbody tr th:only-of-type {\n",
       "        vertical-align: middle;\n",
       "    }\n",
       "\n",
       "    .dataframe tbody tr th {\n",
       "        vertical-align: top;\n",
       "    }\n",
       "\n",
       "    .dataframe thead th {\n",
       "        text-align: right;\n",
       "    }\n",
       "</style>\n",
       "<table border=\"1\" class=\"dataframe\">\n",
       "  <thead>\n",
       "    <tr style=\"text-align: right;\">\n",
       "      <th></th>\n",
       "      <th>C1</th>\n",
       "      <th>C2</th>\n",
       "      <th>C3</th>\n",
       "      <th>C4</th>\n",
       "      <th>C5</th>\n",
       "      <th>C6</th>\n",
       "      <th>C7</th>\n",
       "      <th>C8</th>\n",
       "      <th>C9</th>\n",
       "      <th>C10</th>\n",
       "      <th>Class_label</th>\n",
       "    </tr>\n",
       "  </thead>\n",
       "  <tbody>\n",
       "    <tr>\n",
       "      <th>0</th>\n",
       "      <td>0.00720</td>\n",
       "      <td>0.00242</td>\n",
       "      <td>0.00493</td>\n",
       "      <td>0.00242</td>\n",
       "      <td>0.00245</td>\n",
       "      <td>0.00241</td>\n",
       "      <td>0.00308</td>\n",
       "      <td>0.01634</td>\n",
       "      <td>0.00241</td>\n",
       "      <td>0.00247</td>\n",
       "      <td>1.00000</td>\n",
       "    </tr>\n",
       "    <tr>\n",
       "      <th>1</th>\n",
       "      <td>0.00836</td>\n",
       "      <td>0.00243</td>\n",
       "      <td>0.00478</td>\n",
       "      <td>0.00242</td>\n",
       "      <td>0.00245</td>\n",
       "      <td>0.00241</td>\n",
       "      <td>0.00312</td>\n",
       "      <td>0.01699</td>\n",
       "      <td>0.00241</td>\n",
       "      <td>0.00247</td>\n",
       "      <td>1.00000</td>\n",
       "    </tr>\n",
       "    <tr>\n",
       "      <th>2</th>\n",
       "      <td>0.00949</td>\n",
       "      <td>0.00243</td>\n",
       "      <td>0.00464</td>\n",
       "      <td>0.00242</td>\n",
       "      <td>0.00246</td>\n",
       "      <td>0.00241</td>\n",
       "      <td>0.00317</td>\n",
       "      <td>0.01762</td>\n",
       "      <td>0.00241</td>\n",
       "      <td>0.00248</td>\n",
       "      <td>1.00000</td>\n",
       "    </tr>\n",
       "    <tr>\n",
       "      <th>3</th>\n",
       "      <td>0.01052</td>\n",
       "      <td>0.00243</td>\n",
       "      <td>0.00451</td>\n",
       "      <td>0.00242</td>\n",
       "      <td>0.00246</td>\n",
       "      <td>0.00241</td>\n",
       "      <td>0.00322</td>\n",
       "      <td>0.01822</td>\n",
       "      <td>0.00242</td>\n",
       "      <td>0.00248</td>\n",
       "      <td>1.00000</td>\n",
       "    </tr>\n",
       "    <tr>\n",
       "      <th>4</th>\n",
       "      <td>0.01142</td>\n",
       "      <td>0.00243</td>\n",
       "      <td>0.00439</td>\n",
       "      <td>0.00242</td>\n",
       "      <td>0.00246</td>\n",
       "      <td>0.00241</td>\n",
       "      <td>0.00327</td>\n",
       "      <td>0.01877</td>\n",
       "      <td>0.00242</td>\n",
       "      <td>0.00248</td>\n",
       "      <td>1.00000</td>\n",
       "    </tr>\n",
       "  </tbody>\n",
       "</table>\n",
       "</div>"
      ],
      "text/plain": [
       "       C1      C2      C3      C4      C5      C6      C7      C8      C9  \\\n",
       "0 0.00720 0.00242 0.00493 0.00242 0.00245 0.00241 0.00308 0.01634 0.00241   \n",
       "1 0.00836 0.00243 0.00478 0.00242 0.00245 0.00241 0.00312 0.01699 0.00241   \n",
       "2 0.00949 0.00243 0.00464 0.00242 0.00246 0.00241 0.00317 0.01762 0.00241   \n",
       "3 0.01052 0.00243 0.00451 0.00242 0.00246 0.00241 0.00322 0.01822 0.00242   \n",
       "4 0.01142 0.00243 0.00439 0.00242 0.00246 0.00241 0.00327 0.01877 0.00242   \n",
       "\n",
       "      C10  Class_label  \n",
       "0 0.00247      1.00000  \n",
       "1 0.00247      1.00000  \n",
       "2 0.00248      1.00000  \n",
       "3 0.00248      1.00000  \n",
       "4 0.00248      1.00000  "
      ]
     },
     "execution_count": 30,
     "metadata": {},
     "output_type": "execute_result"
    }
   ],
   "source": [
    "pd.options.display.float_format = \"{:,.5f}\".format\n",
    "df_Train.head(5)"
   ]
  },
  {
   "cell_type": "code",
   "execution_count": 31,
   "metadata": {},
   "outputs": [],
   "source": [
    "scaler = preprocessing.StandardScaler().fit(df_Train.iloc[:,0:N_FEATURES])"
   ]
  },
  {
   "cell_type": "code",
   "execution_count": 32,
   "metadata": {},
   "outputs": [],
   "source": [
    "df_Train.iloc[:,0:N_FEATURES]=scaler.transform(df_Train.iloc[:,0:N_FEATURES])"
   ]
  },
  {
   "cell_type": "code",
   "execution_count": 33,
   "metadata": {},
   "outputs": [
    {
     "data": {
      "text/html": [
       "<div>\n",
       "<style scoped>\n",
       "    .dataframe tbody tr th:only-of-type {\n",
       "        vertical-align: middle;\n",
       "    }\n",
       "\n",
       "    .dataframe tbody tr th {\n",
       "        vertical-align: top;\n",
       "    }\n",
       "\n",
       "    .dataframe thead th {\n",
       "        text-align: right;\n",
       "    }\n",
       "</style>\n",
       "<table border=\"1\" class=\"dataframe\">\n",
       "  <thead>\n",
       "    <tr style=\"text-align: right;\">\n",
       "      <th></th>\n",
       "      <th>C1</th>\n",
       "      <th>C2</th>\n",
       "      <th>C3</th>\n",
       "      <th>C4</th>\n",
       "      <th>C5</th>\n",
       "      <th>C6</th>\n",
       "      <th>C7</th>\n",
       "      <th>C8</th>\n",
       "      <th>C9</th>\n",
       "      <th>C10</th>\n",
       "      <th>Class_label</th>\n",
       "    </tr>\n",
       "  </thead>\n",
       "  <tbody>\n",
       "    <tr>\n",
       "      <th>0</th>\n",
       "      <td>-0.67597</td>\n",
       "      <td>-0.64137</td>\n",
       "      <td>-0.51809</td>\n",
       "      <td>-0.43726</td>\n",
       "      <td>-0.37267</td>\n",
       "      <td>-0.45614</td>\n",
       "      <td>-0.76033</td>\n",
       "      <td>-0.90886</td>\n",
       "      <td>-0.51943</td>\n",
       "      <td>-0.77849</td>\n",
       "      <td>1.00000</td>\n",
       "    </tr>\n",
       "    <tr>\n",
       "      <th>1</th>\n",
       "      <td>-0.67360</td>\n",
       "      <td>-0.64137</td>\n",
       "      <td>-0.51846</td>\n",
       "      <td>-0.43725</td>\n",
       "      <td>-0.37263</td>\n",
       "      <td>-0.45613</td>\n",
       "      <td>-0.76027</td>\n",
       "      <td>-0.90759</td>\n",
       "      <td>-0.51942</td>\n",
       "      <td>-0.77848</td>\n",
       "      <td>1.00000</td>\n",
       "    </tr>\n",
       "    <tr>\n",
       "      <th>2</th>\n",
       "      <td>-0.67130</td>\n",
       "      <td>-0.64136</td>\n",
       "      <td>-0.51882</td>\n",
       "      <td>-0.43725</td>\n",
       "      <td>-0.37260</td>\n",
       "      <td>-0.45613</td>\n",
       "      <td>-0.76019</td>\n",
       "      <td>-0.90634</td>\n",
       "      <td>-0.51942</td>\n",
       "      <td>-0.77847</td>\n",
       "      <td>1.00000</td>\n",
       "    </tr>\n",
       "    <tr>\n",
       "      <th>3</th>\n",
       "      <td>-0.66919</td>\n",
       "      <td>-0.64136</td>\n",
       "      <td>-0.51915</td>\n",
       "      <td>-0.43724</td>\n",
       "      <td>-0.37256</td>\n",
       "      <td>-0.45613</td>\n",
       "      <td>-0.76012</td>\n",
       "      <td>-0.90516</td>\n",
       "      <td>-0.51942</td>\n",
       "      <td>-0.77846</td>\n",
       "      <td>1.00000</td>\n",
       "    </tr>\n",
       "    <tr>\n",
       "      <th>4</th>\n",
       "      <td>-0.66736</td>\n",
       "      <td>-0.64135</td>\n",
       "      <td>-0.51946</td>\n",
       "      <td>-0.43724</td>\n",
       "      <td>-0.37252</td>\n",
       "      <td>-0.45612</td>\n",
       "      <td>-0.76004</td>\n",
       "      <td>-0.90409</td>\n",
       "      <td>-0.51942</td>\n",
       "      <td>-0.77845</td>\n",
       "      <td>1.00000</td>\n",
       "    </tr>\n",
       "  </tbody>\n",
       "</table>\n",
       "</div>"
      ],
      "text/plain": [
       "        C1       C2       C3       C4       C5       C6       C7       C8  \\\n",
       "0 -0.67597 -0.64137 -0.51809 -0.43726 -0.37267 -0.45614 -0.76033 -0.90886   \n",
       "1 -0.67360 -0.64137 -0.51846 -0.43725 -0.37263 -0.45613 -0.76027 -0.90759   \n",
       "2 -0.67130 -0.64136 -0.51882 -0.43725 -0.37260 -0.45613 -0.76019 -0.90634   \n",
       "3 -0.66919 -0.64136 -0.51915 -0.43724 -0.37256 -0.45613 -0.76012 -0.90516   \n",
       "4 -0.66736 -0.64135 -0.51946 -0.43724 -0.37252 -0.45612 -0.76004 -0.90409   \n",
       "\n",
       "        C9      C10  Class_label  \n",
       "0 -0.51943 -0.77849      1.00000  \n",
       "1 -0.51942 -0.77848      1.00000  \n",
       "2 -0.51942 -0.77847      1.00000  \n",
       "3 -0.51942 -0.77846      1.00000  \n",
       "4 -0.51942 -0.77845      1.00000  "
      ]
     },
     "execution_count": 33,
     "metadata": {},
     "output_type": "execute_result"
    }
   ],
   "source": [
    "pd.options.display.float_format = \"{:,.5f}\".format\n",
    "df_Train.head(5)"
   ]
  },
  {
   "cell_type": "code",
   "execution_count": 34,
   "metadata": {},
   "outputs": [
    {
     "data": {
      "text/html": [
       "<div>\n",
       "<style scoped>\n",
       "    .dataframe tbody tr th:only-of-type {\n",
       "        vertical-align: middle;\n",
       "    }\n",
       "\n",
       "    .dataframe tbody tr th {\n",
       "        vertical-align: top;\n",
       "    }\n",
       "\n",
       "    .dataframe thead th {\n",
       "        text-align: right;\n",
       "    }\n",
       "</style>\n",
       "<table border=\"1\" class=\"dataframe\">\n",
       "  <thead>\n",
       "    <tr style=\"text-align: right;\">\n",
       "      <th></th>\n",
       "      <th>C1</th>\n",
       "      <th>C2</th>\n",
       "      <th>C3</th>\n",
       "      <th>C4</th>\n",
       "      <th>C5</th>\n",
       "      <th>C6</th>\n",
       "      <th>C7</th>\n",
       "      <th>C8</th>\n",
       "      <th>C9</th>\n",
       "      <th>C10</th>\n",
       "      <th>Class_label</th>\n",
       "    </tr>\n",
       "  </thead>\n",
       "  <tbody>\n",
       "    <tr>\n",
       "      <th>0</th>\n",
       "      <td>0.03176</td>\n",
       "      <td>0.00247</td>\n",
       "      <td>0.00243</td>\n",
       "      <td>0.00240</td>\n",
       "      <td>0.00244</td>\n",
       "      <td>0.00240</td>\n",
       "      <td>0.00257</td>\n",
       "      <td>0.03562</td>\n",
       "      <td>0.00244</td>\n",
       "      <td>0.00241</td>\n",
       "      <td>1.00000</td>\n",
       "    </tr>\n",
       "    <tr>\n",
       "      <th>1</th>\n",
       "      <td>0.03205</td>\n",
       "      <td>0.00248</td>\n",
       "      <td>0.00244</td>\n",
       "      <td>0.00240</td>\n",
       "      <td>0.00245</td>\n",
       "      <td>0.00240</td>\n",
       "      <td>0.00258</td>\n",
       "      <td>0.03567</td>\n",
       "      <td>0.00244</td>\n",
       "      <td>0.00241</td>\n",
       "      <td>1.00000</td>\n",
       "    </tr>\n",
       "    <tr>\n",
       "      <th>2</th>\n",
       "      <td>0.03234</td>\n",
       "      <td>0.00248</td>\n",
       "      <td>0.00245</td>\n",
       "      <td>0.00240</td>\n",
       "      <td>0.00246</td>\n",
       "      <td>0.00240</td>\n",
       "      <td>0.00259</td>\n",
       "      <td>0.03569</td>\n",
       "      <td>0.00244</td>\n",
       "      <td>0.00241</td>\n",
       "      <td>1.00000</td>\n",
       "    </tr>\n",
       "    <tr>\n",
       "      <th>3</th>\n",
       "      <td>0.03261</td>\n",
       "      <td>0.00249</td>\n",
       "      <td>0.00246</td>\n",
       "      <td>0.00240</td>\n",
       "      <td>0.00246</td>\n",
       "      <td>0.00240</td>\n",
       "      <td>0.00260</td>\n",
       "      <td>0.03570</td>\n",
       "      <td>0.00244</td>\n",
       "      <td>0.00241</td>\n",
       "      <td>1.00000</td>\n",
       "    </tr>\n",
       "    <tr>\n",
       "      <th>4</th>\n",
       "      <td>0.03285</td>\n",
       "      <td>0.00249</td>\n",
       "      <td>0.00246</td>\n",
       "      <td>0.00240</td>\n",
       "      <td>0.00246</td>\n",
       "      <td>0.00240</td>\n",
       "      <td>0.00261</td>\n",
       "      <td>0.03566</td>\n",
       "      <td>0.00245</td>\n",
       "      <td>0.00241</td>\n",
       "      <td>1.00000</td>\n",
       "    </tr>\n",
       "  </tbody>\n",
       "</table>\n",
       "</div>"
      ],
      "text/plain": [
       "       C1      C2      C3      C4      C5      C6      C7      C8      C9  \\\n",
       "0 0.03176 0.00247 0.00243 0.00240 0.00244 0.00240 0.00257 0.03562 0.00244   \n",
       "1 0.03205 0.00248 0.00244 0.00240 0.00245 0.00240 0.00258 0.03567 0.00244   \n",
       "2 0.03234 0.00248 0.00245 0.00240 0.00246 0.00240 0.00259 0.03569 0.00244   \n",
       "3 0.03261 0.00249 0.00246 0.00240 0.00246 0.00240 0.00260 0.03570 0.00244   \n",
       "4 0.03285 0.00249 0.00246 0.00240 0.00246 0.00240 0.00261 0.03566 0.00245   \n",
       "\n",
       "      C10  Class_label  \n",
       "0 0.00241      1.00000  \n",
       "1 0.00241      1.00000  \n",
       "2 0.00241      1.00000  \n",
       "3 0.00241      1.00000  \n",
       "4 0.00241      1.00000  "
      ]
     },
     "execution_count": 34,
     "metadata": {},
     "output_type": "execute_result"
    }
   ],
   "source": [
    "pd.options.display.float_format = \"{:,.5f}\".format\n",
    "df_Test.head(5)"
   ]
  },
  {
   "cell_type": "code",
   "execution_count": 35,
   "metadata": {},
   "outputs": [],
   "source": [
    "df_Test.iloc[:,0:N_FEATURES]=scaler.transform(df_Test.iloc[:,0:N_FEATURES])"
   ]
  },
  {
   "cell_type": "code",
   "execution_count": 36,
   "metadata": {},
   "outputs": [
    {
     "data": {
      "text/html": [
       "<div>\n",
       "<style scoped>\n",
       "    .dataframe tbody tr th:only-of-type {\n",
       "        vertical-align: middle;\n",
       "    }\n",
       "\n",
       "    .dataframe tbody tr th {\n",
       "        vertical-align: top;\n",
       "    }\n",
       "\n",
       "    .dataframe thead th {\n",
       "        text-align: right;\n",
       "    }\n",
       "</style>\n",
       "<table border=\"1\" class=\"dataframe\">\n",
       "  <thead>\n",
       "    <tr style=\"text-align: right;\">\n",
       "      <th></th>\n",
       "      <th>C1</th>\n",
       "      <th>C2</th>\n",
       "      <th>C3</th>\n",
       "      <th>C4</th>\n",
       "      <th>C5</th>\n",
       "      <th>C6</th>\n",
       "      <th>C7</th>\n",
       "      <th>C8</th>\n",
       "      <th>C9</th>\n",
       "      <th>C10</th>\n",
       "      <th>Class_label</th>\n",
       "    </tr>\n",
       "  </thead>\n",
       "  <tbody>\n",
       "    <tr>\n",
       "      <th>0</th>\n",
       "      <td>-0.62585</td>\n",
       "      <td>-0.64122</td>\n",
       "      <td>-0.52438</td>\n",
       "      <td>-0.43732</td>\n",
       "      <td>-0.37277</td>\n",
       "      <td>-0.45618</td>\n",
       "      <td>-0.76115</td>\n",
       "      <td>-0.87110</td>\n",
       "      <td>-0.51936</td>\n",
       "      <td>-0.77862</td>\n",
       "      <td>1.00000</td>\n",
       "    </tr>\n",
       "    <tr>\n",
       "      <th>1</th>\n",
       "      <td>-0.62526</td>\n",
       "      <td>-0.64121</td>\n",
       "      <td>-0.52435</td>\n",
       "      <td>-0.43732</td>\n",
       "      <td>-0.37266</td>\n",
       "      <td>-0.45618</td>\n",
       "      <td>-0.76114</td>\n",
       "      <td>-0.87102</td>\n",
       "      <td>-0.51936</td>\n",
       "      <td>-0.77862</td>\n",
       "      <td>1.00000</td>\n",
       "    </tr>\n",
       "    <tr>\n",
       "      <th>2</th>\n",
       "      <td>-0.62467</td>\n",
       "      <td>-0.64120</td>\n",
       "      <td>-0.52433</td>\n",
       "      <td>-0.43731</td>\n",
       "      <td>-0.37256</td>\n",
       "      <td>-0.45618</td>\n",
       "      <td>-0.76112</td>\n",
       "      <td>-0.87096</td>\n",
       "      <td>-0.51935</td>\n",
       "      <td>-0.77862</td>\n",
       "      <td>1.00000</td>\n",
       "    </tr>\n",
       "    <tr>\n",
       "      <th>3</th>\n",
       "      <td>-0.62412</td>\n",
       "      <td>-0.64119</td>\n",
       "      <td>-0.52432</td>\n",
       "      <td>-0.43731</td>\n",
       "      <td>-0.37252</td>\n",
       "      <td>-0.45618</td>\n",
       "      <td>-0.76110</td>\n",
       "      <td>-0.87095</td>\n",
       "      <td>-0.51935</td>\n",
       "      <td>-0.77862</td>\n",
       "      <td>1.00000</td>\n",
       "    </tr>\n",
       "    <tr>\n",
       "      <th>4</th>\n",
       "      <td>-0.62363</td>\n",
       "      <td>-0.64117</td>\n",
       "      <td>-0.52432</td>\n",
       "      <td>-0.43731</td>\n",
       "      <td>-0.37250</td>\n",
       "      <td>-0.45618</td>\n",
       "      <td>-0.76109</td>\n",
       "      <td>-0.87102</td>\n",
       "      <td>-0.51934</td>\n",
       "      <td>-0.77862</td>\n",
       "      <td>1.00000</td>\n",
       "    </tr>\n",
       "  </tbody>\n",
       "</table>\n",
       "</div>"
      ],
      "text/plain": [
       "        C1       C2       C3       C4       C5       C6       C7       C8  \\\n",
       "0 -0.62585 -0.64122 -0.52438 -0.43732 -0.37277 -0.45618 -0.76115 -0.87110   \n",
       "1 -0.62526 -0.64121 -0.52435 -0.43732 -0.37266 -0.45618 -0.76114 -0.87102   \n",
       "2 -0.62467 -0.64120 -0.52433 -0.43731 -0.37256 -0.45618 -0.76112 -0.87096   \n",
       "3 -0.62412 -0.64119 -0.52432 -0.43731 -0.37252 -0.45618 -0.76110 -0.87095   \n",
       "4 -0.62363 -0.64117 -0.52432 -0.43731 -0.37250 -0.45618 -0.76109 -0.87102   \n",
       "\n",
       "        C9      C10  Class_label  \n",
       "0 -0.51936 -0.77862      1.00000  \n",
       "1 -0.51936 -0.77862      1.00000  \n",
       "2 -0.51935 -0.77862      1.00000  \n",
       "3 -0.51935 -0.77862      1.00000  \n",
       "4 -0.51934 -0.77862      1.00000  "
      ]
     },
     "execution_count": 36,
     "metadata": {},
     "output_type": "execute_result"
    }
   ],
   "source": [
    "pd.options.display.float_format = \"{:,.5f}\".format\n",
    "df_Test.head(5)"
   ]
  },
  {
   "cell_type": "code",
   "execution_count": 37,
   "metadata": {},
   "outputs": [
    {
     "name": "stdout",
     "output_type": "stream",
     "text": [
      "df_train_size               C1       C2       C3       C4       C5       C6       C7  \\\n",
      "0       -0.67597 -0.64137 -0.51809 -0.43726 -0.37267 -0.45614 -0.76033   \n",
      "1       -0.67360 -0.64137 -0.51846 -0.43725 -0.37263 -0.45613 -0.76027   \n",
      "2       -0.67130 -0.64136 -0.51882 -0.43725 -0.37260 -0.45613 -0.76019   \n",
      "3       -0.66919 -0.64136 -0.51915 -0.43724 -0.37256 -0.45613 -0.76012   \n",
      "4       -0.66736 -0.64135 -0.51946 -0.43724 -0.37252 -0.45612 -0.76004   \n",
      "...          ...      ...      ...      ...      ...      ...      ...   \n",
      "4913995 -0.41884 -0.53465 -0.51323 -0.40183 -0.37198 -0.12141 -0.40729   \n",
      "4913996 -0.41807 -0.53565 -0.51350 -0.40268 -0.37201 -0.12358 -0.41240   \n",
      "4913997 -0.41719 -0.53653 -0.51373 -0.40340 -0.37204 -0.12541 -0.41689   \n",
      "4913998 -0.41631 -0.53720 -0.51391 -0.40398 -0.37206 -0.12681 -0.42065   \n",
      "4913999 -0.41548 -0.53759 -0.51405 -0.40443 -0.37207 -0.12785 -0.42364   \n",
      "\n",
      "              C8       C9      C10  Class_label  ActivityEncoded  \n",
      "0       -0.90886 -0.51943 -0.77849      1.00000                0  \n",
      "1       -0.90759 -0.51942 -0.77848      1.00000                0  \n",
      "2       -0.90634 -0.51942 -0.77847      1.00000                0  \n",
      "3       -0.90516 -0.51942 -0.77846      1.00000                0  \n",
      "4       -0.90409 -0.51942 -0.77845      1.00000                0  \n",
      "...          ...      ...      ...          ...              ...  \n",
      "4913995 -0.39564 -0.47499 -0.55484     52.00000               51  \n",
      "4913996 -0.40009 -0.47607 -0.55761     52.00000               51  \n",
      "4913997 -0.40381 -0.47698 -0.56004     52.00000               51  \n",
      "4913998 -0.40668 -0.47770 -0.56206     52.00000               51  \n",
      "4913999 -0.40884 -0.47823 -0.56368     52.00000               51  \n",
      "\n",
      "[4914000 rows x 12 columns]\n",
      "df_test_size               C1       C2       C3       C4       C5       C6       C7  \\\n",
      "0       -0.62585 -0.64122 -0.52438 -0.43732 -0.37277 -0.45618 -0.76115   \n",
      "1       -0.62526 -0.64121 -0.52435 -0.43732 -0.37266 -0.45618 -0.76114   \n",
      "2       -0.62467 -0.64120 -0.52433 -0.43731 -0.37256 -0.45618 -0.76112   \n",
      "3       -0.62412 -0.64119 -0.52432 -0.43731 -0.37252 -0.45618 -0.76110   \n",
      "4       -0.62363 -0.64117 -0.52432 -0.43731 -0.37250 -0.45618 -0.76109   \n",
      "...          ...      ...      ...      ...      ...      ...      ...   \n",
      "2105995 -0.31147 -0.33912 -0.49569 -0.43680 -0.33699  0.00274 -0.12585   \n",
      "2105996 -0.31374 -0.34048 -0.49635 -0.43682 -0.33721  0.00335 -0.13104   \n",
      "2105997 -0.31588 -0.34225 -0.49696 -0.43683 -0.33744  0.00360 -0.13579   \n",
      "2105998 -0.31774 -0.34387 -0.49742 -0.43683 -0.33762  0.00363 -0.13993   \n",
      "2105999 -0.31931 -0.34534 -0.49776 -0.43684 -0.33772  0.00354 -0.14341   \n",
      "\n",
      "              C8       C9      C10  Class_label  ActivityEncoded  \n",
      "0       -0.87110 -0.51936 -0.77862      1.00000                0  \n",
      "1       -0.87102 -0.51936 -0.77862      1.00000                0  \n",
      "2       -0.87096 -0.51935 -0.77862      1.00000                0  \n",
      "3       -0.87095 -0.51935 -0.77862      1.00000                0  \n",
      "4       -0.87102 -0.51934 -0.77862      1.00000                0  \n",
      "...          ...      ...      ...          ...              ...  \n",
      "2105995 -0.17566 -0.49431 -0.23361     52.00000               51  \n",
      "2105996 -0.18463 -0.49491 -0.24163     52.00000               51  \n",
      "2105997 -0.19212 -0.49544 -0.24852     52.00000               51  \n",
      "2105998 -0.19794 -0.49583 -0.25415     52.00000               51  \n",
      "2105999 -0.20227 -0.49608 -0.25854     52.00000               51  \n",
      "\n",
      "[2106000 rows x 12 columns]\n"
     ]
    }
   ],
   "source": [
    "LABEL = 'ActivityEncoded'\n",
    "# Transform the labels from String to Integer via LabelEncoder\n",
    "le = preprocessing.LabelEncoder()\n",
    "# Add a new column to the existing DataFrame with the encoded values\n",
    "df_Train[LABEL] = le.fit_transform(df_Train['Class_label'].values.ravel())\n",
    "# df_Valid[LABEL] = le.fit_transform(df_Valid['Class_label'].values.ravel())\n",
    "df_Test[LABEL] = le.fit_transform(df_Test['Class_label'].values.ravel())\n",
    "print('df_train_size',df_Train)\n",
    "# print('df_valid_size',df_Valid)\n",
    "print('df_test_size',df_Test)"
   ]
  },
  {
   "cell_type": "code",
   "execution_count": 38,
   "metadata": {},
   "outputs": [],
   "source": [
    "# The number of steps within one time segment\n",
    "TIME_PERIODS = 500\n",
    "# The steps to take from one segment to the next; if this value is equal to\n",
    "# TIME_PERIODS, then there is no overlap between the segments\n",
    "STEP_DISTANCE = 500\n",
    "# N_FEATURES = 10"
   ]
  },
  {
   "cell_type": "code",
   "execution_count": 39,
   "metadata": {},
   "outputs": [
    {
     "name": "stdout",
     "output_type": "stream",
     "text": [
      "x_train shape:  (9827, 500, 10)\n",
      "9827 training samples\n",
      "y_train shape:  (9827,)\n",
      "num_time_periods 500\n",
      "num_sensors 10\n",
      "class_list [1.0, 2.0, 3.0, 4.0, 5.0, 6.0, 7.0, 8.0, 9.0, 10.0, 11.0, 12.0, 13.0, 14.0, 15.0, 16.0, 17.0, 18.0, 19.0, 20.0, 21.0, 22.0, 23.0, 24.0, 25.0, 26.0, 27.0, 28.0, 29.0, 30.0, 31.0, 32.0, 33.0, 34.0, 35.0, 36.0, 37.0, 38.0, 39.0, 40.0, 41.0, 42.0, 43.0, 44.0, 45.0, 46.0, 47.0, 48.0, 49.0, 50.0, 51.0, 52.0]\n",
      "x_train shape: (500, 10)\n",
      "[[1. 0. 0. ... 0. 0. 0.]\n",
      " [1. 0. 0. ... 0. 0. 0.]\n",
      " [1. 0. 0. ... 0. 0. 0.]\n",
      " ...\n",
      " [0. 0. 0. ... 0. 0. 1.]\n",
      " [0. 0. 0. ... 0. 0. 1.]\n",
      " [0. 0. 0. ... 0. 0. 1.]]\n",
      "New y_train shape:  (9827, 52)\n"
     ]
    }
   ],
   "source": [
    "x_train, y_train = create_segments_and_labels(df_Train,TIME_PERIODS,STEP_DISTANCE,N_FEATURES,LABEL)\n",
    "print('x_train shape: ', x_train.shape)\n",
    "# print(x_train)\n",
    "print(x_train.shape[0], 'training samples')\n",
    "print('y_train shape: ', y_train.shape)\n",
    "# Set input & output dimensions\n",
    "num_time_periods, num_sensors = x_train.shape[1], x_train.shape[2]\n",
    "print('num_time_periods',num_time_periods)\n",
    "print('num_sensors',num_sensors)\n",
    "num_classes = le.classes_.size\n",
    "print('class_list',list(le.classes_))\n",
    "# input_shape = (num_time_periods,num_sensors)\n",
    "# print(input_shape)\n",
    "input_shape = (num_time_periods,num_sensors)\n",
    "#x_train = x_train.reshape(x_train.shape[0], input_shape)\n",
    "print('x_train shape:', x_train[0].shape)\n",
    "# print('input_shape:', input_shape)\n",
    "x_train = x_train.astype('float32')\n",
    "# x_train = [torch.tensor(arr, dtype=torch.float32) for arr in x_train]\n",
    "# y_train = y_train.astype('float32')\n",
    "# print(y_train)\n",
    "y_train_hot = np_utils.to_categorical(y_train, num_classes)\n",
    "print(y_train_hot)\n",
    "# y_train_hot= [torch.tensor(arr, dtype=torch.uint8) for arr in y_train_hot]\n",
    "print('New y_train shape: ', y_train_hot.shape)"
   ]
  },
  {
   "cell_type": "code",
   "execution_count": 40,
   "metadata": {},
   "outputs": [
    {
     "name": "stdout",
     "output_type": "stream",
     "text": [
      "x_test shape:  (4211, 500, 10)\n",
      "4211 testing samples\n",
      "y_test shape:  (4211,)\n",
      "y_test_hot_shape:  (4211, 52)\n"
     ]
    }
   ],
   "source": [
    "x_test, y_test = create_segments_and_labels(df_Test,TIME_PERIODS,STEP_DISTANCE,N_FEATURES,LABEL)\n",
    "print('x_test shape: ', x_test.shape)\n",
    "# print(x_train)\n",
    "print(x_test.shape[0], 'testing samples')\n",
    "print('y_test shape: ', y_test.shape)\n",
    "# Set input_shape / reshape for Keras\n",
    "#x_test = x_test.reshape(x_test.shape[0], input_shape)\n",
    "x_test = x_test.astype('float32')\n",
    "# y_test = y_test.astype('float32')\n",
    "y_test_hot = np_utils.to_categorical(y_test, num_classes)\n",
    "print('y_test_hot_shape: ', y_test_hot.shape)"
   ]
  },
  {
   "cell_type": "code",
   "execution_count": 41,
   "metadata": {},
   "outputs": [
    {
     "name": "stdout",
     "output_type": "stream",
     "text": [
      "n_outputs 52\n"
     ]
    }
   ],
   "source": [
    "# n_steps, n_length = 20, 25\n",
    "# n_steps, n_length= 10, 50\n",
    "# n_steps, n_length= 16, 32\n",
    "#n_steps, n_length = 20, 25\n",
    "# n_depth=10\n",
    "#x_train = x_train.reshape(x_train.shape[0], n_steps, n_length,n_depth)\n",
    "#print('x_train shape: ', x_train.shape)\n",
    "# x_valid = x_valid.reshape(x_valid.shape[0], n_steps, n_length, n_depth)\n",
    "# print('x_valid shape: ', x_valid.shape)\n",
    "#x_test = x_test.reshape(x_test.shape[0], n_steps, n_length,n_depth)\n",
    "#print('x_test shape: ', x_test.shape)\n",
    "n_outputs = y_train_hot.shape[1]\n",
    "print('n_outputs',n_outputs)\n",
    "# input_shape = (n_steps, n_length,n_depth)"
   ]
  },
  {
   "cell_type": "code",
   "execution_count": 42,
   "metadata": {},
   "outputs": [
    {
     "data": {
      "text/plain": [
       "numpy.ndarray"
      ]
     },
     "execution_count": 42,
     "metadata": {},
     "output_type": "execute_result"
    }
   ],
   "source": [
    "type(x_train)"
   ]
  },
  {
   "cell_type": "code",
   "execution_count": 43,
   "metadata": {},
   "outputs": [
    {
     "data": {
      "text/plain": [
       "numpy.ndarray"
      ]
     },
     "execution_count": 43,
     "metadata": {},
     "output_type": "execute_result"
    }
   ],
   "source": [
    "type(y_train)"
   ]
  },
  {
   "cell_type": "code",
   "execution_count": 44,
   "metadata": {},
   "outputs": [
    {
     "data": {
      "text/plain": [
       "numpy.ndarray"
      ]
     },
     "execution_count": 44,
     "metadata": {},
     "output_type": "execute_result"
    }
   ],
   "source": [
    "type(x_test)"
   ]
  },
  {
   "cell_type": "code",
   "execution_count": 45,
   "metadata": {},
   "outputs": [
    {
     "data": {
      "text/plain": [
       "numpy.ndarray"
      ]
     },
     "execution_count": 45,
     "metadata": {},
     "output_type": "execute_result"
    }
   ],
   "source": [
    "type(y_test)"
   ]
  },
  {
   "cell_type": "code",
   "execution_count": 46,
   "metadata": {},
   "outputs": [],
   "source": [
    "#n_vector =  n_length*n_depth\n",
    "#x_train = x_train.reshape(x_train.shape[0], n_steps, n_vector)\n",
    "#print('x_train shape: ', x_train.shape)\n",
    "#x_test = x_test.reshape(x_test.shape[0], n_steps, n_vector)\n",
    "#print('x_test shape: ', x_test.shape)"
   ]
  },
  {
   "cell_type": "code",
   "execution_count": 47,
   "metadata": {},
   "outputs": [],
   "source": [
    "seq_len = x_train.shape[1]\n",
    "n_channel = x_train.shape[-1]\n",
    "n_vector = 128\n",
    "n_heads = 8\n",
    "ff_dim = 2048\n",
    "N_depth = 4"
   ]
  },
  {
   "cell_type": "code",
   "execution_count": 48,
   "metadata": {},
   "outputs": [],
   "source": [
    "from tensorflow.keras.models import *\n",
    "from tensorflow.keras.layers import *"
   ]
  },
  {
   "cell_type": "code",
   "execution_count": 49,
   "metadata": {},
   "outputs": [],
   "source": [
    "from tensorflow import keras\n",
    "from tensorflow.keras import layers"
   ]
  },
  {
   "cell_type": "code",
   "execution_count": 50,
   "metadata": {},
   "outputs": [],
   "source": [
    "class TransformerBlock(layers.Layer):\n",
    "    def __init__(self, embed_dim, num_heads, ff_dim, rate=0.5):\n",
    "        super(TransformerBlock, self).__init__()\n",
    "        self.att = layers.MultiHeadAttention(num_heads=num_heads, key_dim=embed_dim)\n",
    "        self.ffn = keras.Sequential([layers.Dense(ff_dim, activation=\"relu\"), layers.Dense(embed_dim), ])\n",
    "        self.layernorm1 = layers.LayerNormalization(epsilon=1e-6)\n",
    "        self.layernorm2 = layers.LayerNormalization(epsilon=1e-6)\n",
    "        self.dropout1 = layers.Dropout(rate)\n",
    "        self.dropout2 = layers.Dropout(rate)\n",
    "\n",
    "    def call(self, inputs, training):\n",
    "        attn_output = self.att(inputs, inputs)\n",
    "        attn_output = self.dropout1(attn_output, training=training)\n",
    "        out1 = self.layernorm1(inputs + attn_output)\n",
    "        ffn_output = self.ffn(out1)\n",
    "        ffn_output = self.dropout2(ffn_output, training=training)\n",
    "        out = self.layernorm2(out1 + ffn_output)"
   ]
  },
  {
   "cell_type": "code",
   "execution_count": 51,
   "metadata": {},
   "outputs": [],
   "source": [
    "# 24 Time to vector conversion\n",
    "class Time2Vector(Layer):\n",
    "  def __init__(self, seq_len, **kwargs):\n",
    "    super(Time2Vector, self).__init__()\n",
    "    self.seq_len = seq_len\n",
    "\n",
    "  def build(self, input_shape):\n",
    "    '''Initialize weights and biases with shape (batch, seq_len)'''\n",
    "    self.weights_linear = self.add_weight(name='weight_linear',\n",
    "                                shape=(int(self.seq_len),),\n",
    "                                initializer='uniform',\n",
    "                                trainable=True)\n",
    "    \n",
    "    self.bias_linear = self.add_weight(name='bias_linear',\n",
    "                                shape=(int(self.seq_len),),\n",
    "                                initializer='uniform',\n",
    "                                trainable=True)\n",
    "    \n",
    "    self.weights_periodic = self.add_weight(name='weight_periodic',\n",
    "                                shape=(int(self.seq_len),),\n",
    "                                initializer='uniform',\n",
    "                                trainable=True)\n",
    "\n",
    "    self.bias_periodic = self.add_weight(name='bias_periodic',\n",
    "                                shape=(int(self.seq_len),),\n",
    "                                initializer='uniform',\n",
    "                                trainable=True)\n",
    "\n",
    "  def call(self, x):\n",
    "    '''Calculate linear and periodic time features'''\n",
    "    x = tf.math.reduce_mean(x[:,:,:4], axis=-1) \n",
    "    time_linear = self.weights_linear * x + self.bias_linear # Linear time feature\n",
    "    time_linear = tf.expand_dims(time_linear, axis=-1) # Add dimension (batch, seq_len, 1)\n",
    "    \n",
    "    time_periodic = tf.math.sin(tf.multiply(x, self.weights_periodic) + self.bias_periodic)\n",
    "    time_periodic = tf.expand_dims(time_periodic, axis=-1) # Add dimension (batch, seq_len, 1)\n",
    "    return tf.concat([time_linear, time_periodic], axis=-1) # shape = (batch, seq_len, 2)\n",
    "   \n",
    "  def get_config(self): # Needed for saving and loading model with custom layer\n",
    "    config = super().get_config().copy()\n",
    "    config.update({'seq_len': self.seq_len})\n",
    "    return config"
   ]
  },
  {
   "cell_type": "code",
   "execution_count": 60,
   "metadata": {},
   "outputs": [],
   "source": [
    "# 25 model creation\n",
    "def create_model():\n",
    "  '''Initialize time and transformer layers'''\n",
    "  time_embedding = Time2Vector(seq_len)\n",
    "  transformer_block1 = TransformerBlock(embed_dim = n_vector, num_heads = n_heads, ff_dim=ff_dim)\n",
    "#     '''Construct model'''\n",
    "  in_seq = Input(shape=(seq_len, n_channel))\n",
    "  x = in_seq\n",
    "  x1 = time_embedding(in_seq)\n",
    "  x = Concatenate(axis=-1)([x, x1])\n",
    "#   print(\"x_shape\",x.shape)    \n",
    "  x = Conv1D(n_vector, 9, padding='same', kernel_initializer='he_normal')(x)\n",
    "  x = Conv1D(n_vector, 5, padding='same', kernel_initializer='he_normal')(x)\n",
    "  print(\"x_shape\",x.shape) \n",
    "#   for n in range(N_depth):\n",
    "#     print(\"x_shape\",size(x))\n",
    "  x = transformer_block1(x)\n",
    "\n",
    "#   x = Conv1D(64, 5, padding='same', kernel_initializer='he_normal')(x)\n",
    "#   x = Conv1D(64, 3, padding='same', kernel_initializer='he_normal')(x)     \n",
    "#   print(\"x_shape\",x.shape) \n",
    "  x = Bidirectional(LSTM(200,return_sequences=True))(x)\n",
    "  x = Dropout(0.3)(x)\n",
    "  x = Bidirectional(LSTM(200,return_sequences=True))(x)\n",
    "  x = Dropout(0.3)(x)\n",
    "#   x = GlobalAveragePooling1D(data_format='channels_last')(x)\n",
    "  x = Flatten()(x)\n",
    "  x = Dropout(0.5)(x)\n",
    "  x = Dense(1024, activation='tanh')(x)\n",
    "  x = BatchNormalization(epsilon=1e-06, momentum=0.9, weights=None)(x)\n",
    "  x = Dropout(0.5)(x)  \n",
    "  x = Dense(512, activation='relu')(x)\n",
    "  x = Dropout(0.3)(x)\n",
    "  out = Dense(n_outputs, activation='softmax')(x)\n",
    "  model = Model(inputs=in_seq, outputs=out)\n",
    "  return model"
   ]
  },
  {
   "cell_type": "code",
   "execution_count": 61,
   "metadata": {},
   "outputs": [
    {
     "name": "stdout",
     "output_type": "stream",
     "text": [
      "x_shape (None, 500, 128)\n"
     ]
    },
    {
     "ename": "TypeError",
     "evalue": "Inputs to a layer should be tensors. Got: None",
     "output_type": "error",
     "traceback": [
      "\u001b[0;31m---------------------------------------------------------------------------\u001b[0m",
      "\u001b[0;31mTypeError\u001b[0m                                 Traceback (most recent call last)",
      "\u001b[0;32m<ipython-input-61-4ada26b23e1f>\u001b[0m in \u001b[0;36m<module>\u001b[0;34m\u001b[0m\n\u001b[1;32m      1\u001b[0m \u001b[0;31m# 26 model summary\u001b[0m\u001b[0;34m\u001b[0m\u001b[0;34m\u001b[0m\u001b[0;34m\u001b[0m\u001b[0m\n\u001b[0;32m----> 2\u001b[0;31m \u001b[0mmodel\u001b[0m \u001b[0;34m=\u001b[0m \u001b[0mcreate_model\u001b[0m\u001b[0;34m(\u001b[0m\u001b[0;34m)\u001b[0m\u001b[0;34m\u001b[0m\u001b[0;34m\u001b[0m\u001b[0m\n\u001b[0m\u001b[1;32m      3\u001b[0m \u001b[0mmodel\u001b[0m\u001b[0;34m.\u001b[0m\u001b[0msummary\u001b[0m\u001b[0;34m(\u001b[0m\u001b[0;34m)\u001b[0m\u001b[0;34m\u001b[0m\u001b[0;34m\u001b[0m\u001b[0m\n",
      "\u001b[0;32m<ipython-input-60-003d9ee9679e>\u001b[0m in \u001b[0;36mcreate_model\u001b[0;34m()\u001b[0m\n\u001b[1;32m     20\u001b[0m \u001b[0;31m#   x = Conv1D(64, 3, padding='same', kernel_initializer='he_normal')(x)\u001b[0m\u001b[0;34m\u001b[0m\u001b[0;34m\u001b[0m\u001b[0;34m\u001b[0m\u001b[0m\n\u001b[1;32m     21\u001b[0m \u001b[0;31m#   print(\"x_shape\",x.shape)\u001b[0m\u001b[0;34m\u001b[0m\u001b[0;34m\u001b[0m\u001b[0;34m\u001b[0m\u001b[0m\n\u001b[0;32m---> 22\u001b[0;31m   \u001b[0mx\u001b[0m \u001b[0;34m=\u001b[0m \u001b[0mBidirectional\u001b[0m\u001b[0;34m(\u001b[0m\u001b[0mLSTM\u001b[0m\u001b[0;34m(\u001b[0m\u001b[0;36m200\u001b[0m\u001b[0;34m,\u001b[0m\u001b[0mreturn_sequences\u001b[0m\u001b[0;34m=\u001b[0m\u001b[0;32mTrue\u001b[0m\u001b[0;34m)\u001b[0m\u001b[0;34m)\u001b[0m\u001b[0;34m(\u001b[0m\u001b[0mx\u001b[0m\u001b[0;34m)\u001b[0m\u001b[0;34m\u001b[0m\u001b[0;34m\u001b[0m\u001b[0m\n\u001b[0m\u001b[1;32m     23\u001b[0m   \u001b[0mx\u001b[0m \u001b[0;34m=\u001b[0m \u001b[0mDropout\u001b[0m\u001b[0;34m(\u001b[0m\u001b[0;36m0.3\u001b[0m\u001b[0;34m)\u001b[0m\u001b[0;34m(\u001b[0m\u001b[0mx\u001b[0m\u001b[0;34m)\u001b[0m\u001b[0;34m\u001b[0m\u001b[0;34m\u001b[0m\u001b[0m\n\u001b[1;32m     24\u001b[0m   \u001b[0mx\u001b[0m \u001b[0;34m=\u001b[0m \u001b[0mBidirectional\u001b[0m\u001b[0;34m(\u001b[0m\u001b[0mLSTM\u001b[0m\u001b[0;34m(\u001b[0m\u001b[0;36m200\u001b[0m\u001b[0;34m,\u001b[0m\u001b[0mreturn_sequences\u001b[0m\u001b[0;34m=\u001b[0m\u001b[0;32mTrue\u001b[0m\u001b[0;34m)\u001b[0m\u001b[0;34m)\u001b[0m\u001b[0;34m(\u001b[0m\u001b[0mx\u001b[0m\u001b[0;34m)\u001b[0m\u001b[0;34m\u001b[0m\u001b[0;34m\u001b[0m\u001b[0m\n",
      "\u001b[0;32m~/anaconda3/envs/ds_tf_gpu/lib/python3.9/site-packages/tensorflow/python/keras/layers/wrappers.py\u001b[0m in \u001b[0;36m__call__\u001b[0;34m(self, inputs, initial_state, constants, **kwargs)\u001b[0m\n\u001b[1;32m    537\u001b[0m \u001b[0;34m\u001b[0m\u001b[0m\n\u001b[1;32m    538\u001b[0m     \u001b[0;32mif\u001b[0m \u001b[0minitial_state\u001b[0m \u001b[0;32mis\u001b[0m \u001b[0;32mNone\u001b[0m \u001b[0;32mand\u001b[0m \u001b[0mconstants\u001b[0m \u001b[0;32mis\u001b[0m \u001b[0;32mNone\u001b[0m\u001b[0;34m:\u001b[0m\u001b[0;34m\u001b[0m\u001b[0;34m\u001b[0m\u001b[0m\n\u001b[0;32m--> 539\u001b[0;31m       \u001b[0;32mreturn\u001b[0m \u001b[0msuper\u001b[0m\u001b[0;34m(\u001b[0m\u001b[0mBidirectional\u001b[0m\u001b[0;34m,\u001b[0m \u001b[0mself\u001b[0m\u001b[0;34m)\u001b[0m\u001b[0;34m.\u001b[0m\u001b[0m__call__\u001b[0m\u001b[0;34m(\u001b[0m\u001b[0minputs\u001b[0m\u001b[0;34m,\u001b[0m \u001b[0;34m**\u001b[0m\u001b[0mkwargs\u001b[0m\u001b[0;34m)\u001b[0m\u001b[0;34m\u001b[0m\u001b[0;34m\u001b[0m\u001b[0m\n\u001b[0m\u001b[1;32m    540\u001b[0m \u001b[0;34m\u001b[0m\u001b[0m\n\u001b[1;32m    541\u001b[0m     \u001b[0;31m# Applies the same workaround as in `RNN.__call__`\u001b[0m\u001b[0;34m\u001b[0m\u001b[0;34m\u001b[0m\u001b[0;34m\u001b[0m\u001b[0m\n",
      "\u001b[0;32m~/anaconda3/envs/ds_tf_gpu/lib/python3.9/site-packages/tensorflow/python/keras/engine/base_layer.py\u001b[0m in \u001b[0;36m__call__\u001b[0;34m(self, *args, **kwargs)\u001b[0m\n\u001b[1;32m    949\u001b[0m     \u001b[0;31m# >> model = tf.keras.Model(inputs, outputs)\u001b[0m\u001b[0;34m\u001b[0m\u001b[0;34m\u001b[0m\u001b[0;34m\u001b[0m\u001b[0m\n\u001b[1;32m    950\u001b[0m     \u001b[0;32mif\u001b[0m \u001b[0m_in_functional_construction_mode\u001b[0m\u001b[0;34m(\u001b[0m\u001b[0mself\u001b[0m\u001b[0;34m,\u001b[0m \u001b[0minputs\u001b[0m\u001b[0;34m,\u001b[0m \u001b[0margs\u001b[0m\u001b[0;34m,\u001b[0m \u001b[0mkwargs\u001b[0m\u001b[0;34m,\u001b[0m \u001b[0minput_list\u001b[0m\u001b[0;34m)\u001b[0m\u001b[0;34m:\u001b[0m\u001b[0;34m\u001b[0m\u001b[0;34m\u001b[0m\u001b[0m\n\u001b[0;32m--> 951\u001b[0;31m       return self._functional_construction_call(inputs, args, kwargs,\n\u001b[0m\u001b[1;32m    952\u001b[0m                                                 input_list)\n\u001b[1;32m    953\u001b[0m \u001b[0;34m\u001b[0m\u001b[0m\n",
      "\u001b[0;32m~/anaconda3/envs/ds_tf_gpu/lib/python3.9/site-packages/tensorflow/python/keras/engine/base_layer.py\u001b[0m in \u001b[0;36m_functional_construction_call\u001b[0;34m(self, inputs, args, kwargs, input_list)\u001b[0m\n\u001b[1;32m   1088\u001b[0m           layer=self, inputs=inputs, build_graph=True, training=training_value):\n\u001b[1;32m   1089\u001b[0m         \u001b[0;31m# Check input assumptions set after layer building, e.g. input shape.\u001b[0m\u001b[0;34m\u001b[0m\u001b[0;34m\u001b[0m\u001b[0;34m\u001b[0m\u001b[0m\n\u001b[0;32m-> 1090\u001b[0;31m         outputs = self._keras_tensor_symbolic_call(\n\u001b[0m\u001b[1;32m   1091\u001b[0m             inputs, input_masks, args, kwargs)\n\u001b[1;32m   1092\u001b[0m \u001b[0;34m\u001b[0m\u001b[0m\n",
      "\u001b[0;32m~/anaconda3/envs/ds_tf_gpu/lib/python3.9/site-packages/tensorflow/python/keras/engine/base_layer.py\u001b[0m in \u001b[0;36m_keras_tensor_symbolic_call\u001b[0;34m(self, inputs, input_masks, args, kwargs)\u001b[0m\n\u001b[1;32m    820\u001b[0m       \u001b[0;32mreturn\u001b[0m \u001b[0mnest\u001b[0m\u001b[0;34m.\u001b[0m\u001b[0mmap_structure\u001b[0m\u001b[0;34m(\u001b[0m\u001b[0mkeras_tensor\u001b[0m\u001b[0;34m.\u001b[0m\u001b[0mKerasTensor\u001b[0m\u001b[0;34m,\u001b[0m \u001b[0moutput_signature\u001b[0m\u001b[0;34m)\u001b[0m\u001b[0;34m\u001b[0m\u001b[0;34m\u001b[0m\u001b[0m\n\u001b[1;32m    821\u001b[0m     \u001b[0;32melse\u001b[0m\u001b[0;34m:\u001b[0m\u001b[0;34m\u001b[0m\u001b[0;34m\u001b[0m\u001b[0m\n\u001b[0;32m--> 822\u001b[0;31m       \u001b[0;32mreturn\u001b[0m \u001b[0mself\u001b[0m\u001b[0;34m.\u001b[0m\u001b[0m_infer_output_signature\u001b[0m\u001b[0;34m(\u001b[0m\u001b[0minputs\u001b[0m\u001b[0;34m,\u001b[0m \u001b[0margs\u001b[0m\u001b[0;34m,\u001b[0m \u001b[0mkwargs\u001b[0m\u001b[0;34m,\u001b[0m \u001b[0minput_masks\u001b[0m\u001b[0;34m)\u001b[0m\u001b[0;34m\u001b[0m\u001b[0;34m\u001b[0m\u001b[0m\n\u001b[0m\u001b[1;32m    823\u001b[0m \u001b[0;34m\u001b[0m\u001b[0m\n\u001b[1;32m    824\u001b[0m   \u001b[0;32mdef\u001b[0m \u001b[0m_infer_output_signature\u001b[0m\u001b[0;34m(\u001b[0m\u001b[0mself\u001b[0m\u001b[0;34m,\u001b[0m \u001b[0minputs\u001b[0m\u001b[0;34m,\u001b[0m \u001b[0margs\u001b[0m\u001b[0;34m,\u001b[0m \u001b[0mkwargs\u001b[0m\u001b[0;34m,\u001b[0m \u001b[0minput_masks\u001b[0m\u001b[0;34m)\u001b[0m\u001b[0;34m:\u001b[0m\u001b[0;34m\u001b[0m\u001b[0;34m\u001b[0m\u001b[0m\n",
      "\u001b[0;32m~/anaconda3/envs/ds_tf_gpu/lib/python3.9/site-packages/tensorflow/python/keras/engine/base_layer.py\u001b[0m in \u001b[0;36m_infer_output_signature\u001b[0;34m(self, inputs, args, kwargs, input_masks)\u001b[0m\n\u001b[1;32m    860\u001b[0m           \u001b[0;31m# overridden).\u001b[0m\u001b[0;34m\u001b[0m\u001b[0;34m\u001b[0m\u001b[0;34m\u001b[0m\u001b[0m\n\u001b[1;32m    861\u001b[0m           \u001b[0;31m# TODO(kaftan): do we maybe_build here, or have we already done it?\u001b[0m\u001b[0;34m\u001b[0m\u001b[0;34m\u001b[0m\u001b[0;34m\u001b[0m\u001b[0m\n\u001b[0;32m--> 862\u001b[0;31m           \u001b[0mself\u001b[0m\u001b[0;34m.\u001b[0m\u001b[0m_maybe_build\u001b[0m\u001b[0;34m(\u001b[0m\u001b[0minputs\u001b[0m\u001b[0;34m)\u001b[0m\u001b[0;34m\u001b[0m\u001b[0;34m\u001b[0m\u001b[0m\n\u001b[0m\u001b[1;32m    863\u001b[0m           \u001b[0moutputs\u001b[0m \u001b[0;34m=\u001b[0m \u001b[0mcall_fn\u001b[0m\u001b[0;34m(\u001b[0m\u001b[0minputs\u001b[0m\u001b[0;34m,\u001b[0m \u001b[0;34m*\u001b[0m\u001b[0margs\u001b[0m\u001b[0;34m,\u001b[0m \u001b[0;34m**\u001b[0m\u001b[0mkwargs\u001b[0m\u001b[0;34m)\u001b[0m\u001b[0;34m\u001b[0m\u001b[0;34m\u001b[0m\u001b[0m\n\u001b[1;32m    864\u001b[0m \u001b[0;34m\u001b[0m\u001b[0m\n",
      "\u001b[0;32m~/anaconda3/envs/ds_tf_gpu/lib/python3.9/site-packages/tensorflow/python/keras/engine/base_layer.py\u001b[0m in \u001b[0;36m_maybe_build\u001b[0;34m(self, inputs)\u001b[0m\n\u001b[1;32m   2682\u001b[0m     \u001b[0;31m# Check input assumptions set before layer building, e.g. input rank.\u001b[0m\u001b[0;34m\u001b[0m\u001b[0;34m\u001b[0m\u001b[0;34m\u001b[0m\u001b[0m\n\u001b[1;32m   2683\u001b[0m     \u001b[0;32mif\u001b[0m \u001b[0;32mnot\u001b[0m \u001b[0mself\u001b[0m\u001b[0;34m.\u001b[0m\u001b[0mbuilt\u001b[0m\u001b[0;34m:\u001b[0m\u001b[0;34m\u001b[0m\u001b[0;34m\u001b[0m\u001b[0m\n\u001b[0;32m-> 2684\u001b[0;31m       input_spec.assert_input_compatibility(\n\u001b[0m\u001b[1;32m   2685\u001b[0m           self.input_spec, inputs, self.name)\n\u001b[1;32m   2686\u001b[0m       \u001b[0minput_list\u001b[0m \u001b[0;34m=\u001b[0m \u001b[0mnest\u001b[0m\u001b[0;34m.\u001b[0m\u001b[0mflatten\u001b[0m\u001b[0;34m(\u001b[0m\u001b[0minputs\u001b[0m\u001b[0;34m)\u001b[0m\u001b[0;34m\u001b[0m\u001b[0;34m\u001b[0m\u001b[0m\n",
      "\u001b[0;32m~/anaconda3/envs/ds_tf_gpu/lib/python3.9/site-packages/tensorflow/python/keras/engine/input_spec.py\u001b[0m in \u001b[0;36massert_input_compatibility\u001b[0;34m(input_spec, inputs, layer_name)\u001b[0m\n\u001b[1;32m    199\u001b[0m     \u001b[0;31m# have a `shape` attribute.\u001b[0m\u001b[0;34m\u001b[0m\u001b[0;34m\u001b[0m\u001b[0;34m\u001b[0m\u001b[0m\n\u001b[1;32m    200\u001b[0m     \u001b[0;32mif\u001b[0m \u001b[0;32mnot\u001b[0m \u001b[0mhasattr\u001b[0m\u001b[0;34m(\u001b[0m\u001b[0mx\u001b[0m\u001b[0;34m,\u001b[0m \u001b[0;34m'shape'\u001b[0m\u001b[0;34m)\u001b[0m\u001b[0;34m:\u001b[0m\u001b[0;34m\u001b[0m\u001b[0;34m\u001b[0m\u001b[0m\n\u001b[0;32m--> 201\u001b[0;31m       \u001b[0;32mraise\u001b[0m \u001b[0mTypeError\u001b[0m\u001b[0;34m(\u001b[0m\u001b[0;34m'Inputs to a layer should be tensors. Got: %s'\u001b[0m \u001b[0;34m%\u001b[0m \u001b[0;34m(\u001b[0m\u001b[0mx\u001b[0m\u001b[0;34m,\u001b[0m\u001b[0;34m)\u001b[0m\u001b[0;34m)\u001b[0m\u001b[0;34m\u001b[0m\u001b[0;34m\u001b[0m\u001b[0m\n\u001b[0m\u001b[1;32m    202\u001b[0m \u001b[0;34m\u001b[0m\u001b[0m\n\u001b[1;32m    203\u001b[0m   \u001b[0;32mif\u001b[0m \u001b[0mlen\u001b[0m\u001b[0;34m(\u001b[0m\u001b[0minputs\u001b[0m\u001b[0;34m)\u001b[0m \u001b[0;34m!=\u001b[0m \u001b[0mlen\u001b[0m\u001b[0;34m(\u001b[0m\u001b[0minput_spec\u001b[0m\u001b[0;34m)\u001b[0m\u001b[0;34m:\u001b[0m\u001b[0;34m\u001b[0m\u001b[0;34m\u001b[0m\u001b[0m\n",
      "\u001b[0;31mTypeError\u001b[0m: Inputs to a layer should be tensors. Got: None"
     ]
    }
   ],
   "source": [
    "# 26 model summary\n",
    "model = create_model()\n",
    "model.summary()"
   ]
  },
  {
   "cell_type": "code",
   "execution_count": null,
   "metadata": {},
   "outputs": [],
   "source": [
    "LABELS=[]\n",
    "for i in range(1,n_outputs+1,1):\n",
    "  LABELS.append (i)\n",
    "print(LABELS)"
   ]
  },
  {
   "cell_type": "code",
   "execution_count": null,
   "metadata": {},
   "outputs": [],
   "source": [
    "def step_decay(epoch):\n",
    "  initial_lrate = 1e-5\n",
    "  drop = 0.1\n",
    "  epochs_drop = 70.0\n",
    "  lrate = initial_lrate * tf.math.pow(drop,  \n",
    "          tf.math.floor((1+epoch)/epochs_drop))\n",
    "  return lrate"
   ]
  },
  {
   "cell_type": "code",
   "execution_count": null,
   "metadata": {},
   "outputs": [],
   "source": [
    "lrate = tf.keras.callbacks.LearningRateScheduler(step_decay)"
   ]
  },
  {
   "cell_type": "code",
   "execution_count": null,
   "metadata": {},
   "outputs": [],
   "source": [
    "adam=optimizers.Adam(learning_rate=1e-4, beta_1=0.9, beta_2=0.999, amsgrad=False)\n",
    "checkpoint_filepath = '/media/naveen/nav/mat_codes/nina_DB1_codes/transformer/checkpoint.hdf5'\n",
    "# model.load_weights(checkpoint_filepath) \n",
    "checkpoint_callback = ModelCheckpoint(filepath=checkpoint_filepath,verbose=1, monitor='val_accuracy',save_weights_only=True,save_best_only=True)\n",
    "early = EarlyStopping(monitor='val_loss', min_delta=0, patience=50, verbose=0, mode='auto', baseline=None, restore_best_weights=True)\n",
    "model.compile(optimizer=adam,loss='categorical_crossentropy',metrics=['accuracy'])\n",
    "print(model.summary())"
   ]
  },
  {
   "cell_type": "code",
   "execution_count": null,
   "metadata": {},
   "outputs": [],
   "source": [
    "tf.keras.utils.plot_model(model, to_file='/media/naveen/nav/mat_codes/nina_DB1_codes/transformer/Model1.png',show_shapes=True,show_layer_names=True,dpi=96)"
   ]
  },
  {
   "cell_type": "code",
   "execution_count": null,
   "metadata": {},
   "outputs": [],
   "source": [
    "verbose, epochs, batch_size = 0, 200, 32"
   ]
  },
  {
   "cell_type": "code",
   "execution_count": null,
   "metadata": {},
   "outputs": [],
   "source": [
    "# adam=optimizers.Adam(lr=0.0001, beta_1=0.9, beta_2=0.999, amsgrad=False)\n",
    "# sgd=tfa.optimizers.SGDW(weight_decay=0.0001,learning_rate=0.1, momentum=0.9, nesterov=False, name='SGDW')\n",
    "# sgd=tf.optimizers.SGD(learning_rate=0.1, momentum=0.9, nesterov=False, name='SGD')\n",
    "#     tf.keras.utils.plot_model(model, to_file='/media/naveen/nav/mat_codes/nina_DB1_codes/nina_prep_python/olsson/CNN20X10/Model1.png',show_shapes=True,show_layer_names=True,dpi=96)\n",
    "\n",
    "csv_logger = CSVLogger('/media/naveen/nav/mat_codes/nina_DB1_codes/transformer/CNN_nina_20X10.csv', append=True, separator=';')\n",
    "history = model.fit(x_train, y_train_hot, epochs=epochs, batch_size=batch_size, callbacks=[csv_logger,checkpoint_callback,lrate,early],validation_data=(x_test, y_test_hot), verbose=1)"
   ]
  },
  {
   "cell_type": "code",
   "execution_count": null,
   "metadata": {},
   "outputs": [],
   "source": [
    "best_index = history.history['val_accuracy'].index(max(history.history['val_accuracy']))\n",
    "print('epoch_number',best_index+1)"
   ]
  },
  {
   "cell_type": "code",
   "execution_count": null,
   "metadata": {},
   "outputs": [],
   "source": [
    "print('train accuracy and validation accuracy', history.history['accuracy'][best_index], history.history['val_accuracy'][best_index])\n",
    "model.load_weights(checkpoint_filepath) \n",
    "_, testaccuracy = model.evaluate(x_test, y_test_hot, batch_size=batch_size, verbose=1)\n",
    "print('test_accuracy',testaccuracy)\n",
    "# test_acc.append(testaccuracy)"
   ]
  },
  {
   "cell_type": "code",
   "execution_count": null,
   "metadata": {},
   "outputs": [],
   "source": [
    "model.save('/media/naveen/nav/mat_codes/nina_DB1_codes/nina_prep_naveen/CNN25X20/CNN_LSTM_nina_5X97')"
   ]
  },
  {
   "cell_type": "code",
   "execution_count": null,
   "metadata": {},
   "outputs": [],
   "source": [
    "for i in history.history:\n",
    "    print(\"history\",i)\n",
    "# facecolor='black'\n",
    "DB1a=plt.figure(figsize=(10, 8),edgecolor='black')\n",
    "# ax=figDB4.add_axes((\"left\", \"bottom\", \"width\", \"height\"))\n",
    "ax= DB1a.add_axes((1,1,1,1))\n",
    "ax.spines[\"top\"].set_position((\"outward\", 0))\n",
    "ax.spines[\"bottom\"].set_position((\"data\", 0))\n",
    "ax.spines[\"left\"].set_position((\"axes\", 0))\n",
    "ax.spines[\"right\"].set_position((\"outward\", 0))\n",
    "\n",
    "ax.spines[\"top\"].set_color(\"black\")\n",
    "ax.spines[\"left\"].set_color(\"black\")\n",
    "ax.spines[\"right\"].set_color(\"black\")\n",
    "ax.spines[\"bottom\"].set_color(\"black\")\n",
    "\n",
    "# ax.spines[\"left\"].set_bounds(-.5, .5)\n",
    "# ax.spines[\"right\"].set_linestyle(\"--\")\n",
    "# ax.spines[\"bottom\"].set_linewidth(6)\n",
    "# ax.spines[\"bottom\"].set_capstyle(\"round\")\n",
    "\n",
    "# plt2.rcParams['figure.facecolor'] = 'white'\n",
    "plt.plot(history.history['accuracy'], 'r', label='Accuracy of training data')\n",
    "plt.plot(history.history['val_accuracy'], 'b', label='Accuracy of validation data')\n",
    "plt.title('Model Accuracy')\n",
    "plt.ylabel('Accuracy')\n",
    "plt.xlabel('Training Epoch')\n",
    "\n",
    "# plt2.ylim(0)\n",
    "# plt2.rcParams['figure.facecolor'] = 'white'\n",
    "\n",
    "# ax = fig.add_axes((left, bottom, width, height))\n",
    "ax.set(facecolor=\"white\")\n",
    "# ax.patch.set_alpha(1.0)\n",
    "plt.ylim(0)\n",
    "plt.legend()\n",
    "plt.show()"
   ]
  },
  {
   "cell_type": "code",
   "execution_count": null,
   "metadata": {},
   "outputs": [],
   "source": [
    "for i in history.history:\n",
    "    print(\"history\",i)\n",
    "# facecolor='black'\n",
    "# ax= figDB1.add_axes((1,1,1,1))\n",
    "# ax.spines[\"top\"].set_position((\"outward\", 0))\n",
    "# ax.spines[\"bottom\"].set_position((\"data\", 0))\n",
    "# ax.spines[\"left\"].set_position((\"axes\", 0))\n",
    "# ax.spines[\"right\"].set_position((\"outward\", 0))\n",
    "\n",
    "# ax.spines[\"top\"].set_color(\"black\")\n",
    "# ax.spines[\"left\"].set_color(\"black\")\n",
    "# ax.spines[\"right\"].set_color(\"black\")\n",
    "# ax.spines[\"bottom\"].set_color(\"black\") \n",
    "\n",
    "figDB1=plt.figure(figsize=(10, 8),edgecolor='black')\n",
    "font = {'family' : 'normal',\n",
    "        'weight' : 'bold',\n",
    "        'size'   : 28}\n",
    "\n",
    "plt.rc('font', **font)\n",
    "\n",
    "# SMALL_SIZE = 12\n",
    "# MEDIUM_SIZE = 14\n",
    "# BIGGER_SIZE = 18\n",
    "\n",
    "# figBPR.suptitle('test title', fontsize=20)\n",
    "#plt.rc('xlabel', fontsize=14, weight = 'bold')\n",
    "#plt.rc('ylabel', fontsize=14, weight = 'bold')\n",
    "\n",
    "# plt.rc('font', size=BIGGER_SIZE)          # controls default text sizes\n",
    "# plt.rc('axes', labelsize=MEDIUM_SIZE )     # fontsize of the axes title\n",
    "# plt.rc('axes', labelsize=MEDIUM_SIZE, weight = 'bold')    # fontsize of the x and y labels\n",
    "# plt.rc('xtick', labelsize=MEDIUM_SIZE)    # fontsize of the tick labels\n",
    "# plt.rc('ytick', labelsize=MEDIUM_SIZE)    # fontsize of the tick labels\n",
    "# plt.rc('legend', fontsize=MEDIUM_SIZE)    # legend fontsize\n",
    "# plt.rc('figure', titlesize=BIGGER_SIZE )  # fontsize of the figure title\n",
    "\n",
    "# ax=figDB1.add_axes((\"left\", \"bottom\", \"width\", \"height\"))\n",
    "# ax= figDB1.add_axes((1,1,1,1))\n",
    "# ax.spines[\"top\"].set_position((\"outward\", 0))\n",
    "# ax.spines[\"bottom\"].set_position((\"data\", 0))\n",
    "# ax.spines[\"left\"].set_position((\"axes\", 0))\n",
    "# ax.spines[\"right\"].set_position((\"outward\", 0))\n",
    "\n",
    "# ax.spines[\"top\"].set_color(\"black\")\n",
    "# ax.spines[\"left\"].set_color(\"black\")\n",
    "# ax.spines[\"right\"].set_color(\"black\")\n",
    "# ax.spines[\"bottom\"].set_color(\"black\")\n",
    "\n",
    "# ax.spines[\"left\"].set_bounds(-.5, .5)\n",
    "# ax.spines[\"right\"].set_linestyle(\"--\")\n",
    "ax.spines[\"top\"].set_linewidth(3)\n",
    "ax.spines[\"top\"].set_linestyle(\"-\")\n",
    "ax.spines[\"bottom\"].set_linewidth(3)\n",
    "ax.spines[\"bottom\"].set_linestyle(\"-\")\n",
    "ax.spines[\"left\"].set_linewidth(3)\n",
    "ax.spines[\"left\"].set_linestyle(\"-\")\n",
    "ax.spines[\"right\"].set_linewidth(3)\n",
    "ax.spines[\"right\"].set_linestyle(\"-\")\n",
    "# ax.spines[\"bottom\"].set_capstyle(\"round\")\n",
    "\n",
    "# plt2.rcParams['figure.facecolor'] = 'white'\n",
    "plt.plot(history.history['loss'], 'r-', linewidth=3, label='Loss on training data')\n",
    "plt.plot(history.history['val_loss'], 'b-', linewidth=3, label='Loss on validation data')\n",
    "# plt.title('Loss curve for NinaPro DB1',fontsize=18, weight = 'bold')\n",
    "\n",
    "plt.ylabel('Loss',fontsize=30, weight = 'bold')\n",
    "plt.xlabel('no. of training epochs',fontsize=30, weight = 'bold')\n",
    "# plt2.ylim(0)\n",
    "# plt2.rcParams['figure.facecolor'] = 'white'\n",
    "\n",
    "# ax = fig.add_axes((left, bottom, width, height))\n",
    "ax.set(facecolor=\"white\")\n",
    "# ax.patch.set_alpha(1.0)\n",
    "plt.ylim(0)\n",
    "plt.legend()\n",
    "plt.show()"
   ]
  },
  {
   "cell_type": "code",
   "execution_count": null,
   "metadata": {},
   "outputs": [],
   "source": [
    "figDB1.savefig('/media/naveen/nav/plots/NinaPro_DB1_25X20.eps',transparent=False)\n",
    "# figDB1.savefig('/media/naveen/nav/plots/NinaPro_DB1_25X20.pdf',transparent=False)"
   ]
  },
  {
   "cell_type": "code",
   "execution_count": null,
   "metadata": {},
   "outputs": [],
   "source": [
    "model.load_weights(checkpoint_filepath) \n",
    "_, testaccuracy = model.evaluate(x_test, y_test_hot, batch_size=batch_size, verbose=1)\n",
    "print('test_accuracy',testaccuracy)"
   ]
  },
  {
   "cell_type": "code",
   "execution_count": null,
   "metadata": {},
   "outputs": [],
   "source": [
    "y_pred_train = model.predict(x_train)\n",
    "# Take the class with the highest probability from the train predictions\n",
    "max_y_pred_train = np.argmax(y_pred_train, axis=1)\n",
    "#max_y_train = np.argmax(y_train, axis=1)\n",
    "show_confusion_matrix(y_train, max_y_pred_train)\n",
    "print(classification_report(y_train, max_y_pred_train))"
   ]
  },
  {
   "cell_type": "code",
   "execution_count": null,
   "metadata": {},
   "outputs": [],
   "source": [
    "y_pred_test = model.predict(x_test)\n",
    "# Take the class with the highest probability from the test predictions\n",
    "max_y_pred_test = np.argmax(y_pred_test, axis=1)\n",
    "max_y_test = np.argmax(y_test_hot, axis=1)\n",
    "show_confusion_matrix(max_y_test, max_y_pred_test)\n",
    "print(classification_report(max_y_test, max_y_pred_test))"
   ]
  },
  {
   "cell_type": "code",
   "execution_count": null,
   "metadata": {},
   "outputs": [],
   "source": []
  },
  {
   "cell_type": "code",
   "execution_count": null,
   "metadata": {},
   "outputs": [],
   "source": [
    "# # 25 model creation\n",
    "# def create_model():\n",
    "#   '''Initialize time and transformer layers'''\n",
    "#   time_embedding = Time2Vector(seq_len)\n",
    "#   # print('time_embedding',time_embedding)\n",
    "#   attn_layer1 = TransformerEncoder(d_k, d_v, n_heads, ff_dim)\n",
    "#   attn_layer2 = TransformerEncoder(d_k, d_v, n_heads, ff_dim)\n",
    "#   attn_layer3 = TransformerEncoder(d_k, d_v, n_heads, ff_dim)\n",
    "#   attn_layer4 = TransformerEncoder(d_k, d_v, n_heads, ff_dim)\n",
    "#   attn_layer5 = TransformerEncoder(d_k, d_v, n_heads, ff_dim)\n",
    "\n",
    "#   '''Construct model'''\n",
    "#   in_seq = Input(shape=(seq_len, n_vector))\n",
    "#   x = in_seq\n",
    "#   print(\"x_shape\",x.shape)\n",
    "#   x = time_embedding(in_seq)\n",
    "#   print(\"x1_shape\",x.shape)\n",
    "#   x = Concatenate(axis=-1)([in_seq, x])\n",
    "#   x = attn_layer1((x, x, x))\n",
    "#   x = attn_layer2((x, x, x))\n",
    "# #   x = attn_layer3((x, x, x))\n",
    "# #   x = attn_layer4((x, x, x))\n",
    "# #   x = attn_layer5((x, x, x))\n",
    "# #   x = GlobalAveragePooling1D(data_format='channels_first')(x)\n",
    "# #   x = TimeDistributed(Flatten())(x)\n",
    "# # #   x = Flatten()(x)\n",
    "# #   x = Bidirectional(LSTM(200,return_sequences=True))(x)\n",
    "# #   x = Dropout(0.3)(x)\n",
    "# #   x = Bidirectional(LSTM(200,return_sequences=True))(x)\n",
    "# #   x = Dropout(0.3)(x)\n",
    "# #   x = Flatten()(x)\n",
    "# #   time_embedding1 = Time2Vector(n_vector)\n",
    "# #   y = tf.transpose(x,perm=[0,2, 1])\n",
    "# # #   print(\"y_shape\",y.shape)  \n",
    "# # #   in_seq2 = Input(shape=(n_vector, seq_len))\n",
    "# # #   y = in_seq2\n",
    "# # #   y = time_embedding1(in_seq2)\n",
    "# # #   y = Concatenate(axis=-1)([in_seq2, y])\n",
    "# # #   print(\"y_shape\",y.shape)  \n",
    "# #   y = attn_layer3((y, y, y))\n",
    "# #   y = attn_layer4((y, y, y))\n",
    "    \n",
    "#   x = Flatten()(x)\n",
    "#   x = Dense(2048, activation='tanh')(x)\n",
    "#   x = BatchNormalization(epsilon=1e-06, momentum=0.9, weights=None)(x)\n",
    "# #   x1 = Flatten()(x1)\n",
    "# #   x1 = Dropout(0.1)(x1)\n",
    "# #   x1 = Dense(1024, activation='tanh')(x1)\n",
    "# #   x1 = BatchNormalization(epsilon=1e-06, momentum=0.9, weights=None)(x1)  \n",
    "# #   x1 = Flatten()(x1)  \n",
    "\n",
    "# #   y = Flatten()(y)\n",
    "# #   y = Dense(2048, activation='tanh')(y)\n",
    "# #   y = BatchNormalization(epsilon=1e-06, momentum=0.9, weights=None)(y)\n",
    "# # #   y = Flatten()(y)\n",
    "# # #   y = Dropout(0.1)(y)\n",
    "# # #   y = Dense(1024, activation='tanh')(y)\n",
    "# # #   y = BatchNormalization(epsilon=1e-06, momentum=0.9, weights=None)(y)  \n",
    "# #   y = Flatten()(y) \n",
    "# # #   y = Dropout(0.1)(y)\n",
    "# #   z = concatenate([x1, y])\n",
    "#   x = Dense(1024, activation='tanh')(x)\n",
    "#   x = BatchNormalization(epsilon=1e-06, momentum=0.9, weights=None)(x)\n",
    "#   x = Dense(512, activation='relu')(x)\n",
    "#   x = Dropout(0.1)(x)\n",
    "#   out = Dense(n_outputs, activation='softmax')(x)\n",
    "\n",
    "#   model = Model(inputs=in_seq, outputs=out)\n",
    "#   # adam=optimizers.Adam(lr=0.0001, beta_1=0.9, beta_2=0.999, amsgrad=False)\n",
    "#   # model.compile(loss='categorical_crossentropy', optimizer='adam', metrics=['accuracy'])\n",
    "#   return model"
   ]
  },
  {
   "cell_type": "code",
   "execution_count": null,
   "metadata": {},
   "outputs": [],
   "source": []
  }
 ],
 "metadata": {
  "kernelspec": {
   "display_name": "Python 3",
   "language": "python",
   "name": "python3"
  },
  "language_info": {
   "codemirror_mode": {
    "name": "ipython",
    "version": 3
   },
   "file_extension": ".py",
   "mimetype": "text/x-python",
   "name": "python",
   "nbconvert_exporter": "python",
   "pygments_lexer": "ipython3",
   "version": "3.9.5"
  }
 },
 "nbformat": 4,
 "nbformat_minor": 4
}
