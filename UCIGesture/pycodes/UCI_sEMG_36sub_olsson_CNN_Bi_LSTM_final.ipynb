{
 "cells": [
  {
   "cell_type": "code",
   "execution_count": 1,
   "metadata": {},
   "outputs": [],
   "source": [
    "from __future__ import print_function\n",
    "from matplotlib import pyplot as plt\n",
    "# get_ipython().magic(u'matplotlib auto')\n",
    "import tensorflow as tf\n",
    "# import tensorflow.compat.v1 as tf\n",
    "# tf.disable_v2_behavior()\n",
    "# import torch\n",
    "from tensorflow import keras\n",
    "import statistics"
   ]
  },
  {
   "cell_type": "code",
   "execution_count": 2,
   "metadata": {},
   "outputs": [],
   "source": [
    "from tensorflow.keras.models import Sequential,Model\n",
    "from tensorflow.keras.layers import Dense, Dropout, Flatten, Reshape\n",
    "from tensorflow.keras.layers import Conv2D, MaxPooling2D,Activation\n",
    "from tensorflow import reshape\n",
    "from keras.utils import np_utils\n",
    "from tensorflow.keras.layers import Conv1D,Conv2D, MaxPooling1D,AveragePooling1D\n",
    "from tensorflow.keras.layers import Input, LocallyConnected1D\n",
    "from tensorflow.keras.layers import SeparableConv1D, Bidirectional\n",
    "from tensorflow.keras.layers import LocallyConnected2D\n",
    "from tensorflow.keras.layers import ZeroPadding2D,ZeroPadding1D, MaxPooling2D, Bidirectional\n",
    "from tensorflow.keras.regularizers import l2,l1\n",
    "from tensorflow.keras.layers import BatchNormalization\n",
    "from tensorflow.keras.callbacks import CSVLogger,LearningRateScheduler\n",
    "from tensorflow.keras.callbacks import EarlyStopping,ModelCheckpoint"
   ]
  },
  {
   "cell_type": "code",
   "execution_count": 3,
   "metadata": {},
   "outputs": [],
   "source": [
    "from scipy.io import loadmat\n",
    "import numpy as np\n",
    "import pandas as pd\n",
    "import seaborn as sns\n",
    "from numpy import mean\n",
    "from numpy import std\n",
    "# import coremltools\n",
    "# from torch import nn, optim\n",
    "# import torch.nn.functional as F\n",
    "import scipy.io\n",
    "from scipy import stats\n",
    "#from IPython.display import display, HTML\n",
    "from tensorflow.keras import optimizers\n",
    "from tensorflow.keras.layers import LSTM\n",
    "from tensorflow.keras.layers import GRU,SimpleRNN\n",
    "from tensorflow.keras.layers import TimeDistributed\n",
    "from sklearn import metrics\n",
    "from sklearn.metrics import classification_report\n",
    "from sklearn import preprocessing"
   ]
  },
  {
   "cell_type": "code",
   "execution_count": 4,
   "metadata": {},
   "outputs": [],
   "source": [
    "def show_confusion_matrix(validations, predictions):\n",
    "\n",
    "    matrix = metrics.confusion_matrix(validations, predictions)\n",
    "    plt.figure(figsize=(20, 14))\n",
    "    sns.heatmap(matrix,\n",
    "                cmap='coolwarm',\n",
    "                linecolor='white',\n",
    "                linewidths=1,\n",
    "                xticklabels=LABELS,\n",
    "                yticklabels=LABELS,\n",
    "                annot=True,\n",
    "                fmt='d')\n",
    "    plt.title('Confusion Matrix')\n",
    "    plt.ylabel('True Label')\n",
    "    plt.xlabel('Predicted Label')\n",
    "    plt.show()"
   ]
  },
  {
   "cell_type": "code",
   "execution_count": 5,
   "metadata": {},
   "outputs": [],
   "source": [
    "# The number of steps within one time segment\n",
    "TIME_PERIODS = 1500\n",
    "# The steps to take from one segment to the next; if this value is equal to\n",
    "# TIME_PERIODS, then there is no overlap between the segments\n",
    "STEP_DISTANCE = 1500\n",
    "N_FEATURES = 8"
   ]
  },
  {
   "cell_type": "code",
   "execution_count": 6,
   "metadata": {},
   "outputs": [
    {
     "name": "stdout",
     "output_type": "stream",
     "text": [
      "['C1', 'C2', 'C3', 'C4', 'C5', 'C6', 'C7', 'C8', 'Class_label']\n"
     ]
    }
   ],
   "source": [
    "column_names = ['C'+str(j) for j in range(1, N_FEATURES+1)]\n",
    "lst = ['Class_label']\n",
    "column_names = column_names+lst\n",
    "print(column_names)"
   ]
  },
  {
   "cell_type": "code",
   "execution_count": 7,
   "metadata": {},
   "outputs": [],
   "source": [
    "def read_data_Train(file_path_Train):\n",
    "    df_Train = pd.read_csv(file_path_Train,header=None,names=column_names)\n",
    "    # Last column has a \";\" character which must be removed ...\n",
    "    df_Train['Class_label'].replace(regex=True,inplace=True,to_replace=r';',value=r'')\n",
    "    # ... and then this column must be transformed to float explicitly\n",
    "    df_Train['Class_label'] = df_Train['Class_label'].apply(convert_to_float)\n",
    "    # This is very important otherwise the model will not fit and loss\n",
    "    # will show up as NAN\n",
    "    df_Train.dropna(axis=0, how='any', inplace=True)\n",
    "    return df_Train\n",
    "def convert_to_float(x):\n",
    "    try:\n",
    "        return np.float(x)\n",
    "    except:\n",
    "        return np.nan"
   ]
  },
  {
   "cell_type": "code",
   "execution_count": 8,
   "metadata": {},
   "outputs": [],
   "source": [
    "def show_basic_dataframe_info(dataframe):\n",
    "    # Shape and how many rows and columns\n",
    "    print('Number of columns in the dataframe: %i' % (dataframe.shape[1]))\n",
    "    print('Number of rows in the dataframe: %i\\n' % (dataframe.shape[0]))"
   ]
  },
  {
   "cell_type": "code",
   "execution_count": 9,
   "metadata": {},
   "outputs": [],
   "source": [
    "def read_data_Test(file_path_Test):\n",
    "    df_Test = pd.read_csv(file_path_Test,header=None,names=column_names)\n",
    "    # Last column has a \";\" character which must be removed ...\n",
    "    df_Test['Class_label'].replace(regex=True,inplace=True,to_replace=r';',value=r'')\n",
    "    # ... and then this column must be transformed to float explicitly\n",
    "    df_Test['Class_label'] = df_Test['Class_label'].apply(convert_to_float)\n",
    "    # This is very important otherwise the model will not fit and loss\n",
    "    # will show up as NAN\n",
    "    df_Test.dropna(axis=0, how='any', inplace=True)\n",
    "    return df_Test"
   ]
  },
  {
   "cell_type": "code",
   "execution_count": 10,
   "metadata": {},
   "outputs": [],
   "source": [
    " pd.options.display.float_format = \"{:,.5f}\".format"
   ]
  },
  {
   "cell_type": "code",
   "execution_count": 11,
   "metadata": {},
   "outputs": [],
   "source": [
    "# 15 function to segment data into trial lengths (trial length =513 samples in this dataset)\n",
    "def create_segments_and_labels(df, time_steps,step,n_features, label_name):\n",
    "    segments = []\n",
    "    labels = []\n",
    "    for i in range(0, len(df) - time_steps, step):\n",
    "      for j in range(1, n_features+1):\n",
    "        L = ('C'+str(j)) \n",
    "        segments.append(df[str(L)].values[i: i + time_steps])\n",
    "      label = stats.mode(df[label_name][i: i + time_steps])[0][0]\n",
    "      labels.append(label)\n",
    "    reshaped_segments = np.asarray(segments, dtype= np.float32).reshape(-1, time_steps, n_features)\n",
    "    labels = np.asarray(labels)\n",
    "    return reshaped_segments, labels"
   ]
  },
  {
   "cell_type": "code",
   "execution_count": 12,
   "metadata": {},
   "outputs": [],
   "source": [
    "# import os\n",
    "path='/media/naveen/nav/mat_codes/EMG_data_for_gestures-master/olsson/Total_process_TT/'"
   ]
  },
  {
   "cell_type": "code",
   "execution_count": 13,
   "metadata": {},
   "outputs": [
    {
     "name": "stdout",
     "output_type": "stream",
     "text": [
      "/media/naveen/nav/mat_codes/EMG_data_for_gestures-master/olsson/Total_process_TT/UCI_6c_36s_olsson_train.csv\n"
     ]
    }
   ],
   "source": [
    "# file_path_train=path+'Train_data'+'.'+'csv'\n",
    "file_path_train=path+'UCI_6c_36s_olsson_train'+'.'+'csv'\n",
    "print(file_path_train)"
   ]
  },
  {
   "cell_type": "code",
   "execution_count": 14,
   "metadata": {},
   "outputs": [
    {
     "name": "stdout",
     "output_type": "stream",
     "text": [
      "/media/naveen/nav/mat_codes/EMG_data_for_gestures-master/olsson/Total_process_TT/UCI_6c_36s_olsson_test.csv\n"
     ]
    }
   ],
   "source": [
    "file_path_test=path+'UCI_6c_36s_olsson_test'+'.'+'csv'\n",
    "# file_path_test=path+'Test_data'+'.'+'csv'\n",
    "print(file_path_test)"
   ]
  },
  {
   "cell_type": "code",
   "execution_count": 16,
   "metadata": {},
   "outputs": [
    {
     "name": "stdout",
     "output_type": "stream",
     "text": [
      "Number of columns in the dataframe: 9\n",
      "Number of rows in the dataframe: 972000\n",
      "\n"
     ]
    },
    {
     "data": {
      "text/html": [
       "<div>\n",
       "<style scoped>\n",
       "    .dataframe tbody tr th:only-of-type {\n",
       "        vertical-align: middle;\n",
       "    }\n",
       "\n",
       "    .dataframe tbody tr th {\n",
       "        vertical-align: top;\n",
       "    }\n",
       "\n",
       "    .dataframe thead th {\n",
       "        text-align: right;\n",
       "    }\n",
       "</style>\n",
       "<table border=\"1\" class=\"dataframe\">\n",
       "  <thead>\n",
       "    <tr style=\"text-align: right;\">\n",
       "      <th></th>\n",
       "      <th>C1</th>\n",
       "      <th>C2</th>\n",
       "      <th>C3</th>\n",
       "      <th>C4</th>\n",
       "      <th>C5</th>\n",
       "      <th>C6</th>\n",
       "      <th>C7</th>\n",
       "      <th>C8</th>\n",
       "      <th>Class_label</th>\n",
       "    </tr>\n",
       "  </thead>\n",
       "  <tbody>\n",
       "    <tr>\n",
       "      <th>0</th>\n",
       "      <td>-0.00001</td>\n",
       "      <td>0.00000</td>\n",
       "      <td>-0.00001</td>\n",
       "      <td>0.00000</td>\n",
       "      <td>0.00000</td>\n",
       "      <td>-0.00001</td>\n",
       "      <td>-0.00001</td>\n",
       "      <td>0.00001</td>\n",
       "      <td>1.00000</td>\n",
       "    </tr>\n",
       "    <tr>\n",
       "      <th>1</th>\n",
       "      <td>-0.00001</td>\n",
       "      <td>-0.00002</td>\n",
       "      <td>0.00000</td>\n",
       "      <td>-0.00001</td>\n",
       "      <td>-0.00001</td>\n",
       "      <td>-0.00001</td>\n",
       "      <td>-0.00003</td>\n",
       "      <td>-0.00002</td>\n",
       "      <td>1.00000</td>\n",
       "    </tr>\n",
       "    <tr>\n",
       "      <th>2</th>\n",
       "      <td>-0.00001</td>\n",
       "      <td>-0.00002</td>\n",
       "      <td>0.00000</td>\n",
       "      <td>-0.00001</td>\n",
       "      <td>-0.00001</td>\n",
       "      <td>-0.00001</td>\n",
       "      <td>-0.00003</td>\n",
       "      <td>-0.00002</td>\n",
       "      <td>1.00000</td>\n",
       "    </tr>\n",
       "    <tr>\n",
       "      <th>3</th>\n",
       "      <td>-0.00001</td>\n",
       "      <td>-0.00002</td>\n",
       "      <td>0.00000</td>\n",
       "      <td>-0.00001</td>\n",
       "      <td>-0.00001</td>\n",
       "      <td>-0.00001</td>\n",
       "      <td>-0.00003</td>\n",
       "      <td>-0.00002</td>\n",
       "      <td>1.00000</td>\n",
       "    </tr>\n",
       "    <tr>\n",
       "      <th>4</th>\n",
       "      <td>-0.00001</td>\n",
       "      <td>-0.00002</td>\n",
       "      <td>0.00000</td>\n",
       "      <td>-0.00001</td>\n",
       "      <td>-0.00001</td>\n",
       "      <td>-0.00001</td>\n",
       "      <td>-0.00003</td>\n",
       "      <td>-0.00002</td>\n",
       "      <td>1.00000</td>\n",
       "    </tr>\n",
       "  </tbody>\n",
       "</table>\n",
       "</div>"
      ],
      "text/plain": [
       "        C1       C2       C3       C4       C5       C6       C7       C8  \\\n",
       "0 -0.00001  0.00000 -0.00001  0.00000  0.00000 -0.00001 -0.00001  0.00001   \n",
       "1 -0.00001 -0.00002  0.00000 -0.00001 -0.00001 -0.00001 -0.00003 -0.00002   \n",
       "2 -0.00001 -0.00002  0.00000 -0.00001 -0.00001 -0.00001 -0.00003 -0.00002   \n",
       "3 -0.00001 -0.00002  0.00000 -0.00001 -0.00001 -0.00001 -0.00003 -0.00002   \n",
       "4 -0.00001 -0.00002  0.00000 -0.00001 -0.00001 -0.00001 -0.00003 -0.00002   \n",
       "\n",
       "   Class_label  \n",
       "0      1.00000  \n",
       "1      1.00000  \n",
       "2      1.00000  \n",
       "3      1.00000  \n",
       "4      1.00000  "
      ]
     },
     "execution_count": 16,
     "metadata": {},
     "output_type": "execute_result"
    }
   ],
   "source": [
    "df_Train=read_data_Train(file_path_train)\n",
    "show_basic_dataframe_info(df_Train)\n",
    "df_Train.head(5)"
   ]
  },
  {
   "cell_type": "code",
   "execution_count": 17,
   "metadata": {},
   "outputs": [
    {
     "data": {
      "image/png": "[encoded data removed]",
      "text/plain": [
       "<Figure size 432x288 with 1 Axes>"
      ]
     },
     "metadata": {
      "needs_background": "light"
     },
     "output_type": "display_data"
    }
   ],
   "source": [
    "df_Train['Class_label'].value_counts().plot(kind='bar',\n",
    "                                   title='Training Samples count for each class')\n",
    "fig_size = plt.rcParams[\"figure.figsize\"]\n",
    "fig_size[0] = 20\n",
    "fig_size[1] = 10\n",
    "plt.rcParams[\"figure.figsize\"] = fig_size\n",
    "plt.ylabel('Total Samples')\n",
    "plt.xlabel('classes')\n",
    "plt.grid(True)\n",
    "plt.autoscale(axis='x',tight=True)"
   ]
  },
  {
   "cell_type": "code",
   "execution_count": 18,
   "metadata": {},
   "outputs": [
    {
     "name": "stdout",
     "output_type": "stream",
     "text": [
      "Number of columns in the dataframe: 9\n",
      "Number of rows in the dataframe: 324000\n",
      "\n"
     ]
    },
    {
     "data": {
      "text/html": [
       "<div>\n",
       "<style scoped>\n",
       "    .dataframe tbody tr th:only-of-type {\n",
       "        vertical-align: middle;\n",
       "    }\n",
       "\n",
       "    .dataframe tbody tr th {\n",
       "        vertical-align: top;\n",
       "    }\n",
       "\n",
       "    .dataframe thead th {\n",
       "        text-align: right;\n",
       "    }\n",
       "</style>\n",
       "<table border=\"1\" class=\"dataframe\">\n",
       "  <thead>\n",
       "    <tr style=\"text-align: right;\">\n",
       "      <th></th>\n",
       "      <th>C1</th>\n",
       "      <th>C2</th>\n",
       "      <th>C3</th>\n",
       "      <th>C4</th>\n",
       "      <th>C5</th>\n",
       "      <th>C6</th>\n",
       "      <th>C7</th>\n",
       "      <th>C8</th>\n",
       "      <th>Class_label</th>\n",
       "    </tr>\n",
       "  </thead>\n",
       "  <tbody>\n",
       "    <tr>\n",
       "      <th>0</th>\n",
       "      <td>-0.00003</td>\n",
       "      <td>0.00002</td>\n",
       "      <td>-0.00003</td>\n",
       "      <td>-0.00001</td>\n",
       "      <td>0.00000</td>\n",
       "      <td>0.00000</td>\n",
       "      <td>0.00001</td>\n",
       "      <td>-0.00001</td>\n",
       "      <td>1.00000</td>\n",
       "    </tr>\n",
       "    <tr>\n",
       "      <th>1</th>\n",
       "      <td>-0.00003</td>\n",
       "      <td>0.00002</td>\n",
       "      <td>-0.00003</td>\n",
       "      <td>-0.00001</td>\n",
       "      <td>0.00000</td>\n",
       "      <td>0.00000</td>\n",
       "      <td>0.00001</td>\n",
       "      <td>-0.00001</td>\n",
       "      <td>1.00000</td>\n",
       "    </tr>\n",
       "    <tr>\n",
       "      <th>2</th>\n",
       "      <td>-0.00003</td>\n",
       "      <td>0.00002</td>\n",
       "      <td>-0.00003</td>\n",
       "      <td>-0.00001</td>\n",
       "      <td>0.00000</td>\n",
       "      <td>0.00000</td>\n",
       "      <td>0.00001</td>\n",
       "      <td>-0.00001</td>\n",
       "      <td>1.00000</td>\n",
       "    </tr>\n",
       "    <tr>\n",
       "      <th>3</th>\n",
       "      <td>-0.00003</td>\n",
       "      <td>0.00002</td>\n",
       "      <td>-0.00003</td>\n",
       "      <td>-0.00001</td>\n",
       "      <td>0.00000</td>\n",
       "      <td>0.00000</td>\n",
       "      <td>0.00001</td>\n",
       "      <td>-0.00001</td>\n",
       "      <td>1.00000</td>\n",
       "    </tr>\n",
       "    <tr>\n",
       "      <th>4</th>\n",
       "      <td>-0.00003</td>\n",
       "      <td>0.00002</td>\n",
       "      <td>-0.00003</td>\n",
       "      <td>-0.00001</td>\n",
       "      <td>0.00000</td>\n",
       "      <td>0.00000</td>\n",
       "      <td>0.00001</td>\n",
       "      <td>-0.00001</td>\n",
       "      <td>1.00000</td>\n",
       "    </tr>\n",
       "  </tbody>\n",
       "</table>\n",
       "</div>"
      ],
      "text/plain": [
       "        C1      C2       C3       C4      C5      C6      C7       C8  \\\n",
       "0 -0.00003 0.00002 -0.00003 -0.00001 0.00000 0.00000 0.00001 -0.00001   \n",
       "1 -0.00003 0.00002 -0.00003 -0.00001 0.00000 0.00000 0.00001 -0.00001   \n",
       "2 -0.00003 0.00002 -0.00003 -0.00001 0.00000 0.00000 0.00001 -0.00001   \n",
       "3 -0.00003 0.00002 -0.00003 -0.00001 0.00000 0.00000 0.00001 -0.00001   \n",
       "4 -0.00003 0.00002 -0.00003 -0.00001 0.00000 0.00000 0.00001 -0.00001   \n",
       "\n",
       "   Class_label  \n",
       "0      1.00000  \n",
       "1      1.00000  \n",
       "2      1.00000  \n",
       "3      1.00000  \n",
       "4      1.00000  "
      ]
     },
     "execution_count": 18,
     "metadata": {},
     "output_type": "execute_result"
    }
   ],
   "source": [
    "df_Test=read_data_Test(file_path_test)\n",
    "show_basic_dataframe_info(df_Test)\n",
    "df_Test.head(5)"
   ]
  },
  {
   "cell_type": "code",
   "execution_count": 19,
   "metadata": {},
   "outputs": [
    {
     "data": {
      "image/png": "[encoded data removed]",
      "text/plain": [
       "<Figure size 1440x720 with 1 Axes>"
      ]
     },
     "metadata": {
      "needs_background": "light"
     },
     "output_type": "display_data"
    }
   ],
   "source": [
    "df_Test['Class_label'].value_counts().plot(kind='bar',\n",
    "                                   title='Testing Samples count for each class')\n",
    "fig_size = plt.rcParams[\"figure.figsize\"]\n",
    "fig_size[0] = 20\n",
    "fig_size[1] = 10\n",
    "plt.rcParams[\"figure.figsize\"] = fig_size\n",
    "plt.ylabel('Total Samples')\n",
    "plt.xlabel('classes')\n",
    "plt.grid(True)\n",
    "plt.autoscale(axis='x',tight=True)"
   ]
  },
  {
   "cell_type": "code",
   "execution_count": 20,
   "metadata": {},
   "outputs": [],
   "source": [
    "LABEL = 'ActivityEncoded'\n",
    "# Transform the labels from String to Integer via LabelEncoder\n",
    "le = preprocessing.LabelEncoder()\n",
    "# Add a new column to the existing DataFrame with the encoded values\n",
    "df_Train[LABEL] = le.fit_transform(df_Train['Class_label'].values.ravel())\n",
    "# df_Valid[LABEL] = le.fit_transform(df_Valid['Class_label'].values.ravel())\n",
    "df_Test[LABEL] = le.fit_transform(df_Test['Class_label'].values.ravel())"
   ]
  },
  {
   "cell_type": "code",
   "execution_count": 21,
   "metadata": {},
   "outputs": [
    {
     "data": {
      "text/html": [
       "<div>\n",
       "<style scoped>\n",
       "    .dataframe tbody tr th:only-of-type {\n",
       "        vertical-align: middle;\n",
       "    }\n",
       "\n",
       "    .dataframe tbody tr th {\n",
       "        vertical-align: top;\n",
       "    }\n",
       "\n",
       "    .dataframe thead th {\n",
       "        text-align: right;\n",
       "    }\n",
       "</style>\n",
       "<table border=\"1\" class=\"dataframe\">\n",
       "  <thead>\n",
       "    <tr style=\"text-align: right;\">\n",
       "      <th></th>\n",
       "      <th>C1</th>\n",
       "      <th>C2</th>\n",
       "      <th>C3</th>\n",
       "      <th>C4</th>\n",
       "      <th>C5</th>\n",
       "      <th>C6</th>\n",
       "      <th>C7</th>\n",
       "      <th>C8</th>\n",
       "      <th>Class_label</th>\n",
       "      <th>ActivityEncoded</th>\n",
       "    </tr>\n",
       "  </thead>\n",
       "  <tbody>\n",
       "    <tr>\n",
       "      <th>0</th>\n",
       "      <td>-0.00001</td>\n",
       "      <td>0.00000</td>\n",
       "      <td>-0.00001</td>\n",
       "      <td>0.00000</td>\n",
       "      <td>0.00000</td>\n",
       "      <td>-0.00001</td>\n",
       "      <td>-0.00001</td>\n",
       "      <td>0.00001</td>\n",
       "      <td>1.00000</td>\n",
       "      <td>0</td>\n",
       "    </tr>\n",
       "    <tr>\n",
       "      <th>1</th>\n",
       "      <td>-0.00001</td>\n",
       "      <td>-0.00002</td>\n",
       "      <td>0.00000</td>\n",
       "      <td>-0.00001</td>\n",
       "      <td>-0.00001</td>\n",
       "      <td>-0.00001</td>\n",
       "      <td>-0.00003</td>\n",
       "      <td>-0.00002</td>\n",
       "      <td>1.00000</td>\n",
       "      <td>0</td>\n",
       "    </tr>\n",
       "    <tr>\n",
       "      <th>2</th>\n",
       "      <td>-0.00001</td>\n",
       "      <td>-0.00002</td>\n",
       "      <td>0.00000</td>\n",
       "      <td>-0.00001</td>\n",
       "      <td>-0.00001</td>\n",
       "      <td>-0.00001</td>\n",
       "      <td>-0.00003</td>\n",
       "      <td>-0.00002</td>\n",
       "      <td>1.00000</td>\n",
       "      <td>0</td>\n",
       "    </tr>\n",
       "    <tr>\n",
       "      <th>3</th>\n",
       "      <td>-0.00001</td>\n",
       "      <td>-0.00002</td>\n",
       "      <td>0.00000</td>\n",
       "      <td>-0.00001</td>\n",
       "      <td>-0.00001</td>\n",
       "      <td>-0.00001</td>\n",
       "      <td>-0.00003</td>\n",
       "      <td>-0.00002</td>\n",
       "      <td>1.00000</td>\n",
       "      <td>0</td>\n",
       "    </tr>\n",
       "    <tr>\n",
       "      <th>4</th>\n",
       "      <td>-0.00001</td>\n",
       "      <td>-0.00002</td>\n",
       "      <td>0.00000</td>\n",
       "      <td>-0.00001</td>\n",
       "      <td>-0.00001</td>\n",
       "      <td>-0.00001</td>\n",
       "      <td>-0.00003</td>\n",
       "      <td>-0.00002</td>\n",
       "      <td>1.00000</td>\n",
       "      <td>0</td>\n",
       "    </tr>\n",
       "  </tbody>\n",
       "</table>\n",
       "</div>"
      ],
      "text/plain": [
       "        C1       C2       C3       C4       C5       C6       C7       C8  \\\n",
       "0 -0.00001  0.00000 -0.00001  0.00000  0.00000 -0.00001 -0.00001  0.00001   \n",
       "1 -0.00001 -0.00002  0.00000 -0.00001 -0.00001 -0.00001 -0.00003 -0.00002   \n",
       "2 -0.00001 -0.00002  0.00000 -0.00001 -0.00001 -0.00001 -0.00003 -0.00002   \n",
       "3 -0.00001 -0.00002  0.00000 -0.00001 -0.00001 -0.00001 -0.00003 -0.00002   \n",
       "4 -0.00001 -0.00002  0.00000 -0.00001 -0.00001 -0.00001 -0.00003 -0.00002   \n",
       "\n",
       "   Class_label  ActivityEncoded  \n",
       "0      1.00000                0  \n",
       "1      1.00000                0  \n",
       "2      1.00000                0  \n",
       "3      1.00000                0  \n",
       "4      1.00000                0  "
      ]
     },
     "execution_count": 21,
     "metadata": {},
     "output_type": "execute_result"
    }
   ],
   "source": [
    "pd.options.display.float_format = \"{:,.5f}\".format\n",
    "df_Train.head(5)"
   ]
  },
  {
   "cell_type": "code",
   "execution_count": 22,
   "metadata": {},
   "outputs": [],
   "source": [
    "scaler = preprocessing.StandardScaler().fit(df_Train.iloc[:,0:N_FEATURES])"
   ]
  },
  {
   "cell_type": "code",
   "execution_count": 23,
   "metadata": {},
   "outputs": [],
   "source": [
    "df_Train.iloc[:,0:N_FEATURES]=scaler.transform(df_Train.iloc[:,0:N_FEATURES])"
   ]
  },
  {
   "cell_type": "code",
   "execution_count": 24,
   "metadata": {},
   "outputs": [
    {
     "data": {
      "text/html": [
       "<div>\n",
       "<style scoped>\n",
       "    .dataframe tbody tr th:only-of-type {\n",
       "        vertical-align: middle;\n",
       "    }\n",
       "\n",
       "    .dataframe tbody tr th {\n",
       "        vertical-align: top;\n",
       "    }\n",
       "\n",
       "    .dataframe thead th {\n",
       "        text-align: right;\n",
       "    }\n",
       "</style>\n",
       "<table border=\"1\" class=\"dataframe\">\n",
       "  <thead>\n",
       "    <tr style=\"text-align: right;\">\n",
       "      <th></th>\n",
       "      <th>C1</th>\n",
       "      <th>C2</th>\n",
       "      <th>C3</th>\n",
       "      <th>C4</th>\n",
       "      <th>C5</th>\n",
       "      <th>C6</th>\n",
       "      <th>C7</th>\n",
       "      <th>C8</th>\n",
       "      <th>Class_label</th>\n",
       "      <th>ActivityEncoded</th>\n",
       "    </tr>\n",
       "  </thead>\n",
       "  <tbody>\n",
       "    <tr>\n",
       "      <th>0</th>\n",
       "      <td>-0.00918</td>\n",
       "      <td>0.07347</td>\n",
       "      <td>-0.00537</td>\n",
       "      <td>0.03266</td>\n",
       "      <td>0.05739</td>\n",
       "      <td>0.00585</td>\n",
       "      <td>-0.00049</td>\n",
       "      <td>0.10120</td>\n",
       "      <td>1.00000</td>\n",
       "      <td>0</td>\n",
       "    </tr>\n",
       "    <tr>\n",
       "      <th>1</th>\n",
       "      <td>-0.00918</td>\n",
       "      <td>-0.07394</td>\n",
       "      <td>0.06717</td>\n",
       "      <td>-0.00515</td>\n",
       "      <td>0.02545</td>\n",
       "      <td>0.00585</td>\n",
       "      <td>-0.11263</td>\n",
       "      <td>-0.04816</td>\n",
       "      <td>1.00000</td>\n",
       "      <td>0</td>\n",
       "    </tr>\n",
       "    <tr>\n",
       "      <th>2</th>\n",
       "      <td>-0.00918</td>\n",
       "      <td>-0.07394</td>\n",
       "      <td>0.06717</td>\n",
       "      <td>-0.00515</td>\n",
       "      <td>0.02545</td>\n",
       "      <td>0.00585</td>\n",
       "      <td>-0.11263</td>\n",
       "      <td>-0.04816</td>\n",
       "      <td>1.00000</td>\n",
       "      <td>0</td>\n",
       "    </tr>\n",
       "    <tr>\n",
       "      <th>3</th>\n",
       "      <td>-0.00918</td>\n",
       "      <td>-0.07394</td>\n",
       "      <td>0.06717</td>\n",
       "      <td>-0.00515</td>\n",
       "      <td>0.02545</td>\n",
       "      <td>0.00585</td>\n",
       "      <td>-0.11263</td>\n",
       "      <td>-0.04816</td>\n",
       "      <td>1.00000</td>\n",
       "      <td>0</td>\n",
       "    </tr>\n",
       "    <tr>\n",
       "      <th>4</th>\n",
       "      <td>-0.00918</td>\n",
       "      <td>-0.07394</td>\n",
       "      <td>0.06717</td>\n",
       "      <td>-0.00515</td>\n",
       "      <td>0.02545</td>\n",
       "      <td>0.00585</td>\n",
       "      <td>-0.11263</td>\n",
       "      <td>-0.04816</td>\n",
       "      <td>1.00000</td>\n",
       "      <td>0</td>\n",
       "    </tr>\n",
       "  </tbody>\n",
       "</table>\n",
       "</div>"
      ],
      "text/plain": [
       "        C1       C2       C3       C4      C5      C6       C7       C8  \\\n",
       "0 -0.00918  0.07347 -0.00537  0.03266 0.05739 0.00585 -0.00049  0.10120   \n",
       "1 -0.00918 -0.07394  0.06717 -0.00515 0.02545 0.00585 -0.11263 -0.04816   \n",
       "2 -0.00918 -0.07394  0.06717 -0.00515 0.02545 0.00585 -0.11263 -0.04816   \n",
       "3 -0.00918 -0.07394  0.06717 -0.00515 0.02545 0.00585 -0.11263 -0.04816   \n",
       "4 -0.00918 -0.07394  0.06717 -0.00515 0.02545 0.00585 -0.11263 -0.04816   \n",
       "\n",
       "   Class_label  ActivityEncoded  \n",
       "0      1.00000                0  \n",
       "1      1.00000                0  \n",
       "2      1.00000                0  \n",
       "3      1.00000                0  \n",
       "4      1.00000                0  "
      ]
     },
     "execution_count": 24,
     "metadata": {},
     "output_type": "execute_result"
    }
   ],
   "source": [
    "pd.options.display.float_format = \"{:,.5f}\".format\n",
    "df_Train.head(5)"
   ]
  },
  {
   "cell_type": "code",
   "execution_count": 25,
   "metadata": {},
   "outputs": [
    {
     "data": {
      "text/html": [
       "<div>\n",
       "<style scoped>\n",
       "    .dataframe tbody tr th:only-of-type {\n",
       "        vertical-align: middle;\n",
       "    }\n",
       "\n",
       "    .dataframe tbody tr th {\n",
       "        vertical-align: top;\n",
       "    }\n",
       "\n",
       "    .dataframe thead th {\n",
       "        text-align: right;\n",
       "    }\n",
       "</style>\n",
       "<table border=\"1\" class=\"dataframe\">\n",
       "  <thead>\n",
       "    <tr style=\"text-align: right;\">\n",
       "      <th></th>\n",
       "      <th>C1</th>\n",
       "      <th>C2</th>\n",
       "      <th>C3</th>\n",
       "      <th>C4</th>\n",
       "      <th>C5</th>\n",
       "      <th>C6</th>\n",
       "      <th>C7</th>\n",
       "      <th>C8</th>\n",
       "      <th>Class_label</th>\n",
       "      <th>ActivityEncoded</th>\n",
       "    </tr>\n",
       "  </thead>\n",
       "  <tbody>\n",
       "    <tr>\n",
       "      <th>0</th>\n",
       "      <td>-0.00003</td>\n",
       "      <td>0.00002</td>\n",
       "      <td>-0.00003</td>\n",
       "      <td>-0.00001</td>\n",
       "      <td>0.00000</td>\n",
       "      <td>0.00000</td>\n",
       "      <td>0.00001</td>\n",
       "      <td>-0.00001</td>\n",
       "      <td>1.00000</td>\n",
       "      <td>0</td>\n",
       "    </tr>\n",
       "    <tr>\n",
       "      <th>1</th>\n",
       "      <td>-0.00003</td>\n",
       "      <td>0.00002</td>\n",
       "      <td>-0.00003</td>\n",
       "      <td>-0.00001</td>\n",
       "      <td>0.00000</td>\n",
       "      <td>0.00000</td>\n",
       "      <td>0.00001</td>\n",
       "      <td>-0.00001</td>\n",
       "      <td>1.00000</td>\n",
       "      <td>0</td>\n",
       "    </tr>\n",
       "    <tr>\n",
       "      <th>2</th>\n",
       "      <td>-0.00003</td>\n",
       "      <td>0.00002</td>\n",
       "      <td>-0.00003</td>\n",
       "      <td>-0.00001</td>\n",
       "      <td>0.00000</td>\n",
       "      <td>0.00000</td>\n",
       "      <td>0.00001</td>\n",
       "      <td>-0.00001</td>\n",
       "      <td>1.00000</td>\n",
       "      <td>0</td>\n",
       "    </tr>\n",
       "    <tr>\n",
       "      <th>3</th>\n",
       "      <td>-0.00003</td>\n",
       "      <td>0.00002</td>\n",
       "      <td>-0.00003</td>\n",
       "      <td>-0.00001</td>\n",
       "      <td>0.00000</td>\n",
       "      <td>0.00000</td>\n",
       "      <td>0.00001</td>\n",
       "      <td>-0.00001</td>\n",
       "      <td>1.00000</td>\n",
       "      <td>0</td>\n",
       "    </tr>\n",
       "    <tr>\n",
       "      <th>4</th>\n",
       "      <td>-0.00003</td>\n",
       "      <td>0.00002</td>\n",
       "      <td>-0.00003</td>\n",
       "      <td>-0.00001</td>\n",
       "      <td>0.00000</td>\n",
       "      <td>0.00000</td>\n",
       "      <td>0.00001</td>\n",
       "      <td>-0.00001</td>\n",
       "      <td>1.00000</td>\n",
       "      <td>0</td>\n",
       "    </tr>\n",
       "  </tbody>\n",
       "</table>\n",
       "</div>"
      ],
      "text/plain": [
       "        C1      C2       C3       C4      C5      C6      C7       C8  \\\n",
       "0 -0.00003 0.00002 -0.00003 -0.00001 0.00000 0.00000 0.00001 -0.00001   \n",
       "1 -0.00003 0.00002 -0.00003 -0.00001 0.00000 0.00000 0.00001 -0.00001   \n",
       "2 -0.00003 0.00002 -0.00003 -0.00001 0.00000 0.00000 0.00001 -0.00001   \n",
       "3 -0.00003 0.00002 -0.00003 -0.00001 0.00000 0.00000 0.00001 -0.00001   \n",
       "4 -0.00003 0.00002 -0.00003 -0.00001 0.00000 0.00000 0.00001 -0.00001   \n",
       "\n",
       "   Class_label  ActivityEncoded  \n",
       "0      1.00000                0  \n",
       "1      1.00000                0  \n",
       "2      1.00000                0  \n",
       "3      1.00000                0  \n",
       "4      1.00000                0  "
      ]
     },
     "execution_count": 25,
     "metadata": {},
     "output_type": "execute_result"
    }
   ],
   "source": [
    "pd.options.display.float_format = \"{:,.5f}\".format\n",
    "df_Test.head(5)"
   ]
  },
  {
   "cell_type": "code",
   "execution_count": 26,
   "metadata": {},
   "outputs": [],
   "source": [
    "df_Test.iloc[:,0:N_FEATURES]=scaler.transform(df_Test.iloc[:,0:N_FEATURES])"
   ]
  },
  {
   "cell_type": "code",
   "execution_count": 27,
   "metadata": {},
   "outputs": [
    {
     "data": {
      "text/html": [
       "<div>\n",
       "<style scoped>\n",
       "    .dataframe tbody tr th:only-of-type {\n",
       "        vertical-align: middle;\n",
       "    }\n",
       "\n",
       "    .dataframe tbody tr th {\n",
       "        vertical-align: top;\n",
       "    }\n",
       "\n",
       "    .dataframe thead th {\n",
       "        text-align: right;\n",
       "    }\n",
       "</style>\n",
       "<table border=\"1\" class=\"dataframe\">\n",
       "  <thead>\n",
       "    <tr style=\"text-align: right;\">\n",
       "      <th></th>\n",
       "      <th>C1</th>\n",
       "      <th>C2</th>\n",
       "      <th>C3</th>\n",
       "      <th>C4</th>\n",
       "      <th>C5</th>\n",
       "      <th>C6</th>\n",
       "      <th>C7</th>\n",
       "      <th>C8</th>\n",
       "      <th>Class_label</th>\n",
       "      <th>ActivityEncoded</th>\n",
       "    </tr>\n",
       "  </thead>\n",
       "  <tbody>\n",
       "    <tr>\n",
       "      <th>0</th>\n",
       "      <td>-0.11640</td>\n",
       "      <td>0.22089</td>\n",
       "      <td>-0.15047</td>\n",
       "      <td>-0.00515</td>\n",
       "      <td>0.05739</td>\n",
       "      <td>0.04570</td>\n",
       "      <td>0.11164</td>\n",
       "      <td>0.00163</td>\n",
       "      <td>1.00000</td>\n",
       "      <td>0</td>\n",
       "    </tr>\n",
       "    <tr>\n",
       "      <th>1</th>\n",
       "      <td>-0.11640</td>\n",
       "      <td>0.22089</td>\n",
       "      <td>-0.15047</td>\n",
       "      <td>-0.00515</td>\n",
       "      <td>0.05739</td>\n",
       "      <td>0.04570</td>\n",
       "      <td>0.11164</td>\n",
       "      <td>0.00163</td>\n",
       "      <td>1.00000</td>\n",
       "      <td>0</td>\n",
       "    </tr>\n",
       "    <tr>\n",
       "      <th>2</th>\n",
       "      <td>-0.11640</td>\n",
       "      <td>0.22089</td>\n",
       "      <td>-0.15047</td>\n",
       "      <td>-0.00515</td>\n",
       "      <td>0.05739</td>\n",
       "      <td>0.04570</td>\n",
       "      <td>0.11164</td>\n",
       "      <td>0.00163</td>\n",
       "      <td>1.00000</td>\n",
       "      <td>0</td>\n",
       "    </tr>\n",
       "    <tr>\n",
       "      <th>3</th>\n",
       "      <td>-0.11640</td>\n",
       "      <td>0.22089</td>\n",
       "      <td>-0.15047</td>\n",
       "      <td>-0.00515</td>\n",
       "      <td>0.05739</td>\n",
       "      <td>0.04570</td>\n",
       "      <td>0.11164</td>\n",
       "      <td>0.00163</td>\n",
       "      <td>1.00000</td>\n",
       "      <td>0</td>\n",
       "    </tr>\n",
       "    <tr>\n",
       "      <th>4</th>\n",
       "      <td>-0.11640</td>\n",
       "      <td>0.22089</td>\n",
       "      <td>-0.15047</td>\n",
       "      <td>-0.00515</td>\n",
       "      <td>0.05739</td>\n",
       "      <td>0.04570</td>\n",
       "      <td>0.11164</td>\n",
       "      <td>0.00163</td>\n",
       "      <td>1.00000</td>\n",
       "      <td>0</td>\n",
       "    </tr>\n",
       "  </tbody>\n",
       "</table>\n",
       "</div>"
      ],
      "text/plain": [
       "        C1      C2       C3       C4      C5      C6      C7      C8  \\\n",
       "0 -0.11640 0.22089 -0.15047 -0.00515 0.05739 0.04570 0.11164 0.00163   \n",
       "1 -0.11640 0.22089 -0.15047 -0.00515 0.05739 0.04570 0.11164 0.00163   \n",
       "2 -0.11640 0.22089 -0.15047 -0.00515 0.05739 0.04570 0.11164 0.00163   \n",
       "3 -0.11640 0.22089 -0.15047 -0.00515 0.05739 0.04570 0.11164 0.00163   \n",
       "4 -0.11640 0.22089 -0.15047 -0.00515 0.05739 0.04570 0.11164 0.00163   \n",
       "\n",
       "   Class_label  ActivityEncoded  \n",
       "0      1.00000                0  \n",
       "1      1.00000                0  \n",
       "2      1.00000                0  \n",
       "3      1.00000                0  \n",
       "4      1.00000                0  "
      ]
     },
     "execution_count": 27,
     "metadata": {},
     "output_type": "execute_result"
    }
   ],
   "source": [
    "pd.options.display.float_format = \"{:,.5f}\".format\n",
    "df_Test.head(5)"
   ]
  },
  {
   "cell_type": "code",
   "execution_count": 28,
   "metadata": {},
   "outputs": [
    {
     "name": "stdout",
     "output_type": "stream",
     "text": [
      "x_train shape:  (647, 1500, 8)\n",
      "647 training samples\n",
      "y_train shape:  (647,)\n",
      "num_time_periods 1500\n",
      "num_sensors 8\n",
      "class_list [1.0, 2.0, 3.0, 4.0, 5.0, 6.0]\n",
      "x_train shape: (1500, 8)\n",
      "input_shape: (1500, 8)\n",
      "[[1. 0. 0. 0. 0. 0.]\n",
      " [1. 0. 0. 0. 0. 0.]\n",
      " [1. 0. 0. 0. 0. 0.]\n",
      " ...\n",
      " [0. 0. 0. 0. 1. 0.]\n",
      " [0. 0. 0. 0. 0. 1.]\n",
      " [0. 0. 0. 0. 0. 1.]]\n",
      "New y_train shape:  (647, 6)\n"
     ]
    }
   ],
   "source": [
    "x_train, y_train = create_segments_and_labels(df_Train,TIME_PERIODS,STEP_DISTANCE,N_FEATURES,LABEL)\n",
    "print('x_train shape: ', x_train.shape)\n",
    "# print(x_train)\n",
    "print(x_train.shape[0], 'training samples')\n",
    "print('y_train shape: ', y_train.shape)\n",
    "# Set input & output dimensions\n",
    "num_time_periods, num_sensors = x_train.shape[1], x_train.shape[2]\n",
    "print('num_time_periods',num_time_periods)\n",
    "print('num_sensors',num_sensors)\n",
    "num_classes = le.classes_.size\n",
    "print('class_list',list(le.classes_))\n",
    "# input_shape = (num_time_periods,num_sensors)\n",
    "# print(input_shape)\n",
    "input_shape = (num_time_periods,num_sensors)\n",
    "#x_train = x_train.reshape(x_train.shape[0], input_shape)\n",
    "print('x_train shape:', x_train[0].shape)\n",
    "print('input_shape:', input_shape)\n",
    "x_train = x_train.astype('float32')\n",
    "# x_train = [torch.tensor(arr, dtype=torch.float32) for arr in x_train]\n",
    "# y_train = y_train.astype('float32')\n",
    "# print(y_train)\n",
    "y_train_hot = np_utils.to_categorical(y_train, num_classes)\n",
    "print(y_train_hot)\n",
    "# y_train_hot= [torch.tensor(arr, dtype=torch.uint8) for arr in y_train_hot]\n",
    "print('New y_train shape: ', y_train_hot.shape)"
   ]
  },
  {
   "cell_type": "code",
   "execution_count": 29,
   "metadata": {},
   "outputs": [
    {
     "name": "stdout",
     "output_type": "stream",
     "text": [
      "x_test shape:  (215, 1500, 8)\n",
      "215 testing samples\n",
      "y_test shape:  (215,)\n"
     ]
    }
   ],
   "source": [
    "x_test, y_test = create_segments_and_labels(df_Test,TIME_PERIODS,STEP_DISTANCE,N_FEATURES,LABEL)\n",
    "print('x_test shape: ', x_test.shape)\n",
    "# print(x_train)\n",
    "print(x_test.shape[0], 'testing samples')\n",
    "print('y_test shape: ', y_test.shape)\n",
    "# Set input_shape / reshape for Keras\n",
    "#x_test = x_test.reshape(x_test.shape[0], input_shape)\n",
    "x_test = x_test.astype('float32')\n",
    "y_test = y_test.astype('float32')\n",
    "y_test_hot = np_utils.to_categorical(y_test, num_classes)"
   ]
  },
  {
   "cell_type": "code",
   "execution_count": 30,
   "metadata": {},
   "outputs": [
    {
     "name": "stdout",
     "output_type": "stream",
     "text": [
      "x_train shape:  (647, 30, 50, 8)\n",
      "x_test shape:  (215, 30, 50, 8)\n",
      "n_outputs 6\n"
     ]
    }
   ],
   "source": [
    "# n_steps, n_length = 20, 25\n",
    "# n_steps, n_length= 10, 50\n",
    "# n_steps, n_length= 16, 32\n",
    "n_steps, n_length = 30, 50\n",
    "n_depth=8\n",
    "x_train = x_train.reshape(x_train.shape[0], n_steps, n_length,n_depth)\n",
    "print('x_train shape: ', x_train.shape)\n",
    "# x_valid = x_valid.reshape(x_valid.shape[0], n_steps, n_length, n_depth)\n",
    "# print('x_valid shape: ', x_valid.shape)\n",
    "x_test = x_test.reshape(x_test.shape[0], n_steps, n_length,n_depth)\n",
    "print('x_test shape: ', x_test.shape)\n",
    "n_outputs = y_train_hot.shape[1]\n",
    "print('n_outputs',n_outputs)"
   ]
  },
  {
   "cell_type": "code",
   "execution_count": 31,
   "metadata": {},
   "outputs": [
    {
     "name": "stdout",
     "output_type": "stream",
     "text": [
      "[1, 2, 3, 4, 5, 6]\n"
     ]
    }
   ],
   "source": [
    "LABELS=[]\n",
    "for i in range(1,n_outputs+1,1):\n",
    "  LABELS.append (i)\n",
    "print(LABELS)"
   ]
  },
  {
   "cell_type": "code",
   "execution_count": 32,
   "metadata": {},
   "outputs": [],
   "source": [
    "def step_decay(epoch):\n",
    "  initial_lrate = 1e-4\n",
    "  drop = 0.1\n",
    "  epochs_drop = 70.0\n",
    "  lrate = initial_lrate * tf.math.pow(drop,  \n",
    "          tf.math.floor((1+epoch)/epochs_drop))\n",
    "  return lrate"
   ]
  },
  {
   "cell_type": "code",
   "execution_count": 33,
   "metadata": {},
   "outputs": [],
   "source": [
    "lrate = tf.keras.callbacks.LearningRateScheduler(step_decay)"
   ]
  },
  {
   "cell_type": "code",
   "execution_count": 34,
   "metadata": {},
   "outputs": [],
   "source": [
    "verbose, epochs, batch_size = 0, 200, 8"
   ]
  },
  {
   "cell_type": "code",
   "execution_count": 35,
   "metadata": {},
   "outputs": [],
   "source": [
    "# naveen architecture\n",
    "# model = Sequential()\n",
    "# model.add(TimeDistributed(Conv1D(filters=64, kernel_size=9, padding='same', kernel_initializer=\"he_normal\",strides=2,kernel_regularizer=l1(1e-04)), \\\n",
    "#                            input_shape=(n_steps,n_length,n_depth)))\n",
    "# model.add(TimeDistributed(BatchNormalization(epsilon=1e-06, momentum=0.95, weights=None)))\n",
    "# model.add(TimeDistributed(MaxPooling1D(pool_size=8,strides=2)))\n",
    "# model.add(TimeDistributed(Activation('tanh')))\n",
    "# model.add(TimeDistributed(Conv1D(filters=64, kernel_size=5,padding=\"same\",kernel_initializer=\"he_normal\",strides=2,kernel_regularizer=l1(1e-04))))\n",
    "# model.add(TimeDistributed(BatchNormalization(epsilon=1e-06, momentum=0.95, weights=None)))\n",
    "# model.add(TimeDistributed(Activation('tanh')))\n",
    "# model.add(TimeDistributed(Dropout(0.2093)))\n",
    "# model.add(TimeDistributed(Conv1D(filters=64, kernel_size=5,padding=\"same\",kernel_initializer=\"he_normal\",strides=2,kernel_regularizer=l1(1e-04))))\n",
    "# model.add(TimeDistributed(BatchNormalization(epsilon=1e-06, momentum=0.95, weights=None)))\n",
    "# model.add(TimeDistributed(Activation('tanh')))\n",
    "# model.add(TimeDistributed(Dropout(0.2093)))\n",
    "# model.add(TimeDistributed(Conv1D(filters=64, kernel_size=3,padding=\"same\",kernel_initializer=\"he_normal\",strides=2,kernel_regularizer=l1(1e-04))))\n",
    "# model.add(TimeDistributed(BatchNormalization(epsilon=1e-06, momentum=0.95, weights=None)))\n",
    "# model.add(TimeDistributed(Activation('tanh')))\n",
    "# model.add(TimeDistributed(Dropout(0.2093)))\n",
    "# model.add(TimeDistributed(Activation('relu')))\n",
    "# model.add(TimeDistributed(Flatten()))\n",
    "# # model.add(Flatten())\n",
    "# model.add(Bidirectional(LSTM(200,return_sequences=True)))\n",
    "# model.add(Dropout(0.3))\n",
    "# model.add(Bidirectional(LSTM(200,return_sequences=True)))\n",
    "# model.add(Dropout(0.3))\n",
    "# # model.add(Bidirectional(LSTM(200,return_sequences=True)))\n",
    "# # model.add(Dropout(0.3))\n",
    "# # model.add(Bidirectional(LSTM(200,return_sequences=True)))\n",
    "# # model.add(Dropout(0.3))\n",
    "# # model.add(Bidirectional(SimpleRNN(200,return_sequences=True)))\n",
    "# # model.add(Dropout(0.3))\n",
    "# # model.add(Bidirectional(SimpleRNN(200,return_sequences=True)))\n",
    "# # model.add(Dropout(0.3))\n",
    "# # model.add(BatchNormalization(epsilon=1e-05, momentum=0.9, weights=None))\n",
    "# # model.add(Bidirectional(SimpleRNN(200)))\n",
    "# # model.add(Dropout(0.3))\n",
    "# model.add(Flatten())\n",
    "# model.add(Dense(512, activation='tanh'))\n",
    "# # model.add(Dense(200, activation='tanh'))\n",
    "# model.add(BatchNormalization(epsilon=1e-05, momentum=0.9, weights=None))\n",
    "# model.add(Dense(n_outputs, activation='softmax'))"
   ]
  },
  {
   "cell_type": "code",
   "execution_count": 36,
   "metadata": {},
   "outputs": [],
   "source": [
    "# olsson architecture\n",
    "model = Sequential()\n",
    "model.add(Conv2D(filters=64, kernel_size=(9,1), padding='same', kernel_initializer=\"he_normal\",strides=(3,1), \\\n",
    "                           input_shape=(n_steps,n_length,n_depth)))\n",
    "model.add(MaxPooling2D(pool_size=(8,1),strides=(2,1)))\n",
    "model.add(Activation('tanh'))\n",
    "model.add(Conv2D(filters=64, kernel_size=(5,1),padding=\"same\",kernel_initializer=\"he_normal\",strides=(2,1)))\n",
    "model.add(Activation('tanh'))\n",
    "model.add(Dropout(0.2093))\n",
    "model.add(Flatten())\n",
    "model.add(Dense(512, activation='tanh'))\n",
    "model.add(Dense(n_outputs, activation='softmax'))"
   ]
  },
  {
   "cell_type": "code",
   "execution_count": 37,
   "metadata": {
    "scrolled": true
   },
   "outputs": [
    {
     "name": "stdout",
     "output_type": "stream",
     "text": [
      "Model: \"sequential\"\n",
      "_________________________________________________________________\n",
      "Layer (type)                 Output Shape              Param #   \n",
      "=================================================================\n",
      "conv2d (Conv2D)              (None, 10, 50, 64)        4672      \n",
      "_________________________________________________________________\n",
      "max_pooling2d (MaxPooling2D) (None, 2, 50, 64)         0         \n",
      "_________________________________________________________________\n",
      "activation (Activation)      (None, 2, 50, 64)         0         \n",
      "_________________________________________________________________\n",
      "conv2d_1 (Conv2D)            (None, 1, 50, 64)         20544     \n",
      "_________________________________________________________________\n",
      "activation_1 (Activation)    (None, 1, 50, 64)         0         \n",
      "_________________________________________________________________\n",
      "dropout (Dropout)            (None, 1, 50, 64)         0         \n",
      "_________________________________________________________________\n",
      "flatten (Flatten)            (None, 3200)              0         \n",
      "_________________________________________________________________\n",
      "dense (Dense)                (None, 512)               1638912   \n",
      "_________________________________________________________________\n",
      "dense_1 (Dense)              (None, 6)                 3078      \n",
      "=================================================================\n",
      "Total params: 1,667,206\n",
      "Trainable params: 1,667,206\n",
      "Non-trainable params: 0\n",
      "_________________________________________________________________\n",
      "None\n"
     ]
    }
   ],
   "source": [
    "adam=optimizers.Adam(lr=1e-4, beta_1=0.9, beta_2=0.999, amsgrad=False)\n",
    "checkpoint_filepath = '/media/naveen/nav/mat_codes/EMG_data_for_gestures-master/olsson/CNN25X20/checkpoint.hdf5'\n",
    "# model.load_weights(checkpoint_filepath) \n",
    "checkpoint_callback = ModelCheckpoint(filepath=checkpoint_filepath,verbose=1, monitor='val_accuracy',save_weights_only=True,save_best_only=True)\n",
    "early = EarlyStopping(monitor='val_loss', min_delta=0, patience=50, verbose=0, mode='auto', baseline=None, restore_best_weights=True)\n",
    "model.compile(optimizer=adam,loss='categorical_crossentropy',metrics=['accuracy'])\n",
    "print(model.summary())"
   ]
  },
  {
   "cell_type": "code",
   "execution_count": 38,
   "metadata": {},
   "outputs": [
    {
     "data": {
      "image/png": "[encoded data removed]",
      "text/plain": [
       "<IPython.core.display.Image object>"
      ]
     },
     "execution_count": 38,
     "metadata": {},
     "output_type": "execute_result"
    }
   ],
   "source": [
    "tf.keras.utils.plot_model(model, to_file='/media/naveen/nav/mat_codes/EMG_data_for_gestures-master/olsson/CNN25X20/Model1.png',show_shapes=True,show_layer_names=True,dpi=96)"
   ]
  },
  {
   "cell_type": "code",
   "execution_count": 39,
   "metadata": {},
   "outputs": [
    {
     "name": "stdout",
     "output_type": "stream",
     "text": [
      "Epoch 1/200\n",
      "81/81 [==============================] - 7s 28ms/step - loss: 1.9955 - accuracy: 0.1613 - val_loss: 1.6253 - val_accuracy: 0.3535\n",
      "\n",
      "Epoch 00001: val_accuracy improved from -inf to 0.35349, saving model to /media/naveen/nav/mat_codes/EMG_data_for_gestures-master/olsson/CNN25X20/checkpoint.hdf5\n",
      "Epoch 2/200\n",
      "81/81 [==============================] - 1s 7ms/step - loss: 1.4910 - accuracy: 0.3450 - val_loss: 1.5878 - val_accuracy: 0.3488\n",
      "\n",
      "Epoch 00002: val_accuracy did not improve from 0.35349\n",
      "Epoch 3/200\n",
      "81/81 [==============================] - 1s 7ms/step - loss: 1.3842 - accuracy: 0.4441 - val_loss: 1.3108 - val_accuracy: 0.4698\n",
      "\n",
      "Epoch 00003: val_accuracy improved from 0.35349 to 0.46977, saving model to /media/naveen/nav/mat_codes/EMG_data_for_gestures-master/olsson/CNN25X20/checkpoint.hdf5\n",
      "Epoch 4/200\n",
      "81/81 [==============================] - 1s 7ms/step - loss: 1.1522 - accuracy: 0.5418 - val_loss: 1.3246 - val_accuracy: 0.4326\n",
      "\n",
      "Epoch 00004: val_accuracy did not improve from 0.46977\n",
      "Epoch 5/200\n",
      "81/81 [==============================] - 1s 7ms/step - loss: 1.0075 - accuracy: 0.6378 - val_loss: 1.3144 - val_accuracy: 0.4000\n",
      "\n",
      "Epoch 00005: val_accuracy did not improve from 0.46977\n",
      "Epoch 6/200\n",
      "81/81 [==============================] - 0s 6ms/step - loss: 0.8605 - accuracy: 0.7385 - val_loss: 1.3137 - val_accuracy: 0.4233\n",
      "\n",
      "Epoch 00006: val_accuracy did not improve from 0.46977\n",
      "Epoch 7/200\n",
      "81/81 [==============================] - 0s 6ms/step - loss: 0.7214 - accuracy: 0.7952 - val_loss: 1.2983 - val_accuracy: 0.4605\n",
      "\n",
      "Epoch 00007: val_accuracy did not improve from 0.46977\n",
      "Epoch 8/200\n",
      "81/81 [==============================] - 0s 6ms/step - loss: 0.6431 - accuracy: 0.8567 - val_loss: 1.3622 - val_accuracy: 0.4512\n",
      "\n",
      "Epoch 00008: val_accuracy did not improve from 0.46977\n",
      "Epoch 9/200\n",
      "81/81 [==============================] - 1s 6ms/step - loss: 0.5404 - accuracy: 0.9019 - val_loss: 1.3011 - val_accuracy: 0.5116\n",
      "\n",
      "Epoch 00009: val_accuracy improved from 0.46977 to 0.51163, saving model to /media/naveen/nav/mat_codes/EMG_data_for_gestures-master/olsson/CNN25X20/checkpoint.hdf5\n",
      "Epoch 10/200\n",
      "81/81 [==============================] - 1s 7ms/step - loss: 0.4030 - accuracy: 0.9352 - val_loss: 1.3180 - val_accuracy: 0.4884\n",
      "\n",
      "Epoch 00010: val_accuracy did not improve from 0.51163\n",
      "Epoch 11/200\n",
      "81/81 [==============================] - 1s 7ms/step - loss: 0.3250 - accuracy: 0.9727 - val_loss: 1.3381 - val_accuracy: 0.5256\n",
      "\n",
      "Epoch 00011: val_accuracy improved from 0.51163 to 0.52558, saving model to /media/naveen/nav/mat_codes/EMG_data_for_gestures-master/olsson/CNN25X20/checkpoint.hdf5\n",
      "Epoch 12/200\n",
      "81/81 [==============================] - 1s 7ms/step - loss: 0.2630 - accuracy: 0.9921 - val_loss: 1.3698 - val_accuracy: 0.5209\n",
      "\n",
      "Epoch 00012: val_accuracy did not improve from 0.52558\n",
      "Epoch 13/200\n",
      "81/81 [==============================] - 1s 7ms/step - loss: 0.2155 - accuracy: 0.9944 - val_loss: 1.3770 - val_accuracy: 0.5070\n",
      "\n",
      "Epoch 00013: val_accuracy did not improve from 0.52558\n",
      "Epoch 14/200\n",
      "81/81 [==============================] - 1s 7ms/step - loss: 0.2033 - accuracy: 0.9891 - val_loss: 1.4007 - val_accuracy: 0.5116\n",
      "\n",
      "Epoch 00014: val_accuracy did not improve from 0.52558\n",
      "Epoch 15/200\n",
      "81/81 [==============================] - 1s 6ms/step - loss: 0.1598 - accuracy: 0.9995 - val_loss: 1.4269 - val_accuracy: 0.5163\n",
      "\n",
      "Epoch 00015: val_accuracy did not improve from 0.52558\n",
      "Epoch 16/200\n",
      "81/81 [==============================] - 1s 7ms/step - loss: 0.1406 - accuracy: 1.0000 - val_loss: 1.4355 - val_accuracy: 0.5209\n",
      "\n",
      "Epoch 00016: val_accuracy did not improve from 0.52558\n",
      "Epoch 17/200\n",
      "81/81 [==============================] - 1s 6ms/step - loss: 0.1185 - accuracy: 0.9956 - val_loss: 1.4561 - val_accuracy: 0.5116\n",
      "\n",
      "Epoch 00017: val_accuracy did not improve from 0.52558\n",
      "Epoch 18/200\n",
      "81/81 [==============================] - 1s 7ms/step - loss: 0.1016 - accuracy: 1.0000 - val_loss: 1.4615 - val_accuracy: 0.5116\n",
      "\n",
      "Epoch 00018: val_accuracy did not improve from 0.52558\n",
      "Epoch 19/200\n",
      "81/81 [==============================] - 1s 7ms/step - loss: 0.0836 - accuracy: 1.0000 - val_loss: 1.4776 - val_accuracy: 0.5209\n",
      "\n",
      "Epoch 00019: val_accuracy did not improve from 0.52558\n",
      "Epoch 20/200\n",
      "81/81 [==============================] - 1s 7ms/step - loss: 0.0816 - accuracy: 1.0000 - val_loss: 1.5232 - val_accuracy: 0.5256\n",
      "\n",
      "Epoch 00020: val_accuracy did not improve from 0.52558\n",
      "Epoch 21/200\n",
      "81/81 [==============================] - 1s 7ms/step - loss: 0.0722 - accuracy: 1.0000 - val_loss: 1.5235 - val_accuracy: 0.5163\n",
      "\n",
      "Epoch 00021: val_accuracy did not improve from 0.52558\n",
      "Epoch 22/200\n",
      "81/81 [==============================] - 1s 7ms/step - loss: 0.0586 - accuracy: 1.0000 - val_loss: 1.5386 - val_accuracy: 0.5163\n",
      "\n",
      "Epoch 00022: val_accuracy did not improve from 0.52558\n",
      "Epoch 23/200\n",
      "81/81 [==============================] - 1s 7ms/step - loss: 0.0508 - accuracy: 1.0000 - val_loss: 1.5526 - val_accuracy: 0.5256\n",
      "\n",
      "Epoch 00023: val_accuracy did not improve from 0.52558\n",
      "Epoch 24/200\n",
      "81/81 [==============================] - 1s 7ms/step - loss: 0.0452 - accuracy: 1.0000 - val_loss: 1.5626 - val_accuracy: 0.5209\n",
      "\n",
      "Epoch 00024: val_accuracy did not improve from 0.52558\n",
      "Epoch 25/200\n",
      "81/81 [==============================] - 1s 7ms/step - loss: 0.0428 - accuracy: 1.0000 - val_loss: 1.5778 - val_accuracy: 0.5256\n",
      "\n",
      "Epoch 00025: val_accuracy did not improve from 0.52558\n",
      "Epoch 26/200\n",
      "81/81 [==============================] - 1s 6ms/step - loss: 0.0400 - accuracy: 1.0000 - val_loss: 1.5955 - val_accuracy: 0.5163\n",
      "\n",
      "Epoch 00026: val_accuracy did not improve from 0.52558\n",
      "Epoch 27/200\n",
      "81/81 [==============================] - 1s 7ms/step - loss: 0.0345 - accuracy: 1.0000 - val_loss: 1.6254 - val_accuracy: 0.5116\n",
      "\n",
      "Epoch 00027: val_accuracy did not improve from 0.52558\n",
      "Epoch 28/200\n",
      "81/81 [==============================] - 1s 7ms/step - loss: 0.0337 - accuracy: 1.0000 - val_loss: 1.6219 - val_accuracy: 0.5116\n",
      "\n",
      "Epoch 00028: val_accuracy did not improve from 0.52558\n",
      "Epoch 29/200\n",
      "81/81 [==============================] - 1s 6ms/step - loss: 0.0313 - accuracy: 1.0000 - val_loss: 1.6392 - val_accuracy: 0.5163\n",
      "\n",
      "Epoch 00029: val_accuracy did not improve from 0.52558\n",
      "Epoch 30/200\n",
      "81/81 [==============================] - 0s 6ms/step - loss: 0.0294 - accuracy: 1.0000 - val_loss: 1.6335 - val_accuracy: 0.5209\n",
      "\n",
      "Epoch 00030: val_accuracy did not improve from 0.52558\n",
      "Epoch 31/200\n",
      "81/81 [==============================] - 0s 6ms/step - loss: 0.0251 - accuracy: 1.0000 - val_loss: 1.6941 - val_accuracy: 0.5256\n",
      "\n",
      "Epoch 00031: val_accuracy did not improve from 0.52558\n",
      "Epoch 32/200\n",
      "81/81 [==============================] - 0s 6ms/step - loss: 0.0229 - accuracy: 1.0000 - val_loss: 1.6626 - val_accuracy: 0.5209\n",
      "\n",
      "Epoch 00032: val_accuracy did not improve from 0.52558\n",
      "Epoch 33/200\n",
      "81/81 [==============================] - 1s 7ms/step - loss: 0.0208 - accuracy: 1.0000 - val_loss: 1.6846 - val_accuracy: 0.5256\n",
      "\n",
      "Epoch 00033: val_accuracy did not improve from 0.52558\n",
      "Epoch 34/200\n",
      "81/81 [==============================] - 1s 7ms/step - loss: 0.0204 - accuracy: 1.0000 - val_loss: 1.6884 - val_accuracy: 0.5256\n",
      "\n",
      "Epoch 00034: val_accuracy did not improve from 0.52558\n",
      "Epoch 35/200\n",
      "81/81 [==============================] - 1s 8ms/step - loss: 0.0171 - accuracy: 1.0000 - val_loss: 1.7071 - val_accuracy: 0.5209\n",
      "\n",
      "Epoch 00035: val_accuracy did not improve from 0.52558\n",
      "Epoch 36/200\n",
      "81/81 [==============================] - 1s 7ms/step - loss: 0.0173 - accuracy: 1.0000 - val_loss: 1.7188 - val_accuracy: 0.5209\n",
      "\n",
      "Epoch 00036: val_accuracy did not improve from 0.52558\n",
      "Epoch 37/200\n",
      "81/81 [==============================] - 1s 6ms/step - loss: 0.0150 - accuracy: 1.0000 - val_loss: 1.7291 - val_accuracy: 0.5163\n",
      "\n",
      "Epoch 00037: val_accuracy did not improve from 0.52558\n",
      "Epoch 38/200\n",
      "81/81 [==============================] - 1s 7ms/step - loss: 0.0144 - accuracy: 1.0000 - val_loss: 1.7231 - val_accuracy: 0.5209\n",
      "\n",
      "Epoch 00038: val_accuracy did not improve from 0.52558\n",
      "Epoch 39/200\n",
      "81/81 [==============================] - 1s 7ms/step - loss: 0.0135 - accuracy: 1.0000 - val_loss: 1.7557 - val_accuracy: 0.5302\n",
      "\n",
      "Epoch 00039: val_accuracy improved from 0.52558 to 0.53023, saving model to /media/naveen/nav/mat_codes/EMG_data_for_gestures-master/olsson/CNN25X20/checkpoint.hdf5\n",
      "Epoch 40/200\n"
     ]
    },
    {
     "name": "stdout",
     "output_type": "stream",
     "text": [
      "81/81 [==============================] - 1s 7ms/step - loss: 0.0127 - accuracy: 1.0000 - val_loss: 1.7587 - val_accuracy: 0.5256\n",
      "\n",
      "Epoch 00040: val_accuracy did not improve from 0.53023\n",
      "Epoch 41/200\n",
      "81/81 [==============================] - 1s 6ms/step - loss: 0.0107 - accuracy: 1.0000 - val_loss: 1.7665 - val_accuracy: 0.5209\n",
      "\n",
      "Epoch 00041: val_accuracy did not improve from 0.53023\n",
      "Epoch 42/200\n",
      "81/81 [==============================] - 0s 6ms/step - loss: 0.0100 - accuracy: 1.0000 - val_loss: 1.7766 - val_accuracy: 0.5302\n",
      "\n",
      "Epoch 00042: val_accuracy did not improve from 0.53023\n",
      "Epoch 43/200\n",
      "81/81 [==============================] - 1s 7ms/step - loss: 0.0094 - accuracy: 1.0000 - val_loss: 1.7878 - val_accuracy: 0.5163\n",
      "\n",
      "Epoch 00043: val_accuracy did not improve from 0.53023\n",
      "Epoch 44/200\n",
      "81/81 [==============================] - 1s 7ms/step - loss: 0.0099 - accuracy: 1.0000 - val_loss: 1.8143 - val_accuracy: 0.5256\n",
      "\n",
      "Epoch 00044: val_accuracy did not improve from 0.53023\n",
      "Epoch 45/200\n",
      "81/81 [==============================] - 1s 7ms/step - loss: 0.0079 - accuracy: 1.0000 - val_loss: 1.8177 - val_accuracy: 0.5209\n",
      "\n",
      "Epoch 00045: val_accuracy did not improve from 0.53023\n",
      "Epoch 46/200\n",
      "81/81 [==============================] - 1s 7ms/step - loss: 0.0083 - accuracy: 1.0000 - val_loss: 1.8133 - val_accuracy: 0.5256\n",
      "\n",
      "Epoch 00046: val_accuracy did not improve from 0.53023\n",
      "Epoch 47/200\n",
      "81/81 [==============================] - 1s 7ms/step - loss: 0.0082 - accuracy: 1.0000 - val_loss: 1.8549 - val_accuracy: 0.5349\n",
      "\n",
      "Epoch 00047: val_accuracy improved from 0.53023 to 0.53488, saving model to /media/naveen/nav/mat_codes/EMG_data_for_gestures-master/olsson/CNN25X20/checkpoint.hdf5\n",
      "Epoch 48/200\n",
      "81/81 [==============================] - 1s 6ms/step - loss: 0.0072 - accuracy: 1.0000 - val_loss: 1.8251 - val_accuracy: 0.5302\n",
      "\n",
      "Epoch 00048: val_accuracy did not improve from 0.53488\n",
      "Epoch 49/200\n",
      "81/81 [==============================] - 1s 7ms/step - loss: 0.0068 - accuracy: 1.0000 - val_loss: 1.8514 - val_accuracy: 0.5302\n",
      "\n",
      "Epoch 00049: val_accuracy did not improve from 0.53488\n",
      "Epoch 50/200\n",
      "81/81 [==============================] - 1s 6ms/step - loss: 0.0063 - accuracy: 1.0000 - val_loss: 1.8727 - val_accuracy: 0.5163\n",
      "\n",
      "Epoch 00050: val_accuracy did not improve from 0.53488\n",
      "Epoch 51/200\n",
      "81/81 [==============================] - 1s 7ms/step - loss: 0.0058 - accuracy: 1.0000 - val_loss: 1.8829 - val_accuracy: 0.5209\n",
      "\n",
      "Epoch 00051: val_accuracy did not improve from 0.53488\n",
      "Epoch 52/200\n",
      "81/81 [==============================] - 1s 7ms/step - loss: 0.0085 - accuracy: 1.0000 - val_loss: 1.8801 - val_accuracy: 0.5209\n",
      "\n",
      "Epoch 00052: val_accuracy did not improve from 0.53488\n",
      "Epoch 53/200\n",
      "81/81 [==============================] - 0s 6ms/step - loss: 0.0048 - accuracy: 1.0000 - val_loss: 1.8757 - val_accuracy: 0.5349\n",
      "\n",
      "Epoch 00053: val_accuracy did not improve from 0.53488\n",
      "Epoch 54/200\n",
      "81/81 [==============================] - 1s 7ms/step - loss: 0.0058 - accuracy: 1.0000 - val_loss: 1.8926 - val_accuracy: 0.5163\n",
      "\n",
      "Epoch 00054: val_accuracy did not improve from 0.53488\n",
      "Epoch 55/200\n",
      "81/81 [==============================] - 0s 6ms/step - loss: 0.0052 - accuracy: 1.0000 - val_loss: 1.9380 - val_accuracy: 0.5116\n",
      "\n",
      "Epoch 00055: val_accuracy did not improve from 0.53488\n",
      "Epoch 56/200\n",
      "81/81 [==============================] - 1s 7ms/step - loss: 0.0040 - accuracy: 1.0000 - val_loss: 1.9273 - val_accuracy: 0.5163\n",
      "\n",
      "Epoch 00056: val_accuracy did not improve from 0.53488\n",
      "Epoch 57/200\n",
      "81/81 [==============================] - 1s 7ms/step - loss: 0.0049 - accuracy: 1.0000 - val_loss: 1.9253 - val_accuracy: 0.5116\n",
      "\n",
      "Epoch 00057: val_accuracy did not improve from 0.53488\n",
      "epoch_number 47\n"
     ]
    }
   ],
   "source": [
    "# adam=optimizers.Adam(lr=0.0001, beta_1=0.9, beta_2=0.999, amsgrad=False)\n",
    "# sgd=tfa.optimizers.SGDW(weight_decay=0.0001,learning_rate=0.1, momentum=0.9, nesterov=False, name='SGDW')\n",
    "# sgd=tf.optimizers.SGD(learning_rate=0.1, momentum=0.9, nesterov=False, name='SGD')\n",
    "#     tf.keras.utils.plot_model(model, to_file='/media/naveen/nav/mat_codes/nina_DB1_codes/nina_prep_python/olsson/CNN20X10/Model1.png',show_shapes=True,show_layer_names=True,dpi=96)\n",
    "csv_logger = CSVLogger('/media/naveen/nav/mat_codes/EMG_data_for_gestures-master/olsson/CNN25X20/CNN_nina_20X10.csv', append=True, separator=';')\n",
    "history = model.fit(x_train, y_train_hot, epochs=epochs, batch_size=batch_size, callbacks=[csv_logger,checkpoint_callback,lrate,early],validation_data=(x_test, y_test_hot), verbose=1)\n",
    "best_index = history.history['val_accuracy'].index(max(history.history['val_accuracy']))\n",
    "print('epoch_number',best_index+1)"
   ]
  },
  {
   "cell_type": "code",
   "execution_count": 40,
   "metadata": {},
   "outputs": [],
   "source": [
    "import datetime"
   ]
  },
  {
   "cell_type": "code",
   "execution_count": 41,
   "metadata": {},
   "outputs": [
    {
     "name": "stdout",
     "output_type": "stream",
     "text": [
      "train accuracy and validation accuracy 1.0 0.5348837375640869\n",
      "2021-11-12 12:39:11.609778\n",
      "27/27 [==============================] - 0s 7ms/step - loss: 1.8549 - accuracy: 0.5349\n",
      "2021-11-12 12:39:11.845024\n",
      "test_accuracy 0.5348837375640869\n"
     ]
    }
   ],
   "source": [
    "print('train accuracy and validation accuracy', history.history['accuracy'][best_index], history.history['val_accuracy'][best_index])\n",
    "model.load_weights(checkpoint_filepath) \n",
    "print(datetime.datetime.now())\n",
    "_, testaccuracy = model.evaluate(x_test, y_test_hot, batch_size=batch_size, verbose=1)\n",
    "print(datetime.datetime.now())\n",
    "print('test_accuracy',testaccuracy)\n",
    "# test_acc.append(testaccuracy)"
   ]
  },
  {
   "cell_type": "code",
   "execution_count": 42,
   "metadata": {},
   "outputs": [
    {
     "name": "stdout",
     "output_type": "stream",
     "text": [
      "INFO:tensorflow:Assets written to: /media/naveen/nav/mat_codes/EMG_data_for_gestures-master/olsson/CNN25X20/CNN_LSTM_nina_5X97/assets\n"
     ]
    }
   ],
   "source": [
    "model.save('/media/naveen/nav/mat_codes/EMG_data_for_gestures-master/olsson/CNN25X20/CNN_LSTM_nina_5X97')"
   ]
  },
  {
   "cell_type": "code",
   "execution_count": 43,
   "metadata": {},
   "outputs": [
    {
     "name": "stdout",
     "output_type": "stream",
     "text": [
      "history loss\n",
      "history accuracy\n",
      "history val_loss\n",
      "history val_accuracy\n",
      "history lr\n"
     ]
    },
    {
     "ename": "NameError",
     "evalue": "name 'ax' is not defined",
     "output_type": "error",
     "traceback": [
      "\u001b[0;31m---------------------------------------------------------------------------\u001b[0m",
      "\u001b[0;31mNameError\u001b[0m                                 Traceback (most recent call last)",
      "\u001b[0;32m<ipython-input-43-3b013aef7ec4>\u001b[0m in \u001b[0;36m<module>\u001b[0;34m\u001b[0m\n\u001b[1;32m     31\u001b[0m \u001b[0;34m\u001b[0m\u001b[0m\n\u001b[1;32m     32\u001b[0m \u001b[0;31m# ax = fig.add_axes((left, bottom, width, height))\u001b[0m\u001b[0;34m\u001b[0m\u001b[0;34m\u001b[0m\u001b[0;34m\u001b[0m\u001b[0m\n\u001b[0;32m---> 33\u001b[0;31m \u001b[0max\u001b[0m\u001b[0;34m.\u001b[0m\u001b[0mset\u001b[0m\u001b[0;34m(\u001b[0m\u001b[0mfacecolor\u001b[0m\u001b[0;34m=\u001b[0m\u001b[0;34m\"white\"\u001b[0m\u001b[0;34m)\u001b[0m\u001b[0;34m\u001b[0m\u001b[0;34m\u001b[0m\u001b[0m\n\u001b[0m\u001b[1;32m     34\u001b[0m \u001b[0;31m# ax.patch.set_alpha(1.0)\u001b[0m\u001b[0;34m\u001b[0m\u001b[0;34m\u001b[0m\u001b[0;34m\u001b[0m\u001b[0m\n\u001b[1;32m     35\u001b[0m \u001b[0mplt\u001b[0m\u001b[0;34m.\u001b[0m\u001b[0mylim\u001b[0m\u001b[0;34m(\u001b[0m\u001b[0;36m0\u001b[0m\u001b[0;34m)\u001b[0m\u001b[0;34m\u001b[0m\u001b[0;34m\u001b[0m\u001b[0m\n",
      "\u001b[0;31mNameError\u001b[0m: name 'ax' is not defined"
     ]
    },
    {
     "data": {
      "image/png": "[encoded data removed]",
      "text/plain": [
       "<Figure size 720x576 with 1 Axes>"
      ]
     },
     "metadata": {
      "needs_background": "light"
     },
     "output_type": "display_data"
    }
   ],
   "source": [
    "for i in history.history:\n",
    "    print(\"history\",i)\n",
    "# facecolor='black'\n",
    "DB1a=plt.figure(figsize=(10, 8),edgecolor='black')\n",
    "# ax=figDB4.add_axes((\"left\", \"bottom\", \"width\", \"height\"))\n",
    "# ax= DB1a.add_axes((1,1,1,1))\n",
    "# ax.spines[\"top\"].set_position((\"outward\", 0))\n",
    "# ax.spines[\"bottom\"].set_position((\"data\", 0))\n",
    "# ax.spines[\"left\"].set_position((\"axes\", 0))\n",
    "# ax.spines[\"right\"].set_position((\"outward\", 0))\n",
    "\n",
    "# ax.spines[\"top\"].set_color(\"black\")\n",
    "# ax.spines[\"left\"].set_color(\"black\")\n",
    "# ax.spines[\"right\"].set_color(\"black\")\n",
    "# ax.spines[\"bottom\"].set_color(\"black\")\n",
    "\n",
    "# ax.spines[\"left\"].set_bounds(-.5, .5)\n",
    "# ax.spines[\"right\"].set_linestyle(\"--\")\n",
    "# ax.spines[\"bottom\"].set_linewidth(6)\n",
    "# ax.spines[\"bottom\"].set_capstyle(\"round\")\n",
    "\n",
    "# plt2.rcParams['figure.facecolor'] = 'white'\n",
    "plt.plot(history.history['accuracy'], 'r', label='Accuracy of training data')\n",
    "plt.plot(history.history['val_accuracy'], 'b', label='Accuracy of validation data')\n",
    "plt.title('Model Accuracy')\n",
    "plt.ylabel('Accuracy')\n",
    "plt.xlabel('Training Epoch')\n",
    "\n",
    "# plt2.ylim(0)\n",
    "# plt2.rcParams['figure.facecolor'] = 'white'\n",
    "\n",
    "# ax = fig.add_axes((left, bottom, width, height))\n",
    "ax.set(facecolor=\"white\")\n",
    "# ax.patch.set_alpha(1.0)\n",
    "plt.ylim(0)\n",
    "plt.legend()\n",
    "plt.show()"
   ]
  },
  {
   "cell_type": "code",
   "execution_count": 44,
   "metadata": {},
   "outputs": [
    {
     "name": "stdout",
     "output_type": "stream",
     "text": [
      "history loss\n",
      "history accuracy\n",
      "history val_loss\n",
      "history val_accuracy\n",
      "history lr\n"
     ]
    },
    {
     "ename": "NameError",
     "evalue": "name 'ax' is not defined",
     "output_type": "error",
     "traceback": [
      "\u001b[0;31m---------------------------------------------------------------------------\u001b[0m",
      "\u001b[0;31mNameError\u001b[0m                                 Traceback (most recent call last)",
      "\u001b[0;32m<ipython-input-44-ed1a236d9723>\u001b[0m in \u001b[0;36m<module>\u001b[0;34m\u001b[0m\n\u001b[1;32m     50\u001b[0m \u001b[0;31m# ax.spines[\"left\"].set_bounds(-.5, .5)\u001b[0m\u001b[0;34m\u001b[0m\u001b[0;34m\u001b[0m\u001b[0;34m\u001b[0m\u001b[0m\n\u001b[1;32m     51\u001b[0m \u001b[0;31m# ax.spines[\"right\"].set_linestyle(\"--\")\u001b[0m\u001b[0;34m\u001b[0m\u001b[0;34m\u001b[0m\u001b[0;34m\u001b[0m\u001b[0m\n\u001b[0;32m---> 52\u001b[0;31m \u001b[0max\u001b[0m\u001b[0;34m.\u001b[0m\u001b[0mspines\u001b[0m\u001b[0;34m[\u001b[0m\u001b[0;34m\"top\"\u001b[0m\u001b[0;34m]\u001b[0m\u001b[0;34m.\u001b[0m\u001b[0mset_linewidth\u001b[0m\u001b[0;34m(\u001b[0m\u001b[0;36m3\u001b[0m\u001b[0;34m)\u001b[0m\u001b[0;34m\u001b[0m\u001b[0;34m\u001b[0m\u001b[0m\n\u001b[0m\u001b[1;32m     53\u001b[0m \u001b[0max\u001b[0m\u001b[0;34m.\u001b[0m\u001b[0mspines\u001b[0m\u001b[0;34m[\u001b[0m\u001b[0;34m\"top\"\u001b[0m\u001b[0;34m]\u001b[0m\u001b[0;34m.\u001b[0m\u001b[0mset_linestyle\u001b[0m\u001b[0;34m(\u001b[0m\u001b[0;34m\"-\"\u001b[0m\u001b[0;34m)\u001b[0m\u001b[0;34m\u001b[0m\u001b[0;34m\u001b[0m\u001b[0m\n\u001b[1;32m     54\u001b[0m \u001b[0max\u001b[0m\u001b[0;34m.\u001b[0m\u001b[0mspines\u001b[0m\u001b[0;34m[\u001b[0m\u001b[0;34m\"bottom\"\u001b[0m\u001b[0;34m]\u001b[0m\u001b[0;34m.\u001b[0m\u001b[0mset_linewidth\u001b[0m\u001b[0;34m(\u001b[0m\u001b[0;36m3\u001b[0m\u001b[0;34m)\u001b[0m\u001b[0;34m\u001b[0m\u001b[0;34m\u001b[0m\u001b[0m\n",
      "\u001b[0;31mNameError\u001b[0m: name 'ax' is not defined"
     ]
    },
    {
     "data": {
      "text/plain": [
       "<Figure size 720x576 with 0 Axes>"
      ]
     },
     "metadata": {},
     "output_type": "display_data"
    }
   ],
   "source": [
    "for i in history.history:\n",
    "    print(\"history\",i)\n",
    "# facecolor='black'\n",
    "# ax= figDB1.add_axes((1,1,1,1))\n",
    "# ax.spines[\"top\"].set_position((\"outward\", 0))\n",
    "# ax.spines[\"bottom\"].set_position((\"data\", 0))\n",
    "# ax.spines[\"left\"].set_position((\"axes\", 0))\n",
    "# ax.spines[\"right\"].set_position((\"outward\", 0))\n",
    "\n",
    "# ax.spines[\"top\"].set_color(\"black\")\n",
    "# ax.spines[\"left\"].set_color(\"black\")\n",
    "# ax.spines[\"right\"].set_color(\"black\")\n",
    "# ax.spines[\"bottom\"].set_color(\"black\") \n",
    "\n",
    "figDB1=plt.figure(figsize=(10, 8),edgecolor='black')\n",
    "font = {'family' : 'normal',\n",
    "        'weight' : 'bold',\n",
    "        'size'   : 28}\n",
    "\n",
    "plt.rc('font', **font)\n",
    "\n",
    "# SMALL_SIZE = 12\n",
    "# MEDIUM_SIZE = 14\n",
    "# BIGGER_SIZE = 18\n",
    "\n",
    "# figBPR.suptitle('test title', fontsize=20)\n",
    "#plt.rc('xlabel', fontsize=14, weight = 'bold')\n",
    "#plt.rc('ylabel', fontsize=14, weight = 'bold')\n",
    "\n",
    "# plt.rc('font', size=BIGGER_SIZE)          # controls default text sizes\n",
    "# plt.rc('axes', labelsize=MEDIUM_SIZE )     # fontsize of the axes title\n",
    "# plt.rc('axes', labelsize=MEDIUM_SIZE, weight = 'bold')    # fontsize of the x and y labels\n",
    "# plt.rc('xtick', labelsize=MEDIUM_SIZE)    # fontsize of the tick labels\n",
    "# plt.rc('ytick', labelsize=MEDIUM_SIZE)    # fontsize of the tick labels\n",
    "# plt.rc('legend', fontsize=MEDIUM_SIZE)    # legend fontsize\n",
    "# plt.rc('figure', titlesize=BIGGER_SIZE )  # fontsize of the figure title\n",
    "\n",
    "# ax=figDB1.add_axes((\"left\", \"bottom\", \"width\", \"height\"))\n",
    "# ax= figDB1.add_axes((1,1,1,1))\n",
    "# ax.spines[\"top\"].set_position((\"outward\", 0))\n",
    "# ax.spines[\"bottom\"].set_position((\"data\", 0))\n",
    "# ax.spines[\"left\"].set_position((\"axes\", 0))\n",
    "# ax.spines[\"right\"].set_position((\"outward\", 0))\n",
    "\n",
    "# ax.spines[\"top\"].set_color(\"black\")\n",
    "# ax.spines[\"left\"].set_color(\"black\")\n",
    "# ax.spines[\"right\"].set_color(\"black\")\n",
    "# ax.spines[\"bottom\"].set_color(\"black\")\n",
    "\n",
    "# ax.spines[\"left\"].set_bounds(-.5, .5)\n",
    "# ax.spines[\"right\"].set_linestyle(\"--\")\n",
    "ax.spines[\"top\"].set_linewidth(3)\n",
    "ax.spines[\"top\"].set_linestyle(\"-\")\n",
    "ax.spines[\"bottom\"].set_linewidth(3)\n",
    "ax.spines[\"bottom\"].set_linestyle(\"-\")\n",
    "ax.spines[\"left\"].set_linewidth(3)\n",
    "ax.spines[\"left\"].set_linestyle(\"-\")\n",
    "ax.spines[\"right\"].set_linewidth(3)\n",
    "ax.spines[\"right\"].set_linestyle(\"-\")\n",
    "# ax.spines[\"bottom\"].set_capstyle(\"round\")\n",
    "\n",
    "# plt2.rcParams['figure.facecolor'] = 'white'\n",
    "plt.plot(history.history['loss'], 'r-', linewidth=3, label='Loss on training data')\n",
    "plt.plot(history.history['val_loss'], 'b-', linewidth=3, label='Loss on validation data')\n",
    "# plt.title('Loss curve for NinaPro DB1',fontsize=18, weight = 'bold')\n",
    "\n",
    "plt.ylabel('Loss',fontsize=30, weight = 'bold')\n",
    "plt.xlabel('no. of training epochs',fontsize=30, weight = 'bold')\n",
    "# plt2.ylim(0)\n",
    "# plt2.rcParams['figure.facecolor'] = 'white'\n",
    "\n",
    "# ax = fig.add_axes((left, bottom, width, height))\n",
    "ax.set(facecolor=\"white\")\n",
    "# ax.patch.set_alpha(1.0)\n",
    "plt.ylim(0)\n",
    "plt.legend()\n",
    "plt.show()"
   ]
  },
  {
   "cell_type": "code",
   "execution_count": null,
   "metadata": {},
   "outputs": [],
   "source": [
    "# figDB1.savefig('/media/naveen/nav/plots/UCI_sEMG_36_25X20.eps',transparent=False)\n",
    "# figDB1.savefig('/media/naveen/nav/plots/NinaPro_DB1_25X20.pdf',transparent=False)"
   ]
  },
  {
   "cell_type": "code",
   "execution_count": 45,
   "metadata": {},
   "outputs": [
    {
     "name": "stdout",
     "output_type": "stream",
     "text": [
      "27/27 [==============================] - 0s 4ms/step - loss: 1.8549 - accuracy: 0.5349\n",
      "test_accuracy 0.5348837375640869\n"
     ]
    }
   ],
   "source": [
    "model.load_weights(checkpoint_filepath) \n",
    "_, testaccuracy = model.evaluate(x_test, y_test_hot, batch_size=batch_size, verbose=1)\n",
    "print('test_accuracy',testaccuracy)"
   ]
  },
  {
   "cell_type": "code",
   "execution_count": 46,
   "metadata": {},
   "outputs": [],
   "source": [
    "checkpoint_filepath2 = '/media/naveen/nav/mat_codes/EMG_data_for_gestures-master/CNN25X20/checkpoint.hdf5'"
   ]
  },
  {
   "cell_type": "code",
   "execution_count": 47,
   "metadata": {},
   "outputs": [],
   "source": [
    "filepath2 ='/media/naveen/nav/mat_codes/EMG_data_for_gestures-master/CNN25X20/CNN_LSTM_nina_5X97'"
   ]
  },
  {
   "cell_type": "code",
   "execution_count": 48,
   "metadata": {},
   "outputs": [],
   "source": [
    "loaded_model = tf.keras.models.load_model(filepath2)"
   ]
  },
  {
   "cell_type": "code",
   "execution_count": 49,
   "metadata": {},
   "outputs": [
    {
     "name": "stdout",
     "output_type": "stream",
     "text": [
      "              precision    recall  f1-score   support\n",
      "\n",
      "           0       0.74      0.97      0.84        36\n",
      "           1       0.52      0.31      0.39        36\n",
      "           2       0.27      0.19      0.23        36\n",
      "           3       0.42      0.61      0.50        36\n",
      "           4       0.62      0.67      0.64        36\n",
      "           5       0.53      0.46      0.49        35\n",
      "\n",
      "    accuracy                           0.53       215\n",
      "   macro avg       0.52      0.53      0.51       215\n",
      "weighted avg       0.52      0.53      0.51       215\n",
      "\n"
     ]
    }
   ],
   "source": [
    "y_pred_test = model.predict(x_test)\n",
    "# Take the class with the highest probability from the test predictions\n",
    "max_y_pred_test = np.argmax(y_pred_test, axis=1)\n",
    "max_y_test = np.argmax(y_test_hot, axis=1)\n",
    "# show_confusion_matrix(max_y_test, max_y_pred_test)\n",
    "print(classification_report(max_y_test, max_y_pred_test))"
   ]
  },
  {
   "cell_type": "code",
   "execution_count": 50,
   "metadata": {},
   "outputs": [
    {
     "name": "stdout",
     "output_type": "stream",
     "text": [
      "              precision    recall  f1-score   support\n",
      "\n",
      "           0       0.00      0.00      0.00        36\n",
      "           1       0.00      0.00      0.00        36\n",
      "           2       0.07      0.06      0.06        36\n",
      "           3       0.00      0.00      0.00        36\n",
      "           4       0.03      0.03      0.03        36\n",
      "           5       0.18      0.31      0.23        35\n",
      "\n",
      "    accuracy                           0.07       215\n",
      "   macro avg       0.05      0.07      0.05       215\n",
      "weighted avg       0.05      0.07      0.05       215\n",
      "\n"
     ]
    }
   ],
   "source": [
    "y_pred_test1 = loaded_model.predict(x_test)\n",
    "# Take the class with the highest probability from the test predictions\n",
    "max_y_pred_test1 = np.argmax(y_pred_test1, axis=1)\n",
    "max_y_test = np.argmax(y_test_hot, axis=1)\n",
    "# show_confusion_matrix(max_y_test, max_y_pred_test)\n",
    "print(classification_report(max_y_test, max_y_pred_test1))"
   ]
  },
  {
   "cell_type": "code",
   "execution_count": null,
   "metadata": {},
   "outputs": [],
   "source": []
  },
  {
   "cell_type": "code",
   "execution_count": 51,
   "metadata": {},
   "outputs": [
    {
     "ename": "ValueError",
     "evalue": "You are trying to load a weight file containing 13 layers into a model with 4 layers.",
     "output_type": "error",
     "traceback": [
      "\u001b[0;31m---------------------------------------------------------------------------\u001b[0m",
      "\u001b[0;31mValueError\u001b[0m                                Traceback (most recent call last)",
      "\u001b[0;32m<ipython-input-51-d13044e8b85f>\u001b[0m in \u001b[0;36m<module>\u001b[0;34m\u001b[0m\n\u001b[0;32m----> 1\u001b[0;31m \u001b[0mmodel_naveen\u001b[0m \u001b[0;34m=\u001b[0m \u001b[0mmodel\u001b[0m\u001b[0;34m.\u001b[0m\u001b[0mload_weights\u001b[0m\u001b[0;34m(\u001b[0m\u001b[0mcheckpoint_filepath2\u001b[0m\u001b[0;34m)\u001b[0m\u001b[0;34m\u001b[0m\u001b[0;34m\u001b[0m\u001b[0m\n\u001b[0m\u001b[1;32m      2\u001b[0m \u001b[0m_\u001b[0m\u001b[0;34m,\u001b[0m \u001b[0mtestaccuracy\u001b[0m \u001b[0;34m=\u001b[0m \u001b[0mmodel\u001b[0m\u001b[0;34m.\u001b[0m\u001b[0mevaluate\u001b[0m\u001b[0;34m(\u001b[0m\u001b[0mx_test\u001b[0m\u001b[0;34m,\u001b[0m \u001b[0my_test_hot\u001b[0m\u001b[0;34m,\u001b[0m \u001b[0mbatch_size\u001b[0m\u001b[0;34m=\u001b[0m\u001b[0mbatch_size\u001b[0m\u001b[0;34m,\u001b[0m \u001b[0mverbose\u001b[0m\u001b[0;34m=\u001b[0m\u001b[0;36m1\u001b[0m\u001b[0;34m)\u001b[0m\u001b[0;34m\u001b[0m\u001b[0;34m\u001b[0m\u001b[0m\n\u001b[1;32m      3\u001b[0m \u001b[0mprint\u001b[0m\u001b[0;34m(\u001b[0m\u001b[0;34m'test_accuracy'\u001b[0m\u001b[0;34m,\u001b[0m\u001b[0mtestaccuracy\u001b[0m\u001b[0;34m)\u001b[0m\u001b[0;34m\u001b[0m\u001b[0;34m\u001b[0m\u001b[0m\n",
      "\u001b[0;32m~/anaconda3/envs/ds_tf_gpu/lib/python3.8/site-packages/tensorflow/python/keras/engine/training.py\u001b[0m in \u001b[0;36mload_weights\u001b[0;34m(self, filepath, by_name, skip_mismatch, options)\u001b[0m\n\u001b[1;32m   2232\u001b[0m             f, self.layers, skip_mismatch=skip_mismatch)\n\u001b[1;32m   2233\u001b[0m       \u001b[0;32melse\u001b[0m\u001b[0;34m:\u001b[0m\u001b[0;34m\u001b[0m\u001b[0;34m\u001b[0m\u001b[0m\n\u001b[0;32m-> 2234\u001b[0;31m         \u001b[0mhdf5_format\u001b[0m\u001b[0;34m.\u001b[0m\u001b[0mload_weights_from_hdf5_group\u001b[0m\u001b[0;34m(\u001b[0m\u001b[0mf\u001b[0m\u001b[0;34m,\u001b[0m \u001b[0mself\u001b[0m\u001b[0;34m.\u001b[0m\u001b[0mlayers\u001b[0m\u001b[0;34m)\u001b[0m\u001b[0;34m\u001b[0m\u001b[0;34m\u001b[0m\u001b[0m\n\u001b[0m\u001b[1;32m   2235\u001b[0m \u001b[0;34m\u001b[0m\u001b[0m\n\u001b[1;32m   2236\u001b[0m   \u001b[0;32mdef\u001b[0m \u001b[0m_updated_config\u001b[0m\u001b[0;34m(\u001b[0m\u001b[0mself\u001b[0m\u001b[0;34m)\u001b[0m\u001b[0;34m:\u001b[0m\u001b[0;34m\u001b[0m\u001b[0;34m\u001b[0m\u001b[0m\n",
      "\u001b[0;32m~/anaconda3/envs/ds_tf_gpu/lib/python3.8/site-packages/tensorflow/python/keras/saving/hdf5_format.py\u001b[0m in \u001b[0;36mload_weights_from_hdf5_group\u001b[0;34m(f, layers)\u001b[0m\n\u001b[1;32m    683\u001b[0m   \u001b[0mlayer_names\u001b[0m \u001b[0;34m=\u001b[0m \u001b[0mfiltered_layer_names\u001b[0m\u001b[0;34m\u001b[0m\u001b[0;34m\u001b[0m\u001b[0m\n\u001b[1;32m    684\u001b[0m   \u001b[0;32mif\u001b[0m \u001b[0mlen\u001b[0m\u001b[0;34m(\u001b[0m\u001b[0mlayer_names\u001b[0m\u001b[0;34m)\u001b[0m \u001b[0;34m!=\u001b[0m \u001b[0mlen\u001b[0m\u001b[0;34m(\u001b[0m\u001b[0mfiltered_layers\u001b[0m\u001b[0;34m)\u001b[0m\u001b[0;34m:\u001b[0m\u001b[0;34m\u001b[0m\u001b[0;34m\u001b[0m\u001b[0m\n\u001b[0;32m--> 685\u001b[0;31m     raise ValueError('You are trying to load a weight file '\n\u001b[0m\u001b[1;32m    686\u001b[0m                      \u001b[0;34m'containing '\u001b[0m \u001b[0;34m+\u001b[0m \u001b[0mstr\u001b[0m\u001b[0;34m(\u001b[0m\u001b[0mlen\u001b[0m\u001b[0;34m(\u001b[0m\u001b[0mlayer_names\u001b[0m\u001b[0;34m)\u001b[0m\u001b[0;34m)\u001b[0m \u001b[0;34m+\u001b[0m\u001b[0;34m\u001b[0m\u001b[0;34m\u001b[0m\u001b[0m\n\u001b[1;32m    687\u001b[0m                      \u001b[0;34m' layers into a model with '\u001b[0m \u001b[0;34m+\u001b[0m \u001b[0mstr\u001b[0m\u001b[0;34m(\u001b[0m\u001b[0mlen\u001b[0m\u001b[0;34m(\u001b[0m\u001b[0mfiltered_layers\u001b[0m\u001b[0;34m)\u001b[0m\u001b[0;34m)\u001b[0m \u001b[0;34m+\u001b[0m\u001b[0;34m\u001b[0m\u001b[0;34m\u001b[0m\u001b[0m\n",
      "\u001b[0;31mValueError\u001b[0m: You are trying to load a weight file containing 13 layers into a model with 4 layers."
     ]
    }
   ],
   "source": [
    "# model_naveen = model.load_weights(checkpoint_filepath2) \n",
    "# _, testaccuracy = model.evaluate(x_test, y_test_hot, batch_size=batch_size, verbose=1)\n",
    "# print('test_accuracy',testaccuracy)"
   ]
  },
  {
   "cell_type": "code",
   "execution_count": null,
   "metadata": {},
   "outputs": [],
   "source": []
  },
  {
   "cell_type": "code",
   "execution_count": null,
   "metadata": {},
   "outputs": [],
   "source": [
    "y_pred_train = model.predict(x_train)\n",
    "# Take the class with the highest probability from the train predictions\n",
    "max_y_pred_train = np.argmax(y_pred_train, axis=1)\n",
    "#max_y_train = np.argmax(y_train, axis=1)\n",
    "show_confusion_matrix(y_train, max_y_pred_train)\n",
    "print(classification_report(y_train, max_y_pred_train))"
   ]
  },
  {
   "cell_type": "code",
   "execution_count": 52,
   "metadata": {},
   "outputs": [
    {
     "name": "stderr",
     "output_type": "stream",
     "text": [
      "findfont: Font family ['normal'] not found. Falling back to DejaVu Sans.\n",
      "findfont: Font family ['normal'] not found. Falling back to DejaVu Sans.\n",
      "findfont: Font family ['normal'] not found. Falling back to DejaVu Sans.\n"
     ]
    },
    {
     "data": {
      "image/png": "[encoded data removed]",
      "text/plain": [
       "<Figure size 1440x1008 with 2 Axes>"
      ]
     },
     "metadata": {
      "needs_background": "light"
     },
     "output_type": "display_data"
    },
    {
     "name": "stdout",
     "output_type": "stream",
     "text": [
      "              precision    recall  f1-score   support\n",
      "\n",
      "           0       0.74      0.97      0.84        36\n",
      "           1       0.52      0.31      0.39        36\n",
      "           2       0.27      0.19      0.23        36\n",
      "           3       0.42      0.61      0.50        36\n",
      "           4       0.62      0.67      0.64        36\n",
      "           5       0.53      0.46      0.49        35\n",
      "\n",
      "    accuracy                           0.53       215\n",
      "   macro avg       0.52      0.53      0.51       215\n",
      "weighted avg       0.52      0.53      0.51       215\n",
      "\n"
     ]
    }
   ],
   "source": [
    "fopen = open(\"/media/naveen/nav/mat_codes/EMG_data_for_gestures-master/olsson/CNN25X20/olsson_test.csv\",\"a\")\n",
    "y_pred_test = model.predict(x_test)\n",
    "# Take the class with the highest probability from the test predictions\n",
    "max_y_pred_test = np.argmax(y_pred_test, axis=1)\n",
    "max_y_test = np.argmax(y_test_hot, axis=1)\n",
    "for i in range(0, len(max_y_pred_test)):\n",
    "    fopen.writelines(str(max_y_test[i])+\",\"+str(max_y_pred_test[i])+\"\\n\")\n",
    "show_confusion_matrix(max_y_test, max_y_pred_test)\n",
    "print(classification_report(max_y_test, max_y_pred_test))\n",
    "fopen.close()"
   ]
  },
  {
   "cell_type": "code",
   "execution_count": null,
   "metadata": {},
   "outputs": [],
   "source": []
  },
  {
   "cell_type": "code",
   "execution_count": null,
   "metadata": {},
   "outputs": [],
   "source": []
  },
  {
   "cell_type": "code",
   "execution_count": null,
   "metadata": {},
   "outputs": [],
   "source": []
  }
 ],
 "metadata": {
  "kernelspec": {
   "display_name": "Python 3",
   "language": "python",
   "name": "python3"
  },
  "language_info": {
   "codemirror_mode": {
    "name": "ipython",
    "version": 3
   },
   "file_extension": ".py",
   "mimetype": "text/x-python",
   "name": "python",
   "nbconvert_exporter": "python",
   "pygments_lexer": "ipython3",
   "version": "3.8.2"
  }
 },
 "nbformat": 4,
 "nbformat_minor": 4
}
